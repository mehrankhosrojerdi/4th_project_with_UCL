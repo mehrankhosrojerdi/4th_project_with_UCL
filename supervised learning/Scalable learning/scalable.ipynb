{
 "cells": [
  {
   "cell_type": "code",
   "execution_count": 1,
   "id": "4744a76b",
   "metadata": {},
   "outputs": [],
   "source": [
    "import pandas as pd\n",
    "pd.set_option('display.max_rows', None)\n",
    "import matplotlib.pyplot as plt\n",
    "from sklearn import svm\n",
    "import matplotlib.pyplot as plt\n",
    "from Haldane_anis_supervise_class import *\n",
    "from partial import *"
   ]
  },
  {
   "cell_type": "code",
   "execution_count": null,
   "id": "c2a11e55",
   "metadata": {},
   "outputs": [],
   "source": [
    "L = 10  # number of particles must be odd\n",
    "keep = [1,2,3] # keep the part that we wanna do partial trace over that\n",
    "bond = 10  # reasonable amount\n",
    "p = partial(L, keep, bond)"
   ]
  },
  {
   "cell_type": "code",
   "execution_count": 3,
   "id": "89c6dbc3",
   "metadata": {},
   "outputs": [
    {
     "name": "stdout",
     "output_type": "stream",
     "text": [
      "Starting dataset generation — this step includes both the training and test sets. Please be patient...\n"
     ]
    },
    {
     "name": "stderr",
     "output_type": "stream",
     "text": [
      "Generating train set: 100%|██████████| 187/187 [00:16<00:00, 11.65it/s]"
     ]
    },
    {
     "name": "stdout",
     "output_type": "stream",
     "text": [
      "Train_set is generated in 16.11 seconds.\n"
     ]
    },
    {
     "name": "stderr",
     "output_type": "stream",
     "text": [
      "\n"
     ]
    }
   ],
   "source": [
    "train_set = p.generate_dataset()"
   ]
  },
  {
   "cell_type": "code",
   "execution_count": 4,
   "id": "72b6d47b",
   "metadata": {},
   "outputs": [
    {
     "name": "stderr",
     "output_type": "stream",
     "text": [
      "Gram Partial Train: 100%|██████████| 34969/34969 [00:00<00:00, 70949.28it/s]\n"
     ]
    }
   ],
   "source": [
    "MPS_train = train_set[0]\n",
    "d = len(MPS_train)  # dimension of the local Hilbert space\n",
    "lst=[]\n",
    "for i in range(d):\n",
    "    a = MPS_train[i].partial_trace_to_dense_canonical(where=keep)\n",
    "    lst.append(a)\n",
    "MPS_train = lst\n",
    "\n",
    "gram_train = np.zeros((d, d))\n",
    "\n",
    "for idx in tqdm(range(d * d), desc='Gram Partial Train'):\n",
    "    i = idx // d\n",
    "    j = idx % d\n",
    "    if j >= i:\n",
    "        gram_train[i, j] = gram_train[j, i] = (np.trace(MPS_train[i] @ MPS_train[j]).real)**2"
   ]
  },
  {
   "cell_type": "code",
   "execution_count": 5,
   "id": "e8fe2e5e",
   "metadata": {},
   "outputs": [],
   "source": [
    "L = len(keep) #number of particles must be odd"
   ]
  },
  {
   "cell_type": "code",
   "execution_count": 6,
   "id": "dfce740a",
   "metadata": {},
   "outputs": [
    {
     "name": "stderr",
     "output_type": "stream",
     "text": [
      "Generating test set: 100%|██████████| 1600/1600 [00:15<00:00, 100.94it/s]\n"
     ]
    }
   ],
   "source": [
    "testset = Haldan_anis(L = L, bond = bond).generate_test_set()\n"
   ]
  },
  {
   "cell_type": "code",
   "execution_count": 7,
   "id": "2e959db3",
   "metadata": {},
   "outputs": [],
   "source": [
    "\n",
    "d = len(testset)  # dimension of the local Hilbert space\n",
    "lst=[]\n",
    "for i in range(d):\n",
    "    a = testset[i].partial_trace_to_dense_canonical(where=[0,1,2])\n",
    "    lst.append(a)\n",
    "partial_trace_test = lst"
   ]
  },
  {
   "cell_type": "code",
   "execution_count": 8,
   "id": "ea56cc06",
   "metadata": {},
   "outputs": [
    {
     "name": "stderr",
     "output_type": "stream",
     "text": [
      "Gram Partial Test: 100%|██████████| 1600/1600 [00:07<00:00, 213.32it/s]\n"
     ]
    }
   ],
   "source": [
    "d1 = len(partial_trace_test)\n",
    "d2 = len(MPS_train)\n",
    "gram_matrix_test = np.zeros((d1,d2))\n",
    "for i in tqdm(range(d1), desc='Gram Partial Test'):\n",
    "    for j in range(d2):\n",
    "        gram_matrix_test[i,j] = (np.trace(partial_trace_test[i] @ MPS_train[j]).real)**2"
   ]
  },
  {
   "cell_type": "code",
   "execution_count": 9,
   "id": "d4546bd9",
   "metadata": {},
   "outputs": [
    {
     "data": {
      "image/png": "[encoded data removed]",
      "text/plain": [
       "<Figure size 640x480 with 1 Axes>"
      ]
     },
     "metadata": {},
     "output_type": "display_data"
    }
   ],
   "source": [
    "clf = svm.SVC(kernel='precomputed')\n",
    "kernel_train = gram_train\n",
    "kernel_test = gram_matrix_test\n",
    "y = train_set[1]\n",
    "clf.fit(kernel_train**0.1, y) \n",
    "y_pred = clf.predict(kernel_test)\n",
    "plt.imshow(y_pred.reshape(40,40))\n",
    "plt.savefig(f'result for DMRG states with L={L} and bond dimension ={bond}.png')\n",
    "plt.show()"
   ]
  }
 ],
 "metadata": {
  "kernelspec": {
   "display_name": "QML_TN",
   "language": "python",
   "name": "python3"
  },
  "language_info": {
   "codemirror_mode": {
    "name": "ipython",
    "version": 3
   },
   "file_extension": ".py",
   "mimetype": "text/x-python",
   "name": "python",
   "nbconvert_exporter": "python",
   "pygments_lexer": "ipython3",
   "version": "3.12.3"
  }
 },
 "nbformat": 4,
 "nbformat_minor": 5
}
