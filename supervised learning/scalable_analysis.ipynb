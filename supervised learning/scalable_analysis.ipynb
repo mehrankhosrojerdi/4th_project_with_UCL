{
 "cells": [
  {
   "cell_type": "code",
   "execution_count": 1,
   "metadata": {},
   "outputs": [],
   "source": [
    "import pandas as pd\n",
    "pd.set_option('display.max_rows', None)\n",
    "import matplotlib.pyplot as plt\n",
    "from sklearn import svm\n",
    "import matplotlib.pyplot as plt\n",
    "from Haldane_anis_supervise_class import *\n",
    "from partial import *"
   ]
  },
  {
   "cell_type": "code",
   "execution_count": 2,
   "metadata": {},
   "outputs": [],
   "source": [
    "import numpy as np\n",
    "import matplotlib.pyplot as plt\n",
    "\n",
    "# Define ranges for E and D\n",
    "E = np.arange(-2, 2, 0.1)\n",
    "D = np.arange(-2, 2, 0.1)\n",
    "\n",
    "# Lists to store points and targets\n",
    "lst_points = []\n",
    "lst_target = []\n",
    "\n",
    "# Loop through E and D and classify points\n",
    "for e in E:\n",
    "    if 0.8 < e < 2:\n",
    "        lst_points.append([-2, e])\n",
    "        lst_target.append(1)  # 'large_ex'\n",
    "    elif -0.8 < e < 0.8:\n",
    "        lst_points.append([-2, e])\n",
    "        lst_target.append(3)  # 'z_neel'\n",
    "    elif -2 < e < -0.8:\n",
    "        lst_points.append([-2, e])\n",
    "        lst_target.append(2)  # 'large_ey'\n",
    "\n",
    "\n",
    "for e in E:\n",
    "    if -2 < e < -0.4:\n",
    "        lst_points.append([2, e])\n",
    "        lst_target.append(4)  # 'x_neel'\n",
    "    elif -0.4 < e < 0.4:\n",
    "        lst_points.append([2, e])\n",
    "        lst_target.append(5)  # 'large_d'\n",
    "    elif 0.4 < e < 2.0:\n",
    "        lst_points.append([2.0, e])\n",
    "        lst_target.append(6)  # 'y_neel'\n",
    "\n",
    "\n",
    "for d in D:\n",
    "    if -2 < d < 0.2:\n",
    "        lst_points.append([d, 2])\n",
    "        lst_target.append(1)  # 'large_ex'\n",
    "    elif 0.2 < d < 2.0:\n",
    "        lst_points.append([d, 2.0])\n",
    "        lst_target.append(6)  # 'y_neel'\n",
    "\n",
    "for d in D:\n",
    "    if -2 < d < 0.2:\n",
    "        lst_points.append([d, -2])\n",
    "        lst_target.append(2)  # 'large_ey'\n",
    "    elif 0.2 < d < 2.0:\n",
    "        lst_points.append([d, -2])\n",
    "        lst_target.append(4)  # 'x_neel'\n",
    "\n",
    "for d in np.arange(-2, -0.5, 0.1):  # Added step size 0.1\n",
    "    lst_points.append([d, 0.0])\n",
    "    lst_target.append(3) \n",
    "\n",
    "for d in np.arange(1.3, 2, 0.1):\n",
    "    lst_points.append([d, 0.0])\n",
    "    lst_target.append(5)  # 'large_d'\n",
    "\n",
    "for d in np.arange(-0.2, 0.6, 0.1):\n",
    "    lst_points.append([d, 0.0])\n",
    "    lst_target.append(7) #'Haldane'\n",
    "\n",
    "\n",
    "poi = np.array(lst_points)\n",
    "targets = np.array(lst_target)\n"
   ]
  },
  {
   "cell_type": "code",
   "execution_count": 3,
   "metadata": {},
   "outputs": [
    {
     "name": "stderr",
     "output_type": "stream",
     "text": [
      "/tmp/ipykernel_15751/528293740.py:8: FutureWarning: Series.__getitem__ treating keys as positions is deprecated. In a future version, integer keys will always be treated as labels (consistent with DataFrame behavior). To access a value by position, use `ser.iloc[pos]`\n",
      "  if point[0]>-0.3:\n",
      "/tmp/ipykernel_15751/528293740.py:10: FutureWarning: Series.__getitem__ treating keys as positions is deprecated. In a future version, integer keys will always be treated as labels (consistent with DataFrame behavior). To access a value by position, use `ser.iloc[pos]`\n",
      "  elif point[1]>0.825081:\n",
      "/tmp/ipykernel_15751/528293740.py:12: FutureWarning: Series.__getitem__ treating keys as positions is deprecated. In a future version, integer keys will always be treated as labels (consistent with DataFrame behavior). To access a value by position, use `ser.iloc[pos]`\n",
      "  elif point[1]<-0.825081:\n",
      "/tmp/ipykernel_15751/528293740.py:21: FutureWarning: Series.__getitem__ treating keys as positions is deprecated. In a future version, integer keys will always be treated as labels (consistent with DataFrame behavior). To access a value by position, use `ser.iloc[pos]`\n",
      "  if point[0]>1 or point[0]<-1:\n",
      "/tmp/ipykernel_15751/528293740.py:31: FutureWarning: Series.__getitem__ treating keys as positions is deprecated. In a future version, integer keys will always be treated as labels (consistent with DataFrame behavior). To access a value by position, use `ser.iloc[pos]`\n",
      "  if point[0]<0.7:\n"
     ]
    }
   ],
   "source": [
    "data = pd.read_csv('../original_phase_diagram.csv')\n",
    "points = data.drop_duplicates()\n",
    "points = points.dropna()\n",
    "points = points.reset_index(drop=True)\n",
    "\n",
    "drop_idx_1 = [86,88]\n",
    "for i, point in points.iterrows():\n",
    "    if point[0]>-0.3:\n",
    "        drop_idx_1.append(i)\n",
    "    elif point[1]>0.825081:\n",
    "        drop_idx_1.append(i)\n",
    "    elif point[1]<-0.825081:\n",
    "        drop_idx_1.append(i)\n",
    "first_part = points.drop(drop_idx_1)\n",
    "first_part = first_part.sort_values('y')\n",
    "lst_1 = first_part.index.to_list()\n",
    "\n",
    "drop_idx_2 = []\n",
    "drop_idx_2.extend(lst_1)\n",
    "for i, point in points.iterrows():\n",
    "    if point[0]>1 or point[0]<-1:\n",
    "        drop_idx_2.append(i)\n",
    "drop_idx_2.remove(120)\n",
    "drop_idx_2.remove(122)\n",
    "second_part = points.drop(drop_idx_2)\n",
    "second_part = second_part.sort_values('y')\n",
    "lst_2 = second_part.index.to_list()\n",
    "\n",
    "drop_idx_3 =[]\n",
    "for i, point in points.iterrows():\n",
    "    if point[0]<0.7:\n",
    "        drop_idx_3.append(i)\n",
    "third_part = points.drop(drop_idx_3)\n",
    "third_part = third_part.sort_values('y')\n"
   ]
  },
  {
   "cell_type": "code",
   "execution_count": 4,
   "metadata": {},
   "outputs": [],
   "source": [
    "import numpy as np\n",
    "import matplotlib.pyplot as plt\n",
    "\n",
    "# Define ranges for E and D\n",
    "E = np.arange(-2, 2, 0.1)\n",
    "D = np.arange(-2, 2, 0.1)\n",
    "\n",
    "# Lists to store points and targets\n",
    "lst_points = []\n",
    "lst_target = []\n",
    "\n",
    "# Loop through E and D and classify points\n",
    "for e in E:\n",
    "    if 0.8 < e < 2:\n",
    "        lst_points.append([-2, e])\n",
    "        lst_target.append(1)  # 'large_ex'\n",
    "    elif -0.8 < e < 0.8:\n",
    "        lst_points.append([-2, e])\n",
    "        lst_target.append(3)  # 'z_neel'\n",
    "    elif -2 < e < -0.8:\n",
    "        lst_points.append([-2, e])\n",
    "        lst_target.append(2)  # 'large_ey'\n",
    "\n",
    "\n",
    "for e in E:\n",
    "    if -2 < e < -0.4:\n",
    "        lst_points.append([2, e])\n",
    "        lst_target.append(4)  # 'x_neel'\n",
    "    elif -0.4 < e < 0.4:\n",
    "        lst_points.append([2, e])\n",
    "        lst_target.append(5)  # 'large_d'\n",
    "    elif 0.4 < e < 2.0:\n",
    "        lst_points.append([2.0, e])\n",
    "        lst_target.append(6)  # 'y_neel'\n",
    "\n",
    "\n",
    "for d in D:\n",
    "    if -2 < d < 0.2:\n",
    "        lst_points.append([d, 2])\n",
    "        lst_target.append(1)  # 'large_ex'\n",
    "    elif 0.2 < d < 2.0:\n",
    "        lst_points.append([d, 2.0])\n",
    "        lst_target.append(6)  # 'y_neel'\n",
    "\n",
    "for d in D:\n",
    "    if -2 < d < 0.2:\n",
    "        lst_points.append([d, -2])\n",
    "        lst_target.append(2)  # 'large_ey'\n",
    "    elif 0.2 < d < 2.0:\n",
    "        lst_points.append([d, -2])\n",
    "        lst_target.append(4)  # 'x_neel'\n",
    "\n",
    "for d in np.arange(-2, -0.5, 0.1):  # Added step size 0.1\n",
    "    lst_points.append([d, 0.0])\n",
    "    lst_target.append(3) \n",
    "\n",
    "for d in np.arange(0.9, 2, 0.1):\n",
    "    lst_points.append([d, 0.0])\n",
    "    lst_target.append(5)  # 'large_d'\n",
    "\n",
    "for d in np.arange(-0.2, 0.6, 0.1):\n",
    "    lst_points.append([d, 0.0])\n",
    "    lst_target.append(7) #'Haldane'\n",
    "\n",
    "\n",
    "points = np.array(lst_points)\n",
    "targets = np.array(lst_target)\n"
   ]
  },
  {
   "cell_type": "code",
   "execution_count": 21,
   "metadata": {},
   "outputs": [
    {
     "data": {
      "image/png": "[encoded data removed]",
      "text/plain": [
       "<Figure size 640x480 with 1 Axes>"
      ]
     },
     "metadata": {},
     "output_type": "display_data"
    }
   ],
   "source": [
    "\n",
    "path = f\"./dataset_L=51_bond=50_partial(keeping 1 sites)\"\n",
    "file_path_kernel_train_DMRG= os.path.join(path, \"kernel_train_Haldane_DMRG_partial_1spins.hdf5\")\n",
    "file_path_kernel_test_DMRG= os.path.join(path, \"kernel_test_scalable_from_0_to_0.hdf5\")\n",
    "\n",
    "\n",
    "with h5py.File(file_path_kernel_train_DMRG, \"r\") as f:\n",
    "    kernel_train = f[\"gram_train_DMRG_partial\"][:] \n",
    "\n",
    "with h5py.File(file_path_kernel_test_DMRG, \"r\") as f:\n",
    "    kernel_test = f[\"gram_test_scalable\"][:] \n",
    "\n",
    "clf = svm.SVC(kernel='precomputed')\n",
    "y = targets\n",
    "clf.fit(kernel_train, y) \n",
    "y_pred = clf.predict(kernel_test)\n",
    "plt.imshow(y_pred.reshape(40,40))\n",
    "\n",
    "\n",
    "plt.savefig(f'keep 1 sites scalable.png')\n",
    "plt.show()"
   ]
  },
  {
   "cell_type": "code",
   "execution_count": 23,
   "metadata": {},
   "outputs": [
    {
     "data": {
      "image/png": "[encoded data removed]",
      "text/plain": [
       "<Figure size 640x480 with 1 Axes>"
      ]
     },
     "metadata": {},
     "output_type": "display_data"
    }
   ],
   "source": [
    "\n",
    "path = f\"./dataset_L=51_bond=50_partial(keeping 2 sites)\"\n",
    "file_path_kernel_train_DMRG= os.path.join(path, \"kernel_train_Haldane_DMRG_partial_2spins.hdf5\")\n",
    "file_path_kernel_test_DMRG= os.path.join(path, \"kernel_test_scalable_from_0_to_1.hdf5\")\n",
    "\n",
    "\n",
    "with h5py.File(file_path_kernel_train_DMRG, \"r\") as f:\n",
    "    kernel_train = f[\"gram_train_DMRG_partial\"][:] \n",
    "\n",
    "with h5py.File(file_path_kernel_test_DMRG, \"r\") as f:\n",
    "    kernel_test = f[\"gram_test_scalable\"][:] \n",
    "\n",
    "clf = svm.SVC(kernel='precomputed')\n",
    "y = targets\n",
    "clf.fit(kernel_train, y) \n",
    "y_pred = clf.predict(kernel_test)\n",
    "plt.imshow(y_pred.reshape(40,40))\n",
    "\n",
    "\n",
    "plt.savefig(f'keep 2 sites scalable.png')\n",
    "plt.show()"
   ]
  },
  {
   "cell_type": "code",
   "execution_count": 25,
   "metadata": {},
   "outputs": [
    {
     "data": {
      "image/png": "[encoded data removed]",
      "text/plain": [
       "<Figure size 640x480 with 1 Axes>"
      ]
     },
     "metadata": {},
     "output_type": "display_data"
    }
   ],
   "source": [
    "\n",
    "path = f\"./dataset_L=51_bond=50_partial(keeping 3 sites)\"\n",
    "file_path_kernel_train_DMRG= os.path.join(path, \"kernel_train_Haldane_DMRG_partial_3spins.hdf5\")\n",
    "file_path_kernel_test_DMRG= os.path.join(path, \"kernel_test_scalable_from_0_to_2.hdf5\")\n",
    "\n",
    "\n",
    "with h5py.File(file_path_kernel_train_DMRG, \"r\") as f:\n",
    "    kernel_train = f[\"gram_train_DMRG_partial\"][:] \n",
    "\n",
    "with h5py.File(file_path_kernel_test_DMRG, \"r\") as f:\n",
    "    kernel_test = f[\"gram_test_scalable\"][:] \n",
    "\n",
    "clf = svm.SVC(kernel='precomputed')\n",
    "y = targets\n",
    "clf.fit(kernel_train, y) \n",
    "y_pred = clf.predict(kernel_test)\n",
    "plt.imshow(y_pred.reshape(40,40))\n",
    "\n",
    "\n",
    "plt.savefig(f'keep 3 sites scalable.png')\n",
    "plt.show()"
   ]
  },
  {
   "cell_type": "code",
   "execution_count": 27,
   "metadata": {},
   "outputs": [
    {
     "data": {
      "image/png": "[encoded data removed]",
      "text/plain": [
       "<Figure size 640x480 with 1 Axes>"
      ]
     },
     "metadata": {},
     "output_type": "display_data"
    }
   ],
   "source": [
    "\n",
    "path = f\"./dataset_L=51_bond=50_partial(keeping 4 sites)\"\n",
    "file_path_kernel_train_DMRG= os.path.join(path, \"kernel_train_Haldane_DMRG_partial_4spins.hdf5\")\n",
    "file_path_kernel_test_DMRG= os.path.join(path, \"kernel_test_scalable_from_0_to_3.hdf5\")\n",
    "\n",
    "\n",
    "with h5py.File(file_path_kernel_train_DMRG, \"r\") as f:\n",
    "    kernel_train = f[\"gram_train_DMRG_partial\"][:] \n",
    "\n",
    "with h5py.File(file_path_kernel_test_DMRG, \"r\") as f:\n",
    "    kernel_test = f[\"gram_test_scalable\"][:] \n",
    "\n",
    "clf = svm.SVC(kernel='precomputed')\n",
    "y = targets\n",
    "clf.fit(kernel_train, y) \n",
    "y_pred = clf.predict(kernel_test)\n",
    "plt.imshow(y_pred.reshape(40,40))\n",
    "\n",
    "\n",
    "plt.savefig(f'keep 4 sites scalable.png')\n",
    "plt.show()"
   ]
  },
  {
   "cell_type": "code",
   "execution_count": 29,
   "metadata": {},
   "outputs": [
    {
     "data": {
      "image/png": "[encoded data removed]",
      "text/plain": [
       "<Figure size 640x480 with 1 Axes>"
      ]
     },
     "metadata": {},
     "output_type": "display_data"
    }
   ],
   "source": [
    "\n",
    "path = f\"./dataset_L=51_bond=50_partial(keeping 5 sites)\"\n",
    "file_path_kernel_train_DMRG= os.path.join(path, \"kernel_train_Haldane_DMRG_partial_5spins.hdf5\")\n",
    "file_path_kernel_test_DMRG= os.path.join(path, \"kernel_test_scalable_from_0_to_4.hdf5\")\n",
    "\n",
    "\n",
    "with h5py.File(file_path_kernel_train_DMRG, \"r\") as f:\n",
    "    kernel_train = f[\"gram_train_DMRG_partial\"][:] \n",
    "\n",
    "with h5py.File(file_path_kernel_test_DMRG, \"r\") as f:\n",
    "    kernel_test = f[\"gram_test_scalable\"][:] \n",
    "\n",
    "clf = svm.SVC(kernel='precomputed')\n",
    "y = targets\n",
    "clf.fit(kernel_train, y) \n",
    "y_pred = clf.predict(kernel_test)\n",
    "plt.imshow(y_pred.reshape(40,40))\n",
    "\n",
    "\n",
    "plt.savefig(f'keep 5 sites scalable.png')\n",
    "plt.show()"
   ]
  },
  {
   "cell_type": "code",
   "execution_count": 30,
   "metadata": {},
   "outputs": [
    {
     "data": {
      "image/png": "[encoded data removed]",
      "text/plain": [
       "<Figure size 640x480 with 1 Axes>"
      ]
     },
     "metadata": {},
     "output_type": "display_data"
    }
   ],
   "source": [
    "\n",
    "mat = y_pred.reshape(40,40)\n",
    "r = mat.shape[0]\n",
    "c = mat.shape[1]\n",
    "dx = 4/r\n",
    "dy = 4/c\n",
    "\n",
    "for j in range(c):\n",
    "    for i in range(r):\n",
    "        if mat[j,i] == 1:\n",
    "            plt.scatter((i*dx)+dx/2,(j*dy)+dy/2,marker = 's', color = 'steelblue',s=320, edgecolors='none')\n",
    "        elif mat[j,i] == 2:\n",
    "            plt.scatter((i*dx)+dx/2,(j*dy)+dy/2,marker = 's', color ='lightseagreen',s =320,  edgecolors='none')\n",
    "        elif mat[j,i] == 3:\n",
    "            plt.scatter((i*dx)+dx/2,(j*dy)+dy/2,marker = 's', color ='skyblue',s =320,  edgecolors='none')\n",
    "        elif mat[j,i] == 4:\n",
    "            plt.scatter((i*dx)+dx/2,(j*dy)+dy/2,marker = 's', color ='yellowgreen',s =320,  edgecolors='none')\n",
    "        elif mat[j,i] == 5:\n",
    "            plt.scatter((i*dx)+dx/2,(j*dy)+dy/2,marker = 's', color ='seagreen',s =320,  edgecolors='none')\n",
    "        elif mat[j,i] == 6:\n",
    "            plt.scatter((i*dx)+dx/2,(j*dy)+dy/2,marker = 's', color ='cadetblue',s =320,  edgecolors='none')\n",
    "        elif mat[j,i] == 7:\n",
    "            plt.scatter((i*dx)+dx/2,(j*dy)+dy/2,marker = 's', color ='gold',s =320,  edgecolors='none')\n",
    "\n",
    "x1 = first_part['x']+2\n",
    "y1 = first_part['y']+2\n",
    "plt.plot(x1,y1,'-',color='black', alpha = 0.5)\n",
    "\n",
    "x2 = second_part['x']+2\n",
    "y2 = second_part['y']+2\n",
    "plt.plot(x2, y2, '-', color = 'black', alpha = 0.5)\n",
    "\n",
    "x3 = third_part['x']+2\n",
    "y3 = third_part['y']+2\n",
    "plt.plot(x3, y3, '-', color = 'black', alpha = 0.5)\n",
    "\n",
    "#plt.scatter(poi[:, 0]+2, poi[:, 1]+2, c='black', marker='x', alpha=0.8, s=20)\n",
    "\n",
    "plt.axis('square')\n",
    "plt.xlim([-0.04,4.04])\n",
    "plt.ylim([-0.04,4.04])\n",
    "plt.xticks([0,1,2,3,4],[-2,-1,0,1,2])\n",
    "plt.yticks([0,1,2,3,4],[-2,-1,0,1,2])\n",
    "\n",
    "plt.xlabel('$D/J$')\n",
    "plt.ylabel('$E/J$')\n",
    "plt.text(x=3.6, y=3.7, s='(e)', fontdict={'family': 'serif', 'size': 20})\n",
    "plt.savefig('keep 5 sites scalable.png')\n",
    "plt.show()\n"
   ]
  }
 ],
 "metadata": {
  "kernelspec": {
   "display_name": "QML_TN",
   "language": "python",
   "name": "python3"
  },
  "language_info": {
   "codemirror_mode": {
    "name": "ipython",
    "version": 3
   },
   "file_extension": ".py",
   "mimetype": "text/x-python",
   "name": "python",
   "nbconvert_exporter": "python",
   "pygments_lexer": "ipython3",
   "version": "3.12.3"
  }
 },
 "nbformat": 4,
 "nbformat_minor": 2
}
