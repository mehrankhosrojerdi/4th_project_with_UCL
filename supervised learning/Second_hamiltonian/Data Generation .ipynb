{
  "cells": [
    {
      "cell_type": "code",
      "execution_count": 2,
      "metadata": {},
      "outputs": [],
      "source": [
        "import gc\n",
        "import os\n",
        "import h5py\n",
        "import pickle\n",
        "from partial import *"
      ]
    },
    {
      "cell_type": "code",
      "execution_count": 12,
      "metadata": {},
      "outputs": [],
      "source": [
        "L = 31\n",
        "bond = 150\n",
        "p = partial(L = L, bond = bond)"
      ]
    },
    {
      "cell_type": "code",
      "execution_count": 13,
      "metadata": {},
      "outputs": [
        {
          "name": "stdout",
          "output_type": "stream",
          "text": [
            "Computing partial density matrices started .....\n",
            "Tracing over training set (220 items)...\n"
          ]
        },
        {
          "name": "stderr",
          "output_type": "stream",
          "text": [
            "Tracing train set: 100%|██████████| 220/220 [00:01<00:00, 159.59it/s]\n"
          ]
        },
        {
          "name": "stdout",
          "output_type": "stream",
          "text": [
            "Tracing over test set (400 items)...\n"
          ]
        },
        {
          "name": "stderr",
          "output_type": "stream",
          "text": [
            "Tracing test set: 100%|██████████| 400/400 [00:00<00:00, 491.56it/s]\n"
          ]
        },
        {
          "name": "stdout",
          "output_type": "stream",
          "text": [
            "Partial density matrices computed in 4.21 seconds.\n",
            "Computing Gram matrix for training set...\n"
          ]
        },
        {
          "name": "stderr",
          "output_type": "stream",
          "text": [
            "Gram Partial Train: 100%|██████████| 48400/48400 [00:00<00:00, 867996.06it/s]\n"
          ]
        },
        {
          "name": "stdout",
          "output_type": "stream",
          "text": [
            "Gram matrix for training set computed in 0.06 seconds.\n",
            "Computing Gram matrix for testing set...\n"
          ]
        },
        {
          "name": "stderr",
          "output_type": "stream",
          "text": [
            "Gram Partial Test: 100%|██████████| 400/400 [00:00<00:00, 2256.28it/s]"
          ]
        },
        {
          "name": "stdout",
          "output_type": "stream",
          "text": [
            "Gram matrix for testing set computed in 0.18 seconds.\n"
          ]
        },
        {
          "name": "stderr",
          "output_type": "stream",
          "text": [
            "\n"
          ]
        }
      ],
      "source": [
        "keep = [0] # keep the part that we wanna do partial trace over that\n",
        "partial_density_matrix_train, partial_density_matrix_test = p.partial_density_matrix(keep=keep)\n",
        "kernel_partial_train = p.gram_train_partial(partial_train=partial_density_matrix_train, keep=keep)\n",
        "kernel_partial_test = p.gram_test_partial(partial_train=partial_density_matrix_train, partial_test=partial_density_matrix_test, keep=keep)"
      ]
    },
    {
      "cell_type": "code",
      "execution_count": 14,
      "metadata": {},
      "outputs": [
        {
          "name": "stdout",
          "output_type": "stream",
          "text": [
            "Computing partial density matrices started .....\n",
            "Tracing over training set (220 items)...\n"
          ]
        },
        {
          "name": "stderr",
          "output_type": "stream",
          "text": [
            "Tracing train set: 100%|██████████| 220/220 [00:00<00:00, 846.14it/s]\n"
          ]
        },
        {
          "name": "stdout",
          "output_type": "stream",
          "text": [
            "Tracing over test set (400 items)...\n"
          ]
        },
        {
          "name": "stderr",
          "output_type": "stream",
          "text": [
            "Tracing test set: 100%|██████████| 400/400 [00:01<00:00, 312.86it/s]\n"
          ]
        },
        {
          "name": "stdout",
          "output_type": "stream",
          "text": [
            "Partial density matrices computed in 3.24 seconds.\n",
            "Computing Gram matrix for training set...\n"
          ]
        },
        {
          "name": "stderr",
          "output_type": "stream",
          "text": [
            "Gram Partial Train: 100%|██████████| 48400/48400 [00:00<00:00, 573053.81it/s]\n"
          ]
        },
        {
          "name": "stdout",
          "output_type": "stream",
          "text": [
            "Gram matrix for training set computed in 0.09 seconds.\n",
            "Computing Gram matrix for testing set...\n"
          ]
        },
        {
          "name": "stderr",
          "output_type": "stream",
          "text": [
            "Gram Partial Test: 100%|██████████| 400/400 [00:00<00:00, 2198.30it/s]"
          ]
        },
        {
          "name": "stdout",
          "output_type": "stream",
          "text": [
            "Gram matrix for testing set computed in 0.18 seconds.\n"
          ]
        },
        {
          "name": "stderr",
          "output_type": "stream",
          "text": [
            "\n"
          ]
        }
      ],
      "source": [
        "keep = [0,1] # keep the part that we wanna do partial trace over that\n",
        "partial_density_matrix_train, partial_density_matrix_test = p.partial_density_matrix(keep=keep)\n",
        "kernel_partial_train = p.gram_train_partial(partial_train=partial_density_matrix_train, keep=keep)\n",
        "kernel_partial_test = p.gram_test_partial(partial_train=partial_density_matrix_train, partial_test=partial_density_matrix_test, keep=keep)"
      ]
    },
    {
      "cell_type": "code",
      "execution_count": 15,
      "metadata": {},
      "outputs": [
        {
          "name": "stdout",
          "output_type": "stream",
          "text": [
            "Computing partial density matrices started .....\n",
            "Tracing over training set (220 items)...\n"
          ]
        },
        {
          "name": "stderr",
          "output_type": "stream",
          "text": [
            "Tracing train set: 100%|██████████| 220/220 [00:00<00:00, 877.57it/s]\n"
          ]
        },
        {
          "name": "stdout",
          "output_type": "stream",
          "text": [
            "Tracing over test set (400 items)...\n"
          ]
        },
        {
          "name": "stderr",
          "output_type": "stream",
          "text": [
            "Tracing test set: 100%|██████████| 400/400 [00:01<00:00, 277.82it/s]\n"
          ]
        },
        {
          "name": "stdout",
          "output_type": "stream",
          "text": [
            "Partial density matrices computed in 3.41 seconds.\n",
            "Computing Gram matrix for training set...\n"
          ]
        },
        {
          "name": "stderr",
          "output_type": "stream",
          "text": [
            "Gram Partial Train: 100%|██████████| 48400/48400 [00:00<00:00, 626312.96it/s]\n"
          ]
        },
        {
          "name": "stdout",
          "output_type": "stream",
          "text": [
            "Gram matrix for training set computed in 0.08 seconds.\n",
            "Computing Gram matrix for testing set...\n"
          ]
        },
        {
          "name": "stderr",
          "output_type": "stream",
          "text": [
            "Gram Partial Test: 100%|██████████| 400/400 [00:00<00:00, 1993.12it/s]"
          ]
        },
        {
          "name": "stdout",
          "output_type": "stream",
          "text": [
            "Gram matrix for testing set computed in 0.20 seconds.\n"
          ]
        },
        {
          "name": "stderr",
          "output_type": "stream",
          "text": [
            "\n"
          ]
        }
      ],
      "source": [
        "keep = [0,1,2] # keep the part that we wanna do partial trace over that\n",
        "partial_density_matrix_train, partial_density_matrix_test = p.partial_density_matrix(keep=keep)\n",
        "kernel_partial_train = p.gram_train_partial(partial_train=partial_density_matrix_train, keep=keep)\n",
        "kernel_partial_test = p.gram_test_partial(partial_train=partial_density_matrix_train, partial_test=partial_density_matrix_test, keep=keep)"
      ]
    },
    {
      "cell_type": "code",
      "execution_count": 16,
      "metadata": {},
      "outputs": [
        {
          "name": "stdout",
          "output_type": "stream",
          "text": [
            "Computing partial density matrices started .....\n",
            "Tracing over training set (220 items)...\n"
          ]
        },
        {
          "name": "stderr",
          "output_type": "stream",
          "text": [
            "Tracing train set: 100%|██████████| 220/220 [00:00<00:00, 824.79it/s]\n"
          ]
        },
        {
          "name": "stdout",
          "output_type": "stream",
          "text": [
            "Tracing over test set (400 items)...\n"
          ]
        },
        {
          "name": "stderr",
          "output_type": "stream",
          "text": [
            "Tracing test set: 100%|██████████| 400/400 [00:00<00:00, 429.84it/s]\n"
          ]
        },
        {
          "name": "stdout",
          "output_type": "stream",
          "text": [
            "Partial density matrices computed in 3.40 seconds.\n",
            "Computing Gram matrix for training set...\n"
          ]
        },
        {
          "name": "stderr",
          "output_type": "stream",
          "text": [
            "Gram Partial Train: 100%|██████████| 48400/48400 [00:00<00:00, 632274.31it/s]\n"
          ]
        },
        {
          "name": "stdout",
          "output_type": "stream",
          "text": [
            "Gram matrix for training set computed in 0.08 seconds.\n",
            "Computing Gram matrix for testing set...\n"
          ]
        },
        {
          "name": "stderr",
          "output_type": "stream",
          "text": [
            "Gram Partial Test: 100%|██████████| 400/400 [00:00<00:00, 1682.83it/s]"
          ]
        },
        {
          "name": "stdout",
          "output_type": "stream",
          "text": [
            "Gram matrix for testing set computed in 0.24 seconds.\n"
          ]
        },
        {
          "name": "stderr",
          "output_type": "stream",
          "text": [
            "\n"
          ]
        }
      ],
      "source": [
        "keep = [0,1,2,3] # keep the part that we wanna do partial trace over that\n",
        "partial_density_matrix_train, partial_density_matrix_test = p.partial_density_matrix(keep=keep)\n",
        "kernel_partial_train = p.gram_train_partial(partial_train=partial_density_matrix_train, keep=keep)\n",
        "kernel_partial_test = p.gram_test_partial(partial_train=partial_density_matrix_train, partial_test=partial_density_matrix_test, keep=keep)"
      ]
    },
    {
      "cell_type": "code",
      "execution_count": 17,
      "metadata": {},
      "outputs": [
        {
          "name": "stdout",
          "output_type": "stream",
          "text": [
            "Computing partial density matrices started .....\n",
            "Tracing over training set (220 items)...\n"
          ]
        },
        {
          "name": "stderr",
          "output_type": "stream",
          "text": [
            "Tracing train set: 100%|██████████| 220/220 [00:00<00:00, 798.62it/s]\n"
          ]
        },
        {
          "name": "stdout",
          "output_type": "stream",
          "text": [
            "Tracing over test set (400 items)...\n"
          ]
        },
        {
          "name": "stderr",
          "output_type": "stream",
          "text": [
            "Tracing test set: 100%|██████████| 400/400 [00:01<00:00, 268.26it/s]\n"
          ]
        },
        {
          "name": "stdout",
          "output_type": "stream",
          "text": [
            "Partial density matrices computed in 3.51 seconds.\n",
            "Computing Gram matrix for training set...\n"
          ]
        },
        {
          "name": "stderr",
          "output_type": "stream",
          "text": [
            "Gram Partial Train: 100%|██████████| 48400/48400 [00:00<00:00, 287014.24it/s]\n"
          ]
        },
        {
          "name": "stdout",
          "output_type": "stream",
          "text": [
            "Gram matrix for training set computed in 0.17 seconds.\n",
            "Computing Gram matrix for testing set...\n"
          ]
        },
        {
          "name": "stderr",
          "output_type": "stream",
          "text": [
            "Gram Partial Test: 100%|██████████| 400/400 [00:00<00:00, 702.01it/s]"
          ]
        },
        {
          "name": "stdout",
          "output_type": "stream",
          "text": [
            "Gram matrix for testing set computed in 0.57 seconds.\n"
          ]
        },
        {
          "name": "stderr",
          "output_type": "stream",
          "text": [
            "\n"
          ]
        }
      ],
      "source": [
        "keep = [0,1,2,3,4] # keep the part that we wanna do partial trace over that\n",
        "partial_density_matrix_train, partial_density_matrix_test = p.partial_density_matrix(keep=keep)\n",
        "kernel_partial_train = p.gram_train_partial(partial_train=partial_density_matrix_train, keep=keep)\n",
        "kernel_partial_test = p.gram_test_partial(partial_train=partial_density_matrix_train, partial_test=partial_density_matrix_test, keep=keep)"
      ]
    },
    {
      "cell_type": "code",
      "execution_count": 18,
      "metadata": {},
      "outputs": [
        {
          "name": "stdout",
          "output_type": "stream",
          "text": [
            "Computing partial density matrices started .....\n",
            "Tracing over training set (220 items)...\n"
          ]
        },
        {
          "name": "stderr",
          "output_type": "stream",
          "text": [
            "Tracing train set: 100%|██████████| 220/220 [00:00<00:00, 716.94it/s]\n"
          ]
        },
        {
          "name": "stdout",
          "output_type": "stream",
          "text": [
            "Tracing over test set (400 items)...\n"
          ]
        },
        {
          "name": "stderr",
          "output_type": "stream",
          "text": [
            "Tracing test set: 100%|██████████| 400/400 [00:01<00:00, 286.56it/s]\n"
          ]
        },
        {
          "name": "stdout",
          "output_type": "stream",
          "text": [
            "Partial density matrices computed in 3.77 seconds.\n",
            "Computing Gram matrix for training set...\n"
          ]
        },
        {
          "name": "stderr",
          "output_type": "stream",
          "text": [
            "Gram Partial Train: 100%|██████████| 48400/48400 [00:01<00:00, 47984.30it/s]\n"
          ]
        },
        {
          "name": "stdout",
          "output_type": "stream",
          "text": [
            "Gram matrix for training set computed in 1.01 seconds.\n",
            "Computing Gram matrix for testing set...\n"
          ]
        },
        {
          "name": "stderr",
          "output_type": "stream",
          "text": [
            "Gram Partial Test: 100%|██████████| 400/400 [00:03<00:00, 133.10it/s]"
          ]
        },
        {
          "name": "stdout",
          "output_type": "stream",
          "text": [
            "Gram matrix for testing set computed in 3.01 seconds.\n"
          ]
        },
        {
          "name": "stderr",
          "output_type": "stream",
          "text": [
            "\n"
          ]
        }
      ],
      "source": [
        "keep = [0,1,2,3,4,5] # keep the part that we wanna do partial trace over that\n",
        "partial_density_matrix_train, partial_density_matrix_test = p.partial_density_matrix(keep=keep)\n",
        "kernel_partial_train = p.gram_train_partial(partial_train=partial_density_matrix_train, keep=keep)\n",
        "kernel_partial_test = p.gram_test_partial(partial_train=partial_density_matrix_train, partial_test=partial_density_matrix_test, keep=keep)"
      ]
    },
    {
      "cell_type": "code",
      "execution_count": 19,
      "metadata": {},
      "outputs": [
        {
          "name": "stdout",
          "output_type": "stream",
          "text": [
            "Computing partial density matrices started .....\n",
            "Tracing over training set (220 items)...\n"
          ]
        },
        {
          "name": "stderr",
          "output_type": "stream",
          "text": [
            "Tracing train set: 100%|██████████| 220/220 [00:00<00:00, 750.87it/s]\n"
          ]
        },
        {
          "name": "stdout",
          "output_type": "stream",
          "text": [
            "Tracing over test set (400 items)...\n"
          ]
        },
        {
          "name": "stderr",
          "output_type": "stream",
          "text": [
            "Tracing test set: 100%|██████████| 400/400 [00:01<00:00, 217.33it/s]\n"
          ]
        },
        {
          "name": "stdout",
          "output_type": "stream",
          "text": [
            "Partial density matrices computed in 4.48 seconds.\n",
            "Computing Gram matrix for training set...\n"
          ]
        },
        {
          "name": "stderr",
          "output_type": "stream",
          "text": [
            "Gram Partial Train: 100%|██████████| 48400/48400 [00:00<00:00, 453822.45it/s]\n"
          ]
        },
        {
          "name": "stdout",
          "output_type": "stream",
          "text": [
            "Gram matrix for training set computed in 0.11 seconds.\n",
            "Computing Gram matrix for testing set...\n"
          ]
        },
        {
          "name": "stderr",
          "output_type": "stream",
          "text": [
            "Gram Partial Test: 100%|██████████| 400/400 [00:00<00:00, 1386.87it/s]"
          ]
        },
        {
          "name": "stdout",
          "output_type": "stream",
          "text": [
            "Gram matrix for testing set computed in 0.29 seconds.\n"
          ]
        },
        {
          "name": "stderr",
          "output_type": "stream",
          "text": [
            "\n"
          ]
        }
      ],
      "source": [
        "keep = [20] # keep the part that we wanna do partial trace over that\n",
        "partial_density_matrix_train, partial_density_matrix_test = p.partial_density_matrix(keep=keep)\n",
        "kernel_partial_train = p.gram_train_partial(partial_train=partial_density_matrix_train, keep=keep)\n",
        "kernel_partial_test = p.gram_test_partial(partial_train=partial_density_matrix_train, partial_test=partial_density_matrix_test, keep=keep)"
      ]
    },
    {
      "cell_type": "code",
      "execution_count": 20,
      "metadata": {},
      "outputs": [
        {
          "name": "stdout",
          "output_type": "stream",
          "text": [
            "Computing partial density matrices started .....\n",
            "Tracing over training set (220 items)...\n"
          ]
        },
        {
          "name": "stderr",
          "output_type": "stream",
          "text": [
            "Tracing train set: 100%|██████████| 220/220 [00:00<00:00, 696.60it/s]\n"
          ]
        },
        {
          "name": "stdout",
          "output_type": "stream",
          "text": [
            "Tracing over test set (400 items)...\n"
          ]
        },
        {
          "name": "stderr",
          "output_type": "stream",
          "text": [
            "Tracing test set: 100%|██████████| 400/400 [00:01<00:00, 202.08it/s]\n"
          ]
        },
        {
          "name": "stdout",
          "output_type": "stream",
          "text": [
            "Partial density matrices computed in 4.61 seconds.\n",
            "Computing Gram matrix for training set...\n"
          ]
        },
        {
          "name": "stderr",
          "output_type": "stream",
          "text": [
            "Gram Partial Train: 100%|██████████| 48400/48400 [00:00<00:00, 444401.35it/s]\n"
          ]
        },
        {
          "name": "stdout",
          "output_type": "stream",
          "text": [
            "Gram matrix for training set computed in 0.11 seconds.\n",
            "Computing Gram matrix for testing set...\n"
          ]
        },
        {
          "name": "stderr",
          "output_type": "stream",
          "text": [
            "Gram Partial Test: 100%|██████████| 400/400 [00:00<00:00, 1390.00it/s]"
          ]
        },
        {
          "name": "stdout",
          "output_type": "stream",
          "text": [
            "Gram matrix for testing set computed in 0.29 seconds.\n"
          ]
        },
        {
          "name": "stderr",
          "output_type": "stream",
          "text": [
            "\n"
          ]
        }
      ],
      "source": [
        "keep = [20,21] # keep the part that we wanna do partial trace over that\n",
        "partial_density_matrix_train, partial_density_matrix_test = p.partial_density_matrix(keep=keep)\n",
        "kernel_partial_train = p.gram_train_partial(partial_train=partial_density_matrix_train, keep=keep)\n",
        "kernel_partial_test = p.gram_test_partial(partial_train=partial_density_matrix_train, partial_test=partial_density_matrix_test, keep=keep)"
      ]
    },
    {
      "cell_type": "code",
      "execution_count": 21,
      "metadata": {},
      "outputs": [
        {
          "name": "stdout",
          "output_type": "stream",
          "text": [
            "Computing partial density matrices started .....\n",
            "Tracing over training set (220 items)...\n"
          ]
        },
        {
          "name": "stderr",
          "output_type": "stream",
          "text": [
            "Tracing train set: 100%|██████████| 220/220 [00:00<00:00, 694.51it/s]\n"
          ]
        },
        {
          "name": "stdout",
          "output_type": "stream",
          "text": [
            "Tracing over test set (400 items)...\n"
          ]
        },
        {
          "name": "stderr",
          "output_type": "stream",
          "text": [
            "Tracing test set: 100%|██████████| 400/400 [00:01<00:00, 200.28it/s]\n"
          ]
        },
        {
          "name": "stdout",
          "output_type": "stream",
          "text": [
            "Partial density matrices computed in 4.54 seconds.\n",
            "Computing Gram matrix for training set...\n"
          ]
        },
        {
          "name": "stderr",
          "output_type": "stream",
          "text": [
            "Gram Partial Train: 100%|██████████| 48400/48400 [00:00<00:00, 440986.82it/s]\n"
          ]
        },
        {
          "name": "stdout",
          "output_type": "stream",
          "text": [
            "Gram matrix for training set computed in 0.11 seconds.\n",
            "Computing Gram matrix for testing set...\n"
          ]
        },
        {
          "name": "stderr",
          "output_type": "stream",
          "text": [
            "Gram Partial Test: 100%|██████████| 400/400 [00:00<00:00, 1492.82it/s]"
          ]
        },
        {
          "name": "stdout",
          "output_type": "stream",
          "text": [
            "Gram matrix for testing set computed in 0.27 seconds.\n"
          ]
        },
        {
          "name": "stderr",
          "output_type": "stream",
          "text": [
            "\n"
          ]
        }
      ],
      "source": [
        "keep = [20,21,22] # keep the part that we wanna do partial trace over that\n",
        "partial_density_matrix_train, partial_density_matrix_test = p.partial_density_matrix(keep=keep)\n",
        "kernel_partial_train = p.gram_train_partial(partial_train=partial_density_matrix_train, keep=keep)\n",
        "kernel_partial_test = p.gram_test_partial(partial_train=partial_density_matrix_train, partial_test=partial_density_matrix_test, keep=keep)"
      ]
    },
    {
      "cell_type": "code",
      "execution_count": 22,
      "metadata": {},
      "outputs": [
        {
          "name": "stdout",
          "output_type": "stream",
          "text": [
            "Computing partial density matrices started .....\n",
            "Tracing over training set (220 items)...\n"
          ]
        },
        {
          "name": "stderr",
          "output_type": "stream",
          "text": [
            "Tracing train set: 100%|██████████| 220/220 [00:00<00:00, 652.94it/s]\n"
          ]
        },
        {
          "name": "stdout",
          "output_type": "stream",
          "text": [
            "Tracing over test set (400 items)...\n"
          ]
        },
        {
          "name": "stderr",
          "output_type": "stream",
          "text": [
            "Tracing test set: 100%|██████████| 400/400 [00:01<00:00, 201.26it/s]\n"
          ]
        },
        {
          "name": "stdout",
          "output_type": "stream",
          "text": [
            "Partial density matrices computed in 4.77 seconds.\n",
            "Computing Gram matrix for training set...\n"
          ]
        },
        {
          "name": "stderr",
          "output_type": "stream",
          "text": [
            "Gram Partial Train: 100%|██████████| 48400/48400 [00:00<00:00, 395997.03it/s]\n"
          ]
        },
        {
          "name": "stdout",
          "output_type": "stream",
          "text": [
            "Gram matrix for training set computed in 0.13 seconds.\n",
            "Computing Gram matrix for testing set...\n"
          ]
        },
        {
          "name": "stderr",
          "output_type": "stream",
          "text": [
            "Gram Partial Test: 100%|██████████| 400/400 [00:00<00:00, 1159.78it/s]"
          ]
        },
        {
          "name": "stdout",
          "output_type": "stream",
          "text": [
            "Gram matrix for testing set computed in 0.35 seconds.\n"
          ]
        },
        {
          "name": "stderr",
          "output_type": "stream",
          "text": [
            "\n"
          ]
        }
      ],
      "source": [
        "keep = [20,21,22,23] # keep the part that we wanna do partial trace over that\n",
        "partial_density_matrix_train, partial_density_matrix_test = p.partial_density_matrix(keep=keep)\n",
        "kernel_partial_train = p.gram_train_partial(partial_train=partial_density_matrix_train, keep=keep)\n",
        "kernel_partial_test = p.gram_test_partial(partial_train=partial_density_matrix_train, partial_test=partial_density_matrix_test, keep=keep)"
      ]
    },
    {
      "cell_type": "code",
      "execution_count": 23,
      "metadata": {},
      "outputs": [
        {
          "name": "stdout",
          "output_type": "stream",
          "text": [
            "Computing partial density matrices started .....\n",
            "Tracing over training set (220 items)...\n"
          ]
        },
        {
          "name": "stderr",
          "output_type": "stream",
          "text": [
            "Tracing train set: 100%|██████████| 220/220 [00:00<00:00, 697.78it/s]\n"
          ]
        },
        {
          "name": "stdout",
          "output_type": "stream",
          "text": [
            "Tracing over test set (400 items)...\n"
          ]
        },
        {
          "name": "stderr",
          "output_type": "stream",
          "text": [
            "Tracing test set: 100%|██████████| 400/400 [00:02<00:00, 196.32it/s]\n"
          ]
        },
        {
          "name": "stdout",
          "output_type": "stream",
          "text": [
            "Partial density matrices computed in 4.60 seconds.\n",
            "Computing Gram matrix for training set...\n"
          ]
        },
        {
          "name": "stderr",
          "output_type": "stream",
          "text": [
            "Gram Partial Train: 100%|██████████| 48400/48400 [00:00<00:00, 207757.60it/s]\n"
          ]
        },
        {
          "name": "stdout",
          "output_type": "stream",
          "text": [
            "Gram matrix for training set computed in 0.24 seconds.\n",
            "Computing Gram matrix for testing set...\n"
          ]
        },
        {
          "name": "stderr",
          "output_type": "stream",
          "text": [
            "Gram Partial Test: 100%|██████████| 400/400 [00:00<00:00, 609.10it/s]"
          ]
        },
        {
          "name": "stdout",
          "output_type": "stream",
          "text": [
            "Gram matrix for testing set computed in 0.66 seconds.\n"
          ]
        },
        {
          "name": "stderr",
          "output_type": "stream",
          "text": [
            "\n"
          ]
        }
      ],
      "source": [
        "keep = [20,21,22,23,24] # keep the part that we wanna do partial trace over that\n",
        "partial_density_matrix_train, partial_density_matrix_test = p.partial_density_matrix(keep=keep)\n",
        "kernel_partial_train = p.gram_train_partial(partial_train=partial_density_matrix_train, keep=keep)\n",
        "kernel_partial_test = p.gram_test_partial(partial_train=partial_density_matrix_train, partial_test=partial_density_matrix_test, keep=keep)"
      ]
    },
    {
      "cell_type": "code",
      "execution_count": 25,
      "metadata": {},
      "outputs": [
        {
          "name": "stdout",
          "output_type": "stream",
          "text": [
            "Computing partial density matrices started .....\n",
            "Tracing over training set (220 items)...\n"
          ]
        },
        {
          "name": "stderr",
          "output_type": "stream",
          "text": [
            "Tracing train set: 100%|██████████| 220/220 [00:00<00:00, 728.27it/s]\n"
          ]
        },
        {
          "name": "stdout",
          "output_type": "stream",
          "text": [
            "Tracing over test set (400 items)...\n"
          ]
        },
        {
          "name": "stderr",
          "output_type": "stream",
          "text": [
            "Tracing test set: 100%|██████████| 400/400 [00:01<00:00, 296.86it/s]\n"
          ]
        },
        {
          "name": "stdout",
          "output_type": "stream",
          "text": [
            "Partial density matrices computed in 3.64 seconds.\n",
            "Computing Gram matrix for training set...\n"
          ]
        },
        {
          "name": "stderr",
          "output_type": "stream",
          "text": [
            "Gram Partial Train: 100%|██████████| 48400/48400 [00:00<00:00, 64601.88it/s]\n"
          ]
        },
        {
          "name": "stdout",
          "output_type": "stream",
          "text": [
            "Gram matrix for training set computed in 0.75 seconds.\n",
            "Computing Gram matrix for testing set...\n"
          ]
        },
        {
          "name": "stderr",
          "output_type": "stream",
          "text": [
            "Gram Partial Test: 100%|██████████| 400/400 [00:02<00:00, 142.19it/s]"
          ]
        },
        {
          "name": "stdout",
          "output_type": "stream",
          "text": [
            "Gram matrix for testing set computed in 2.82 seconds.\n"
          ]
        },
        {
          "name": "stderr",
          "output_type": "stream",
          "text": [
            "\n"
          ]
        }
      ],
      "source": [
        "keep = [20,21,22,23,24,25] # keep the part that we wanna do partial trace over that\n",
        "partial_density_matrix_train, partial_density_matrix_test = p.partial_density_matrix(keep=keep)\n",
        "kernel_partial_train = p.gram_train_partial(partial_train=partial_density_matrix_train, keep=keep)\n",
        "kernel_partial_test = p.gram_test_partial(partial_train=partial_density_matrix_train, partial_test=partial_density_matrix_test, keep=keep)"
      ]
    },
    {
      "cell_type": "code",
      "execution_count": 3,
      "metadata": {},
      "outputs": [],
      "source": [
        "L = 51\n",
        "bond = 150\n",
        "p = partial(L = L, bond = bond)"
      ]
    },
    {
      "cell_type": "code",
      "execution_count": 5,
      "metadata": {},
      "outputs": [
        {
          "name": "stdout",
          "output_type": "stream",
          "text": [
            "Computing partial density matrices started .....\n",
            "Tracing over training set (220 items)...\n"
          ]
        },
        {
          "name": "stderr",
          "output_type": "stream",
          "text": [
            "Tracing train set: 100%|██████████| 220/220 [00:00<00:00, 539.02it/s]\n"
          ]
        },
        {
          "name": "stdout",
          "output_type": "stream",
          "text": [
            "Tracing over test set (400 items)...\n"
          ]
        },
        {
          "name": "stderr",
          "output_type": "stream",
          "text": [
            "Tracing test set: 100%|██████████| 400/400 [00:01<00:00, 344.21it/s]\n"
          ]
        },
        {
          "name": "stdout",
          "output_type": "stream",
          "text": [
            "Partial density matrices computed in 3.52 seconds.\n",
            "Computing Gram matrix for training set...\n"
          ]
        },
        {
          "name": "stderr",
          "output_type": "stream",
          "text": [
            "Gram Partial Train: 100%|██████████| 48400/48400 [00:00<00:00, 65188.21it/s]\n"
          ]
        },
        {
          "name": "stdout",
          "output_type": "stream",
          "text": [
            "Gram matrix for training set computed in 0.74 seconds.\n",
            "Computing Gram matrix for testing set...\n"
          ]
        },
        {
          "name": "stderr",
          "output_type": "stream",
          "text": [
            "Gram Partial Test: 100%|██████████| 400/400 [00:02<00:00, 149.80it/s]"
          ]
        },
        {
          "name": "stdout",
          "output_type": "stream",
          "text": [
            "Gram matrix for testing set computed in 2.67 seconds.\n"
          ]
        },
        {
          "name": "stderr",
          "output_type": "stream",
          "text": [
            "\n"
          ]
        }
      ],
      "source": [
        "keep = [0,1,2,3,4,5] # keep the part that we wanna do partial trace over that\n",
        "partial_density_matrix_train, partial_density_matrix_test = p.partial_density_matrix(keep=keep)\n",
        "kernel_partial_train = p.gram_train_partial(partial_train=partial_density_matrix_train, keep=keep)\n",
        "kernel_partial_test = p.gram_test_partial(partial_train=partial_density_matrix_train, partial_test=partial_density_matrix_test, keep=keep)"
      ]
    },
    {
      "cell_type": "code",
      "execution_count": 6,
      "metadata": {},
      "outputs": [
        {
          "name": "stdout",
          "output_type": "stream",
          "text": [
            "Computing partial density matrices started .....\n",
            "Tracing over training set (220 items)...\n"
          ]
        },
        {
          "name": "stderr",
          "output_type": "stream",
          "text": [
            "Tracing train set: 100%|██████████| 220/220 [00:00<00:00, 372.71it/s]\n"
          ]
        },
        {
          "name": "stdout",
          "output_type": "stream",
          "text": [
            "Tracing over test set (400 items)...\n"
          ]
        },
        {
          "name": "stderr",
          "output_type": "stream",
          "text": [
            "Tracing test set: 100%|██████████| 400/400 [00:01<00:00, 363.23it/s]\n"
          ]
        },
        {
          "name": "stdout",
          "output_type": "stream",
          "text": [
            "Partial density matrices computed in 3.41 seconds.\n",
            "Computing Gram matrix for training set...\n"
          ]
        },
        {
          "name": "stderr",
          "output_type": "stream",
          "text": [
            "Gram Partial Train: 100%|██████████| 48400/48400 [00:00<00:00, 562502.43it/s]\n"
          ]
        },
        {
          "name": "stdout",
          "output_type": "stream",
          "text": [
            "Gram matrix for training set computed in 0.09 seconds.\n",
            "Computing Gram matrix for testing set...\n"
          ]
        },
        {
          "name": "stderr",
          "output_type": "stream",
          "text": [
            "Gram Partial Test: 100%|██████████| 400/400 [00:00<00:00, 1452.63it/s]"
          ]
        },
        {
          "name": "stdout",
          "output_type": "stream",
          "text": [
            "Gram matrix for testing set computed in 0.28 seconds.\n"
          ]
        },
        {
          "name": "stderr",
          "output_type": "stream",
          "text": [
            "\n"
          ]
        }
      ],
      "source": [
        "keep = [24] # keep the part that we wanna do partial trace over that\n",
        "partial_density_matrix_train, partial_density_matrix_test = p.partial_density_matrix(keep=keep)\n",
        "kernel_partial_train = p.gram_train_partial(partial_train=partial_density_matrix_train, keep=keep)\n",
        "kernel_partial_test = p.gram_test_partial(partial_train=partial_density_matrix_train, partial_test=partial_density_matrix_test, keep=keep)"
      ]
    },
    {
      "cell_type": "code",
      "execution_count": 7,
      "metadata": {},
      "outputs": [
        {
          "name": "stdout",
          "output_type": "stream",
          "text": [
            "Computing partial density matrices started .....\n",
            "Tracing over training set (220 items)...\n"
          ]
        },
        {
          "name": "stderr",
          "output_type": "stream",
          "text": [
            "Tracing train set: 100%|██████████| 220/220 [00:00<00:00, 531.18it/s]\n"
          ]
        },
        {
          "name": "stdout",
          "output_type": "stream",
          "text": [
            "Tracing over test set (400 items)...\n"
          ]
        },
        {
          "name": "stderr",
          "output_type": "stream",
          "text": [
            "Tracing test set: 100%|██████████| 400/400 [00:01<00:00, 328.74it/s]\n"
          ]
        },
        {
          "name": "stdout",
          "output_type": "stream",
          "text": [
            "Partial density matrices computed in 3.54 seconds.\n",
            "Computing Gram matrix for training set...\n"
          ]
        },
        {
          "name": "stderr",
          "output_type": "stream",
          "text": [
            "Gram Partial Train: 100%|██████████| 48400/48400 [00:00<00:00, 311585.70it/s]\n"
          ]
        },
        {
          "name": "stdout",
          "output_type": "stream",
          "text": [
            "Gram matrix for training set computed in 0.16 seconds.\n",
            "Computing Gram matrix for testing set...\n"
          ]
        },
        {
          "name": "stderr",
          "output_type": "stream",
          "text": [
            "Gram Partial Test: 100%|██████████| 400/400 [00:00<00:00, 707.10it/s]"
          ]
        },
        {
          "name": "stdout",
          "output_type": "stream",
          "text": [
            "Gram matrix for testing set computed in 0.57 seconds.\n"
          ]
        },
        {
          "name": "stderr",
          "output_type": "stream",
          "text": [
            "\n"
          ]
        }
      ],
      "source": [
        "keep = [24,25,26,27,28] # keep the part that we wanna do partial trace over that\n",
        "partial_density_matrix_train, partial_density_matrix_test = p.partial_density_matrix(keep=keep)\n",
        "kernel_partial_train = p.gram_train_partial(partial_train=partial_density_matrix_train, keep=keep)\n",
        "kernel_partial_test = p.gram_test_partial(partial_train=partial_density_matrix_train, partial_test=partial_density_matrix_test, keep=keep)"
      ]
    },
    {
      "cell_type": "code",
      "execution_count": 8,
      "metadata": {},
      "outputs": [
        {
          "name": "stdout",
          "output_type": "stream",
          "text": [
            "Computing partial density matrices started .....\n",
            "Tracing over training set (220 items)...\n"
          ]
        },
        {
          "name": "stderr",
          "output_type": "stream",
          "text": [
            "Tracing train set: 100%|██████████| 220/220 [00:00<00:00, 464.25it/s]\n"
          ]
        },
        {
          "name": "stdout",
          "output_type": "stream",
          "text": [
            "Tracing over test set (400 items)...\n"
          ]
        },
        {
          "name": "stderr",
          "output_type": "stream",
          "text": [
            "Tracing test set: 100%|██████████| 400/400 [00:00<00:00, 470.45it/s]\n"
          ]
        },
        {
          "name": "stdout",
          "output_type": "stream",
          "text": [
            "Partial density matrices computed in 4.28 seconds.\n",
            "Computing Gram matrix for training set...\n"
          ]
        },
        {
          "name": "stderr",
          "output_type": "stream",
          "text": [
            "Gram Partial Train: 100%|██████████| 48400/48400 [00:00<00:00, 59266.49it/s]\n"
          ]
        },
        {
          "name": "stdout",
          "output_type": "stream",
          "text": [
            "Gram matrix for training set computed in 0.82 seconds.\n",
            "Computing Gram matrix for testing set...\n"
          ]
        },
        {
          "name": "stderr",
          "output_type": "stream",
          "text": [
            "Gram Partial Test: 100%|██████████| 400/400 [00:02<00:00, 140.07it/s]"
          ]
        },
        {
          "name": "stdout",
          "output_type": "stream",
          "text": [
            "Gram matrix for testing set computed in 2.86 seconds.\n"
          ]
        },
        {
          "name": "stderr",
          "output_type": "stream",
          "text": [
            "\n"
          ]
        }
      ],
      "source": [
        "keep = [24,25,26,27,28,29] # keep the part that we wanna do partial trace over that\n",
        "partial_density_matrix_train, partial_density_matrix_test = p.partial_density_matrix(keep=keep)\n",
        "kernel_partial_train = p.gram_train_partial(partial_train=partial_density_matrix_train, keep=keep)\n",
        "kernel_partial_test = p.gram_test_partial(partial_train=partial_density_matrix_train, partial_test=partial_density_matrix_test, keep=keep)"
      ]
    }
  ],
  "metadata": {
    "colab": {
      "provenance": []
    },
    "kernelspec": {
      "display_name": "QML_TN (3.12.3)",
      "language": "python",
      "name": "python3"
    },
    "language_info": {
      "codemirror_mode": {
        "name": "ipython",
        "version": 3
      },
      "file_extension": ".py",
      "mimetype": "text/x-python",
      "name": "python",
      "nbconvert_exporter": "python",
      "pygments_lexer": "ipython3",
      "version": "3.12.3"
    }
  },
  "nbformat": 4,
  "nbformat_minor": 0
}
