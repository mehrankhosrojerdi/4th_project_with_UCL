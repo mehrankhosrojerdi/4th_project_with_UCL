{
  "cells": [
    {
      "cell_type": "code",
      "execution_count": 1,
      "metadata": {},
      "outputs": [
        {
          "name": "stderr",
          "output_type": "stream",
          "text": [
            "/home/mehran/TN_QML/lib/python3.12/site-packages/quimb/core.py:45: UserWarning: 'NUMBA_NUM_THREADS' has been set elsewhere and doesn't match the value 'quimb' has tried to set - 1 vs 4.\n",
            "  warnings.warn(\n"
          ]
        }
      ],
      "source": [
        "from partial import *"
      ]
    },
    {
      "cell_type": "code",
      "execution_count": null,
      "metadata": {},
      "outputs": [],
      "source": [
        "L = 51\n",
        "bond = 150\n",
        "p = partial(L = L, bond = bond)"
      ]
    },
    {
      "cell_type": "code",
      "execution_count": 3,
      "metadata": {},
      "outputs": [
        {
          "name": "stdout",
          "output_type": "stream",
          "text": [
            "Starting dataset generation — this step includes both the training and test sets. Please be patient...\n"
          ]
        },
        {
          "name": "stderr",
          "output_type": "stream",
          "text": [
            "Generating train set for random_points:   0%|          | 0/55 [00:00<?, ?it/s]"
          ]
        },
        {
          "name": "stderr",
          "output_type": "stream",
          "text": [
            "Generating train set for random_points: 100%|██████████| 55/55 [00:03<00:00, 17.02it/s]\n"
          ]
        },
        {
          "name": "stdout",
          "output_type": "stream",
          "text": [
            "Train_set is generated in 3.31 seconds.\n"
          ]
        },
        {
          "name": "stderr",
          "output_type": "stream",
          "text": [
            "Generating test set: 100%|██████████| 400/400 [00:20<00:00, 19.25it/s]\n"
          ]
        },
        {
          "name": "stdout",
          "output_type": "stream",
          "text": [
            "Test_set is generated in 21.68 seconds.\n"
          ]
        }
      ],
      "source": [
        "train, test = p.generate_dataset()"
      ]
    },
    {
      "cell_type": "code",
      "execution_count": null,
      "metadata": {},
      "outputs": [],
      "source": [
        "keep = [0] # keep the part that we wanna do partial trace over that\n",
        "partial_density_matrix_train, partial_density_matrix_test = p.partial_density_matrix(keep=keep)\n",
        "kernel_partial_train = p.gram_train_partial(partial_train=partial_density_matrix_train, keep=keep)\n",
        "kernel_partial_test = p.gram_test_partial(partial_train=partial_density_matrix_train,partial_test=partial_density_matrix_test,keep=keep)"
      ]
    },
    {
      "cell_type": "code",
      "execution_count": null,
      "metadata": {},
      "outputs": [],
      "source": [
        "keep = [0,1] # keep the part that we wanna do partial trace over that\n",
        "partial_density_matrix_train, partial_density_matrix_test = p.partial_density_matrix(keep=keep)\n",
        "kernel_partial_train = p.gram_train_partial(partial_train=partial_density_matrix_train, keep=keep)\n",
        "kernel_partial_test = p.gram_test_partial(partial_train=partial_density_matrix_train,partial_test=partial_density_matrix_test,keep=keep)"
      ]
    },
    {
      "cell_type": "code",
      "execution_count": null,
      "metadata": {},
      "outputs": [],
      "source": [
        "keep = [0,1,2] # keep the part that we wanna do partial trace over that\n",
        "partial_density_matrix_train, partial_density_matrix_test = p.partial_density_matrix(keep=keep)\n",
        "kernel_partial_train = p.gram_train_partial(partial_train=partial_density_matrix_train, keep=keep)\n",
        "kernel_partial_test = p.gram_test_partial(partial_train=partial_density_matrix_train,partial_test=partial_density_matrix_test,keep=keep)"
      ]
    },
    {
      "cell_type": "code",
      "execution_count": null,
      "metadata": {},
      "outputs": [],
      "source": [
        "keep = [0,1,2,3] # keep the part that we wanna do partial trace over that\n",
        "partial_density_matrix_train, partial_density_matrix_test = p.partial_density_matrix(keep=keep)\n",
        "kernel_partial_train = p.gram_train_partial(partial_train=partial_density_matrix_train, keep=keep)\n",
        "kernel_partial_test = p.gram_test_partial(partial_train=partial_density_matrix_train,partial_test=partial_density_matrix_test,keep=keep)"
      ]
    },
    {
      "cell_type": "code",
      "execution_count": 4,
      "metadata": {},
      "outputs": [
        {
          "name": "stdout",
          "output_type": "stream",
          "text": [
            "Computing partial density matrices started .....\n",
            "Tracing over training set (220 items)...\n"
          ]
        },
        {
          "name": "stderr",
          "output_type": "stream",
          "text": [
            "Tracing train set: 100%|██████████| 220/220 [00:00<00:00, 1116.58it/s]\n"
          ]
        },
        {
          "name": "stdout",
          "output_type": "stream",
          "text": [
            "Tracing over test set (400 items)...\n"
          ]
        },
        {
          "name": "stderr",
          "output_type": "stream",
          "text": [
            "Tracing test set: 100%|██████████| 400/400 [00:00<00:00, 792.86it/s]\n"
          ]
        },
        {
          "name": "stdout",
          "output_type": "stream",
          "text": [
            "Partial density matrices computed in 1.63 seconds.\n",
            "Computing Gram matrix for training set...\n"
          ]
        },
        {
          "name": "stderr",
          "output_type": "stream",
          "text": [
            "Gram Partial Train: 100%|██████████| 48400/48400 [00:00<00:00, 64216.88it/s]\n"
          ]
        },
        {
          "name": "stdout",
          "output_type": "stream",
          "text": [
            "Gram matrix for training set computed in 0.77 seconds.\n",
            "Computing Gram matrix for testing set...\n"
          ]
        },
        {
          "name": "stderr",
          "output_type": "stream",
          "text": [
            "Gram Partial Test: 100%|██████████| 400/400 [00:02<00:00, 176.39it/s]"
          ]
        },
        {
          "name": "stdout",
          "output_type": "stream",
          "text": [
            "Gram matrix for testing set computed in 2.28 seconds.\n"
          ]
        },
        {
          "name": "stderr",
          "output_type": "stream",
          "text": [
            "\n"
          ]
        }
      ],
      "source": [
        "keep = [0,1,2,3,4] # keep the part that we wanna do partial trace over that\n",
        "partial_density_matrix_train, partial_density_matrix_test = p.partial_density_matrix(keep=keep)\n",
        "kernel_partial_train = p.gram_train_partial(partial_train=partial_density_matrix_train, keep=keep)\n",
        "kernel_partial_test = p.gram_test_partial(partial_train=partial_density_matrix_train,partial_test=partial_density_matrix_test,keep=keep)"
      ]
    },
    {
      "cell_type": "code",
      "execution_count": null,
      "metadata": {},
      "outputs": [],
      "source": [
        "keep = [25] # keep the part that we wanna do partial trace over that\n",
        "partial_density_matrix_train, partial_density_matrix_test = p.partial_density_matrix(keep=keep)\n",
        "kernel_partial_train = p.gram_train_partial(partial_train=partial_density_matrix_train, keep=keep)\n",
        "kernel_partial_test = p.gram_test_partial(partial_train=partial_density_matrix_train,partial_test=partial_density_matrix_test,keep=keep)"
      ]
    },
    {
      "cell_type": "code",
      "execution_count": null,
      "metadata": {},
      "outputs": [],
      "source": [
        "keep = [24,25] # keep the part that we wanna do partial trace over that\n",
        "partial_density_matrix_train, partial_density_matrix_test = p.partial_density_matrix(keep=keep)\n",
        "kernel_partial_train = p.gram_train_partial(partial_train=partial_density_matrix_train, keep=keep)\n",
        "kernel_partial_test = p.gram_test_partial(partial_train=partial_density_matrix_train,partial_test=partial_density_matrix_test,keep=keep)"
      ]
    },
    {
      "cell_type": "code",
      "execution_count": null,
      "metadata": {},
      "outputs": [],
      "source": [
        "keep = [24,25,26] # keep the part that we wanna do partial trace over that\n",
        "partial_density_matrix_train, partial_density_matrix_test = p.partial_density_matrix(keep=keep)\n",
        "kernel_partial_train = p.gram_train_partial(partial_train=partial_density_matrix_train, keep=keep)\n",
        "kernel_partial_test = p.gram_test_partial(partial_train=partial_density_matrix_train,partial_test=partial_density_matrix_test,keep=keep)"
      ]
    },
    {
      "cell_type": "code",
      "execution_count": null,
      "metadata": {},
      "outputs": [],
      "source": [
        "keep = [24,25,26,27] # keep the part that we wanna do partial trace over that\n",
        "partial_density_matrix_train, partial_density_matrix_test = p.partial_density_matrix(keep=keep)\n",
        "kernel_partial_train = p.gram_train_partial(partial_train=partial_density_matrix_train, keep=keep)\n",
        "kernel_partial_test = p.gram_test_partial(partial_train=partial_density_matrix_train,partial_test=partial_density_matrix_test,keep=keep)"
      ]
    },
    {
      "cell_type": "code",
      "execution_count": null,
      "metadata": {},
      "outputs": [],
      "source": [
        "keep = [23,24,25,26,27] # keep the part that we wanna do partial trace over that\n",
        "partial_density_matrix_train, partial_density_matrix_test = p.partial_density_matrix(keep=keep)\n",
        "kernel_partial_train = p.gram_train_partial(partial_train=partial_density_matrix_train, keep=keep)\n",
        "kernel_partial_test = p.gram_test_partial(partial_train=partial_density_matrix_train,partial_test=partial_density_matrix_test,keep=keep)"
      ]
    }
  ],
  "metadata": {
    "colab": {
      "provenance": []
    },
    "kernelspec": {
      "display_name": "TN_QML",
      "language": "python",
      "name": "python3"
    },
    "language_info": {
      "codemirror_mode": {
        "name": "ipython",
        "version": 3
      },
      "file_extension": ".py",
      "mimetype": "text/x-python",
      "name": "python",
      "nbconvert_exporter": "python",
      "pygments_lexer": "ipython3",
      "version": "3.12.3"
    }
  },
  "nbformat": 4,
  "nbformat_minor": 0
}
