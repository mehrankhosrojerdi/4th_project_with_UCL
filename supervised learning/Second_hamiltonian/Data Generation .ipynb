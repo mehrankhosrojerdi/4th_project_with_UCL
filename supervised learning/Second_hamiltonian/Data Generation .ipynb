{
  "cells": [
    {
      "cell_type": "code",
      "execution_count": 1,
      "metadata": {},
      "outputs": [],
      "source": [
        "from Haldane_spin_half import *"
      ]
    },
    {
      "cell_type": "code",
      "execution_count": 2,
      "metadata": {},
      "outputs": [],
      "source": [
        "L = 5 # should be odd\n",
        "bond = 5\n",
        "HaldaneSpinHalf = HaldaneSpinHalf(L = L, bond = bond)"
      ]
    },
    {
      "cell_type": "code",
      "execution_count": 3,
      "metadata": {},
      "outputs": [
        {
          "data": {
            "text/html": [
              "<samp style='font-size: 12px;'><details><summary><b style=\"color: #d75692;\">MatrixProductState</b>(tensors=5, indices=9, L=5, max_bond=4)</summary><samp style='font-size: 12px;'><details><summary><b style=\"color: #e55471;\">Tensor</b>(shape=(<b style=\"color: #828fdd;\">2</b>, <b style=\"color: #828fdd;\">2</b>), inds=[<b style=\"color: #b1dc61;\">k0</b>, <b style=\"color: #d18385;\">_d82331AAAAO</b>], tags={<b style=\"color: #d2b137;\">I0</b>}),</summary>backend=<b style=\"color: #7fdd73;\">numpy</b>, dtype=<b style=\"color: #75d2c6;\">float64</b>, data=array([[-0.70710678, -0.70710678],\n",
              "       [-0.70710678,  0.70710678]])</details></samp><samp style='font-size: 12px;'><details><summary><b style=\"color: #e55471;\">Tensor</b>(shape=(<b style=\"color: #828fdd;\">2</b>, <b style=\"color: #828fdd;\">2</b>, <b style=\"color: #80d749;\">4</b>), inds=[<b style=\"color: #d18385;\">_d82331AAAAO</b>, <b style=\"color: #8aa5db;\">k1</b>, <b style=\"color: #bb4cd3;\">_d82331AAAAP</b>], tags={<b style=\"color: #d19b78;\">I1</b>}),</summary>backend=<b style=\"color: #7fdd73;\">numpy</b>, dtype=<b style=\"color: #75d2c6;\">float64</b>, data=array([[[-7.07106781e-01,  7.68812063e-16,  7.07106781e-01,\n",
              "          3.60213983e-15],\n",
              "        [-7.07106781e-01,  1.24595584e-15, -7.07106781e-01,\n",
              "         -3.53428646e-15]],\n",
              "\n",
              "       [[ 1.04131064e-15,  7.07106781e-01, -3.32964126e-15,\n",
              "          7.07106781e-01],\n",
              "        [ 9.73457263e-16,  7.07106781e-01,  3.80678503e-15,\n",
              "         -7.07106781e-01]]])</details></samp><samp style='font-size: 12px;'><details><summary><b style=\"color: #e55471;\">Tensor</b>(shape=(<b style=\"color: #80d749;\">4</b>, <b style=\"color: #828fdd;\">2</b>, <b style=\"color: #80d749;\">4</b>), inds=[<b style=\"color: #bb4cd3;\">_d82331AAAAP</b>, <b style=\"color: #df546d;\">k2</b>, <b style=\"color: #a098e1;\">_d82331AAAAQ</b>], tags={<b style=\"color: #dd5dd7;\">I2</b>}),</summary>backend=<b style=\"color: #7fdd73;\">numpy</b>, dtype=<b style=\"color: #75d2c6;\">float64</b>, data=array([[[-6.49848933e-01,  5.54818984e-01, -1.03861052e-14,\n",
              "         -2.75785442e-15],\n",
              "        [-6.49848933e-01, -5.54818984e-01,  9.17497671e-15,\n",
              "          2.41480265e-15]],\n",
              "\n",
              "       [[ 2.78740676e-01, -4.38378711e-01,  8.03874019e-15,\n",
              "          2.59110270e-15],\n",
              "        [-2.78740676e-01, -4.38378711e-01,  7.57448523e-15,\n",
              "          2.37513262e-15]],\n",
              "\n",
              "       [[-4.66558337e-16,  1.22079300e-14,  5.44711961e-01,\n",
              "          5.57793337e-01],\n",
              "        [-2.35633358e-16,  7.08442367e-15,  5.44711961e-01,\n",
              "         -5.57793337e-01]],\n",
              "\n",
              "       [[ 7.65017009e-16, -1.04305977e-14, -4.50875681e-01,\n",
              "         -4.34587843e-01],\n",
              "        [-3.00117449e-16,  5.33851785e-15,  4.50875681e-01,\n",
              "         -4.34587843e-01]]])</details></samp><samp style='font-size: 12px;'><details><summary><b style=\"color: #e55471;\">Tensor</b>(shape=(<b style=\"color: #80d749;\">4</b>, <b style=\"color: #828fdd;\">2</b>, <b style=\"color: #828fdd;\">2</b>), inds=[<b style=\"color: #a098e1;\">_d82331AAAAQ</b>, <b style=\"color: #4c7be1;\">k3</b>, <b style=\"color: #8ace5a;\">_d82331AAAAR</b>], tags={<b style=\"color: #dd65d9;\">I3</b>}),</summary>backend=<b style=\"color: #7fdd73;\">numpy</b>, dtype=<b style=\"color: #75d2c6;\">float64</b>, data=array([[[-6.49219841e-01, -3.32097989e-15],\n",
              "        [-6.49219841e-01, -5.28546871e-15]],\n",
              "\n",
              "       [[-6.64189363e-16, -5.80806018e-01],\n",
              "        [ 9.62561954e-15, -5.80806018e-01]],\n",
              "\n",
              "       [[-2.80202781e-01,  3.44671832e-15],\n",
              "        [ 2.80202781e-01,  1.76351073e-14]],\n",
              "\n",
              "       [[ 5.23727936e-15, -4.03316711e-01],\n",
              "        [-5.95339763e-15,  4.03316711e-01]]])</details></samp><samp style='font-size: 12px;'><details><summary><b style=\"color: #e55471;\">Tensor</b>(shape=(<b style=\"color: #828fdd;\">2</b>, <b style=\"color: #828fdd;\">2</b>), inds=[<b style=\"color: #8ace5a;\">_d82331AAAAR</b>, <b style=\"color: #462edc;\">k4</b>], tags={<b style=\"color: #998ad1;\">I4</b>}),</summary>backend=<b style=\"color: #7fdd73;\">numpy</b>, dtype=<b style=\"color: #75d2c6;\">float64</b>, data=array([[-0.61653985, -0.61653985],\n",
              "       [ 0.34623492, -0.34623492]])</details></samp></details></samp>"
            ],
            "text/plain": [
              "MatrixProductState(tensors=5, indices=9, L=5, max_bond=4)"
            ]
          },
          "execution_count": 3,
          "metadata": {},
          "output_type": "execute_result"
        }
      ],
      "source": [
        "HaldaneSpinHalf.DMRG(h1 = 0.2, h2 = 0.3)"
      ]
    },
    {
      "cell_type": "code",
      "execution_count": 15,
      "metadata": {},
      "outputs": [],
      "source": [
        "train_points = pd.read_csv('~/4th_project_with_UCL/supervised learning/Second_hamiltonian/dataset/regular_train_set.csv')"
      ]
    },
    {
      "cell_type": "code",
      "execution_count": null,
      "metadata": {
        "metadata": {}
      },
      "outputs": [
        {
          "name": "stderr",
          "output_type": "stream",
          "text": [
            "/home/mehran/.local/lib/python3.10/site-packages/cotengra/hyperoptimizers/hyper.py:33: UserWarning: Couldn't import `kahypar` - skipping from default hyper optimizer and using basic `labels` method instead.\n",
            "  warnings.warn(\n"
          ]
        }
      ],
      "source": [
        "import gc\n",
        "import h5py\n",
        "import quimb as qu\n",
        "import quimb.tensor as qtn\n",
        "import numpy as np\n",
        "import pandas as pd\n",
        "from sklearn import svm\n",
        "from sklearn.metrics import *\n",
        "import matplotlib.pyplot as plt\n",
        "from Haldane_spin_half import *"
      ]
    },
    {
      "cell_type": "code",
      "execution_count": 8,
      "metadata": {
        "metadata": {}
      },
      "outputs": [],
      "source": [
        "L = 11  # number of particle which has to be odd for calculate faster\n",
        "ls_train = 11 # the scale of dividing the range of h and k for train part (including projected states)\n",
        "ls_test = 11 # the scale of dividing the range of h and k for test part (including DMRG states)"
      ]
    },
    {
      "cell_type": "code",
      "execution_count": 9,
      "metadata": {
        "metadata": {}
      },
      "outputs": [
        {
          "data": {
            "text/plain": [
              "495"
            ]
          },
          "execution_count": 9,
          "metadata": {},
          "output_type": "execute_result"
        }
      ],
      "source": [
        "train_set = ANNNI(L = L, ls = ls_train).generate_train_set() #ts[0] = DMRG_state, ts[1] = DMRG_target, ts[2] = project_state,ts[3] = projection_target, ts[4] = h1_h2\n",
        "gc.collect(2)"
      ]
    },
    {
      "cell_type": "code",
      "execution_count": 10,
      "metadata": {},
      "outputs": [],
      "source": [
        "with h5py.File(\"projection_target.hdf5\", \"w\") as f:\n",
        "    f.create_dataset(\"y\", data = train_set[3])"
      ]
    },
    {
      "cell_type": "code",
      "execution_count": 11,
      "metadata": {
        "metadata": {}
      },
      "outputs": [],
      "source": [
        "test_set = ANNNI(L = L, ls = ls_test).generate_test_set()#ts[0]=DMRG_state, ts[1]=h1h2"
      ]
    },
    {
      "cell_type": "code",
      "execution_count": 12,
      "metadata": {
        "metadata": {}
      },
      "outputs": [
        {
          "data": {
            "text/plain": [
              "0"
            ]
          },
          "execution_count": 12,
          "metadata": {},
          "output_type": "execute_result"
        }
      ],
      "source": [
        "def gram_train():\n",
        "    Xt = train_set[2]\n",
        "    d = len(Xt)\n",
        "    gram_matrix_train = np.zeros((d,d))\n",
        "    for i in range(d):\n",
        "        for j in range(d):\n",
        "            gram_matrix_train[i,j] = np.abs(Xt[i].H @ Xt[j])**2/ (np.abs(Xt[i].H @ Xt[i])*np.abs(Xt[j].H @ Xt[j]))\n",
        "    return gram_matrix_train\n",
        "\n",
        "gtrain = gram_train()\n",
        "\n",
        "with h5py.File(\"gram_train.hdf5\", \"w\") as f:\n",
        "    f.create_dataset(\"gram_train\", data = gram_train())\n",
        "\n",
        "gc.collect(2)"
      ]
    },
    {
      "cell_type": "code",
      "execution_count": 13,
      "metadata": {
        "metadata": {}
      },
      "outputs": [
        {
          "data": {
            "text/plain": [
              "0"
            ]
          },
          "execution_count": 13,
          "metadata": {},
          "output_type": "execute_result"
        }
      ],
      "source": [
        "def gram_test():\n",
        "    Xte = test_set[0]\n",
        "    d1 = len(Xte)\n",
        "    Xtr = train_set[2]\n",
        "    d2 = len(Xtr)\n",
        "    gram_matrix_test = np.zeros((d1,d2))\n",
        "    for i in range(d1):\n",
        "        for j in range(d2):\n",
        "            gram_matrix_test[i,j] = np.abs((Xte[i].H @ Xtr[j]))**2/ (np.abs((Xte[i].H @ Xte[i]))*np.abs((Xtr[j].H @ Xtr[j])))\n",
        "    return gram_matrix_test\n",
        "\n",
        "gtest = gram_test()\n",
        "\n",
        "with h5py.File(\"gram_test.hdf5\", \"w\") as f:\n",
        "    f.create_dataset(\"gram_test\", data = gram_test())\n",
        "\n",
        "gc.collect(2)"
      ]
    }
  ],
  "metadata": {
    "colab": {
      "provenance": []
    },
    "kernelspec": {
      "display_name": "TN_QML",
      "language": "python",
      "name": "python3"
    },
    "language_info": {
      "codemirror_mode": {
        "name": "ipython",
        "version": 3
      },
      "file_extension": ".py",
      "mimetype": "text/x-python",
      "name": "python",
      "nbconvert_exporter": "python",
      "pygments_lexer": "ipython3",
      "version": "3.12.3"
    }
  },
  "nbformat": 4,
  "nbformat_minor": 0
}
