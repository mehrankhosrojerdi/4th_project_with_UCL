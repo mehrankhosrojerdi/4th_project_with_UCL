{
 "cells": [
  {
   "cell_type": "code",
   "execution_count": 1,
   "metadata": {
    "metadata": {}
   },
   "outputs": [],
   "source": [
    "import gc\n",
    "import os\n",
    "import h5py\n",
    "import pickle\n",
    "import numpy as np\n",
    "from sklearn import svm\n",
    "import pandas as pd\n",
    "import matplotlib.pyplot as plt\n",
    "from Haldane_anis_supervise_class import *"
   ]
  },
  {
   "cell_type": "code",
   "execution_count": 3,
   "metadata": {
    "metadata": {}
   },
   "outputs": [],
   "source": [
    "L = 5 #number of particles must be odd\n",
    "bond = 10 # resonable amount\n",
    "path  = f\"./dataset_L={L}_bond={bond}\"\n",
    "os.makedirs(path, exist_ok=True)"
   ]
  },
  {
   "cell_type": "code",
   "execution_count": 3,
   "metadata": {},
   "outputs": [
    {
     "name": "stderr",
     "output_type": "stream",
     "text": [
      "Generating train set: 100%|██████████| 185/185 [00:02<00:00, 73.08it/s] \n"
     ]
    },
    {
     "data": {
      "text/plain": [
       "26"
      ]
     },
     "execution_count": 3,
     "metadata": {},
     "output_type": "execute_result"
    }
   ],
   "source": [
    "points = Haldan_anis(L = L, bond = bond).points()\n",
    "file_path_train_DMRG = os.path.join(path, 'train_set_DMRG.pkl')\n",
    "with open(file_path_train_DMRG, \"wb\") as f:\n",
    "    pickle.dump(points, f)\n",
    "gc.collect(2)"
   ]
  },
  {
   "cell_type": "code",
   "execution_count": 4,
   "metadata": {},
   "outputs": [
    {
     "name": "stderr",
     "output_type": "stream",
     "text": [
      "Generating test set: 100%|██████████| 1600/1600 [00:08<00:00, 190.81it/s]\n"
     ]
    },
    {
     "data": {
      "text/plain": [
       "0"
      ]
     },
     "execution_count": 4,
     "metadata": {},
     "output_type": "execute_result"
    }
   ],
   "source": [
    "test = Haldan_anis(L = L, bond = bond).generate_test_set()\n",
    "file_path_test = os.path.join(path, 'test_set.pkl')\n",
    "with open(file_path_test, \"wb\") as f:\n",
    "    pickle.dump(test, f)\n",
    "gc.collect(2)"
   ]
  },
  {
   "cell_type": "code",
   "execution_count": 11,
   "metadata": {},
   "outputs": [
    {
     "data": {
      "text/plain": [
       "0"
      ]
     },
     "execution_count": 11,
     "metadata": {},
     "output_type": "execute_result"
    }
   ],
   "source": [
    "def gram_train_DMRG():\n",
    "\n",
    "    with open(file_path_train_DMRG, \"rb\") as f:\n",
    "        loaded_dataset = pickle.load(f)\n",
    "\n",
    "    gs = loaded_dataset[0]\n",
    "\n",
    "    def inner_product(i,j):\n",
    "        return np.abs(gs[i].H @ gs[j])**2\n",
    "    \n",
    "    d = len(gs)\n",
    "    afinity_train = np.zeros((d,d))\n",
    "\n",
    "    for idx in range(d*d):\n",
    "        i = idx // d\n",
    "        j = idx % d\n",
    "        if j>=i:\n",
    "            afinity_train[i,j]=afinity_train[j,i]=inner_product(i,j)\n",
    "\n",
    "    return afinity_train\n",
    "\n",
    "g_train = gram_train_DMRG()\n",
    "\n",
    "file_path_kernel_train_DMRG= os.path.join(path, \"kernel_train_Haldane_DMRG.hdf5\")\n",
    "with h5py.File(file_path_kernel_train_DMRG, \"w\") as f:\n",
    "    f.create_dataset(\" gram_train_DMRG\", data = g_train)\n",
    "    \n",
    "gc.collect(2)"
   ]
  },
  {
   "cell_type": "code",
   "execution_count": 12,
   "metadata": {},
   "outputs": [
    {
     "data": {
      "text/plain": [
       "0"
      ]
     },
     "execution_count": 12,
     "metadata": {},
     "output_type": "execute_result"
    }
   ],
   "source": [
    "def gram_test_DMRG():\n",
    "\n",
    "    with open(file_path_test, 'rb') as f:\n",
    "        loaded_test_set = pickle.load(f)  \n",
    "    Xte = np.array(loaded_test_set)\n",
    "    d1 = Xte.shape[0]\n",
    "\n",
    "    with open(file_path_train_DMRG, \"rb\") as f:\n",
    "        loaded_dataset = pickle.load(f)\n",
    "    Xtr = np.array(loaded_dataset[0])\n",
    "    d2 = Xtr.shape[0]\n",
    "      \n",
    "    gram_matrix_test = np.zeros((d1,d2))\n",
    "    for i in range(d1):\n",
    "        for j in range(d2):\n",
    "            gram_matrix_test[i,j] = np.abs((Xte[i].H @ Xtr[j]))**2\n",
    "    return gram_matrix_test\n",
    "\n",
    "g_test = gram_test_DMRG()\n",
    "\n",
    "file_path_kernel_test_DMRG = os.path.join(path, \"kernel_test_Haldane_DMRG.hdf5\")\n",
    "with h5py.File(file_path_kernel_test_DMRG, \"w\") as f:\n",
    "    f.create_dataset(\"gram_test\", data = g_test)\n",
    "gc.collect(2)\n"
   ]
  },
  {
   "cell_type": "code",
   "execution_count": 14,
   "metadata": {},
   "outputs": [
    {
     "data": {
      "image/png": "[encoded data removed]",
      "text/plain": [
       "<Figure size 640x480 with 1 Axes>"
      ]
     },
     "metadata": {},
     "output_type": "display_data"
    }
   ],
   "source": [
    "clf = svm.SVC(kernel='precomputed')\n",
    "with open(file_path_train_DMRG, \"rb\") as f:\n",
    "    dataset = pickle.load(f)\n",
    "\n",
    "with h5py.File(file_path_kernel_train_DMRG, \"r\") as f:\n",
    "    kernel_train = f[\" gram_train_DMRG\"][:] \n",
    "\n",
    "with h5py.File(file_path_kernel_test_DMRG, \"r\") as f:\n",
    "    kernel_test = f[\"gram_test\"][:] \n",
    "\n",
    "y = dataset[1]\n",
    "clf.fit(kernel_train, y) \n",
    "y_pred = clf.predict(kernel_test)\n",
    "plt.imshow(y_pred.reshape(40,40))\n",
    "plt.savefig(f'result for DMRG states with L={L} and bond dimension ={bond}.png')\n",
    "plt.show()"
   ]
  },
  {
   "cell_type": "code",
   "execution_count": 16,
   "metadata": {},
   "outputs": [
    {
     "data": {
      "text/plain": [
       "array([[3, 3, 3, ..., 6, 6, 6],\n",
       "       [3, 3, 3, ..., 6, 6, 6],\n",
       "       [3, 3, 3, ..., 6, 6, 6],\n",
       "       ...,\n",
       "       [1, 1, 1, ..., 4, 4, 4],\n",
       "       [1, 1, 1, ..., 4, 4, 4],\n",
       "       [1, 1, 1, ..., 4, 4, 4]])"
      ]
     },
     "execution_count": 16,
     "metadata": {},
     "output_type": "execute_result"
    }
   ],
   "source": [
    "y_pred.reshape(40,40)"
   ]
  },
  {
   "cell_type": "code",
   "execution_count": 8,
   "metadata": {},
   "outputs": [],
   "source": [
    "true_values = pd.read_csv('~/4th_project_with_UCL/scatter_points.csv')\n",
    "y_true = true_values['target'].to_list()"
   ]
  },
  {
   "cell_type": "code",
   "execution_count": 9,
   "metadata": {},
   "outputs": [
    {
     "data": {
      "text/plain": [
       "<matplotlib.colorbar.Colorbar at 0x73d36747b710>"
      ]
     },
     "execution_count": 9,
     "metadata": {},
     "output_type": "execute_result"
    },
    {
     "data": {
      "image/png": "[encoded data removed]",
      "text/plain": [
       "<Figure size 640x480 with 2 Axes>"
      ]
     },
     "metadata": {},
     "output_type": "display_data"
    }
   ],
   "source": [
    "plt.imshow(np.array(y_true).reshape(40,40))\n",
    "plt.colorbar()"
   ]
  },
  {
   "cell_type": "code",
   "execution_count": 10,
   "metadata": {},
   "outputs": [
    {
     "data": {
      "text/plain": [
       "<matplotlib.colorbar.Colorbar at 0x73d36789a7b0>"
      ]
     },
     "execution_count": 10,
     "metadata": {},
     "output_type": "execute_result"
    },
    {
     "data": {
      "image/png": "[encoded data removed]",
      "text/plain": [
       "<Figure size 640x480 with 2 Axes>"
      ]
     },
     "metadata": {},
     "output_type": "display_data"
    }
   ],
   "source": [
    "plt.imshow(y_pred.reshape(40,40))\n",
    "plt.colorbar()"
   ]
  },
  {
   "cell_type": "code",
   "execution_count": 18,
   "metadata": {},
   "outputs": [
    {
     "data": {
      "text/plain": [
       "0.8825"
      ]
     },
     "execution_count": 18,
     "metadata": {},
     "output_type": "execute_result"
    }
   ],
   "source": [
    "from sklearn.metrics import accuracy_score\n",
    "accuracy_score(y_true, y_pred)\n"
   ]
  },
  {
   "cell_type": "code",
   "execution_count": 27,
   "metadata": {},
   "outputs": [
    {
     "data": {
      "text/plain": [
       "<matplotlib.image.AxesImage at 0x73d367053650>"
      ]
     },
     "execution_count": 27,
     "metadata": {},
     "output_type": "execute_result"
    },
    {
     "data": {
      "image/png": "[encoded data removed]",
      "text/plain": [
       "<Figure size 640x480 with 1 Axes>"
      ]
     },
     "metadata": {},
     "output_type": "display_data"
    }
   ],
   "source": [
    "from sklearn.metrics import confusion_matrix\n",
    "mat = confusion_matrix(y_true, y_pred)\n",
    "plt.imshow(mat, interpolation='nearest', cmap=plt.cm.Blues)"
   ]
  },
  {
   "cell_type": "code",
   "execution_count": 24,
   "metadata": {},
   "outputs": [
    {
     "data": {
      "text/plain": [
       "0.8825"
      ]
     },
     "execution_count": 24,
     "metadata": {},
     "output_type": "execute_result"
    }
   ],
   "source": [
    "accuracy = np.trace(mat) / np.sum(mat)\n",
    "accuracy"
   ]
  },
  {
   "cell_type": "code",
   "execution_count": 31,
   "metadata": {},
   "outputs": [
    {
     "data": {
      "text/plain": [
       "0.7661007887248885"
      ]
     },
     "execution_count": 31,
     "metadata": {},
     "output_type": "execute_result"
    }
   ],
   "source": [
    "from sklearn.metrics import precision_score, recall_score, f1_score\n",
    "precision_score(y_true, y_pred, average='macro')  # or 'macro', 'micro', 'weighted'\n"
   ]
  },
  {
   "cell_type": "code",
   "execution_count": 32,
   "metadata": {},
   "outputs": [
    {
     "data": {
      "text/plain": [
       "0.881388448279326"
      ]
     },
     "execution_count": 32,
     "metadata": {},
     "output_type": "execute_result"
    }
   ],
   "source": [
    "recall_score(y_true, y_pred, average='macro')\n"
   ]
  },
  {
   "cell_type": "code",
   "execution_count": 33,
   "metadata": {},
   "outputs": [
    {
     "data": {
      "text/plain": [
       "0.7881156344581617"
      ]
     },
     "execution_count": 33,
     "metadata": {},
     "output_type": "execute_result"
    }
   ],
   "source": [
    "f1_score(y_true, y_pred, average='macro')"
   ]
  },
  {
   "cell_type": "code",
   "execution_count": 34,
   "metadata": {},
   "outputs": [
    {
     "name": "stdout",
     "output_type": "stream",
     "text": [
      "              precision    recall  f1-score   support\n",
      "\n",
      "           0       0.39      0.65      0.49        40\n",
      "           1       0.89      0.98      0.93       219\n",
      "           2       0.87      0.91      0.89       237\n",
      "           3       0.93      0.97      0.95       242\n",
      "           4       1.00      0.82      0.90       409\n",
      "           5       0.29      1.00      0.44        28\n",
      "           6       1.00      0.84      0.91       425\n",
      "\n",
      "    accuracy                           0.88      1600\n",
      "   macro avg       0.77      0.88      0.79      1600\n",
      "weighted avg       0.93      0.88      0.90      1600\n",
      "\n"
     ]
    }
   ],
   "source": [
    "from sklearn.metrics import classification_report\n",
    "print(classification_report(y_true, y_pred))\n"
   ]
  },
  {
   "cell_type": "code",
   "execution_count": 41,
   "metadata": {},
   "outputs": [],
   "source": [
    "y_scores = clf.decision_function(kernel_test)  # Get the decision function scores\n",
    "row_sums = y_scores.sum(axis=1, keepdims=True)\n",
    "y_scores_normalized = y_scores / row_sums"
   ]
  },
  {
   "cell_type": "code",
   "execution_count": 43,
   "metadata": {},
   "outputs": [
    {
     "data": {
      "text/plain": [
       "0.971818712271191"
      ]
     },
     "execution_count": 43,
     "metadata": {},
     "output_type": "execute_result"
    }
   ],
   "source": [
    "from sklearn.metrics import roc_auc_score\n",
    "roc_auc_score(y_true, y_scores_normalized, multi_class='ovo')  # y_scores from `clf.decision_function(X)`"
   ]
  },
  {
   "cell_type": "code",
   "execution_count": null,
   "metadata": {},
   "outputs": [
    {
     "ename": "NameError",
     "evalue": "name 'n_classes' is not defined",
     "output_type": "error",
     "traceback": [
      "\u001b[0;31m---------------------------------------------------------------------------\u001b[0m",
      "\u001b[0;31mNameError\u001b[0m                                 Traceback (most recent call last)",
      "Cell \u001b[0;32mIn[46], line 7\u001b[0m\n\u001b[1;32m      5\u001b[0m tpr \u001b[38;5;241m=\u001b[39m \u001b[38;5;28mdict\u001b[39m()\n\u001b[1;32m      6\u001b[0m roc_auc \u001b[38;5;241m=\u001b[39m \u001b[38;5;28mdict\u001b[39m()\n\u001b[0;32m----> 7\u001b[0m \u001b[38;5;28;01mfor\u001b[39;00m i \u001b[38;5;129;01min\u001b[39;00m \u001b[38;5;28mrange\u001b[39m(\u001b[43mn_classes\u001b[49m):\n\u001b[1;32m      8\u001b[0m     fpr[i], tpr[i], _ \u001b[38;5;241m=\u001b[39m roc_curve(y_test[:, i], y_score[:, i])\n\u001b[1;32m      9\u001b[0m     roc_auc[i] \u001b[38;5;241m=\u001b[39m auc(fpr[i], tpr[i])\n",
      "\u001b[0;31mNameError\u001b[0m: name 'n_classes' is not defined"
     ]
    }
   ],
   "source": [
    "from sklearn.metrics import roc_curve, roc_auc_score\n",
    "import matplotlib.pyplot as plt\n",
    "\n",
    "fpr = dict()\n",
    "tpr = dict()\n",
    "roc_auc = dict()\n",
    "for i in range(y_true):\n",
    "    fpr[i], tpr[i], _ = roc_curve(y_test[:, i], y_score[:, i])\n",
    "    roc_auc[i] = auc(fpr[i], tpr[i])\n",
    "\n",
    "# Compute micro-average ROC curve and ROC area\n",
    "fpr[\"micro\"], tpr[\"micro\"], _ = roc_curve(y_test.ravel(), y_score.ravel())\n",
    "roc_auc[\"micro\"] = auc(fpr[\"micro\"], tpr[\"micro\"])\n"
   ]
  },
  {
   "cell_type": "code",
   "execution_count": 5,
   "metadata": {},
   "outputs": [
    {
     "name": "stderr",
     "output_type": "stream",
     "text": [
      "Generating train set: 100%|██████████| 185/185 [00:00<00:00, 415.05it/s]\n"
     ]
    },
    {
     "data": {
      "text/plain": [
       "26"
      ]
     },
     "execution_count": 5,
     "metadata": {},
     "output_type": "execute_result"
    }
   ],
   "source": [
    "projection = Haldan_anis(L = L, bond = bond).apply_projection()\n",
    "file_path_train_projected_DMRG = os.path.join(path, 'train_set_projected_DMRG.pkl')\n",
    "with open(file_path_train_projected_DMRG, \"wb\") as f:\n",
    "    pickle.dump(projection, f)\n",
    "gc.collect(2)"
   ]
  },
  {
   "cell_type": "code",
   "execution_count": 6,
   "metadata": {},
   "outputs": [
    {
     "data": {
      "text/plain": [
       "0"
      ]
     },
     "execution_count": 6,
     "metadata": {},
     "output_type": "execute_result"
    }
   ],
   "source": [
    "def gram_train_project_DMRG():\n",
    "\n",
    "    with open(file_path_train_projected_DMRG, \"rb\") as f:\n",
    "        loaded_dataset = pickle.load(f)\n",
    "\n",
    "    gs = np.array(loaded_dataset[0])\n",
    "    d = gs.shape[0]\n",
    "    afinity_train = np.zeros((d,d))\n",
    "    for i in range(0,d):\n",
    "        for j in range(i,d):\n",
    "            afinity_train[i,j] = np.abs(gs[i].H @ gs[j])**2\n",
    "            afinity_train[j,i] = afinity_train[i,j]\n",
    "\n",
    "    return afinity_train\n",
    "\n",
    "g_train_proj = gram_train_project_DMRG()\n",
    "\n",
    "file_path_kernel_projected_DMRG= os.path.join(path, \"kernel_train_Haldane_projected_DMRG.hdf5\")\n",
    "with h5py.File(file_path_kernel_projected_DMRG, \"w\") as f:\n",
    "    f.create_dataset(\" gram_train_projected_DMRG\", data = g_train_proj)\n",
    "    \n",
    "gc.collect(2)"
   ]
  },
  {
   "cell_type": "code",
   "execution_count": 7,
   "metadata": {},
   "outputs": [
    {
     "data": {
      "text/plain": [
       "0"
      ]
     },
     "execution_count": 7,
     "metadata": {},
     "output_type": "execute_result"
    }
   ],
   "source": [
    "def gram_test_projected_DMRG():\n",
    "\n",
    "    with open(file_path_test, 'rb') as f:\n",
    "        loaded_test_set = pickle.load(f)  \n",
    "    Xte = np.array(loaded_test_set)\n",
    "    d1 = Xte.shape[0]\n",
    "\n",
    "    with open(file_path_train_projected_DMRG, \"rb\") as f:\n",
    "        loaded_dataset = pickle.load(f)\n",
    "    Xtr = np.array(loaded_dataset[0])\n",
    "    d2 = Xtr.shape[0]\n",
    "      \n",
    "    gram_matrix_test = np.zeros((d1,d2))\n",
    "    for i in range(d1):\n",
    "        for j in range(d2):\n",
    "            gram_matrix_test[i,j] = np.abs((Xte[i].H @ Xtr[j]))**2\n",
    "    return gram_matrix_test\n",
    "\n",
    "g_test_proj = gram_test_projected_DMRG()\n",
    "\n",
    "file_path_kernel_test_projected_DMRG = os.path.join(path, \"kernel_test_Haldane_projected_DMRG.hdf5\")\n",
    "with h5py.File(file_path_kernel_test_projected_DMRG, \"w\") as f:\n",
    "    f.create_dataset(\"gram_test_projected_DMRG\", data = g_test_proj)\n",
    "gc.collect(2)\n"
   ]
  },
  {
   "cell_type": "code",
   "execution_count": 8,
   "metadata": {},
   "outputs": [
    {
     "data": {
      "image/png": "[encoded data removed]",
      "text/plain": [
       "<Figure size 640x480 with 1 Axes>"
      ]
     },
     "metadata": {},
     "output_type": "display_data"
    }
   ],
   "source": [
    "clf = svm.SVC(kernel='precomputed')\n",
    "with open(file_path_train_projected_DMRG, \"rb\") as f:\n",
    "    dataset = pickle.load(f)\n",
    "\n",
    "with h5py.File(file_path_kernel_projected_DMRG, \"r\") as f:\n",
    "    kernel_train = f[\" gram_train_projected_DMRG\"][:] \n",
    "\n",
    "with h5py.File(file_path_kernel_test_projected_DMRG, \"r\") as f:\n",
    "    kernel_test = f[\"gram_test_projected_DMRG\"][:] \n",
    "\n",
    "y = dataset[1]\n",
    "clf.fit(kernel_train, y) \n",
    "y_pred = clf.predict(kernel_test)\n",
    "plt.imshow(np.flipud(y_pred.reshape(40,40)))\n",
    "plt.savefig(f'local two z.png')\n",
    "plt.show()"
   ]
  },
  {
   "cell_type": "code",
   "execution_count": 11,
   "metadata": {},
   "outputs": [
    {
     "data": {
      "text/plain": [
       "array([2, 2, 2, 2, 2, 2, 2, 2, 2, 2, 2, 2, 2, 2, 2, 2, 2, 2, 0, 2, 4, 4,\n",
       "       4, 4, 4, 4, 4, 4, 4, 4, 4, 4, 4, 4, 4, 4, 4, 4, 4, 4])"
      ]
     },
     "execution_count": 11,
     "metadata": {},
     "output_type": "execute_result"
    }
   ],
   "source": [
    "y_pred.reshape(40,40)[20]"
   ]
  }
 ],
 "metadata": {
  "colab": {
   "provenance": []
  },
  "kernelspec": {
   "display_name": "QML_TN",
   "language": "python",
   "name": "python3"
  },
  "language_info": {
   "codemirror_mode": {
    "name": "ipython",
    "version": 3
   },
   "file_extension": ".py",
   "mimetype": "text/x-python",
   "name": "python",
   "nbconvert_exporter": "python",
   "pygments_lexer": "ipython3",
   "version": "3.12.3"
  }
 },
 "nbformat": 4,
 "nbformat_minor": 0
}
