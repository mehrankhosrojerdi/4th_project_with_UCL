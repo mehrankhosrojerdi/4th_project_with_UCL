{
 "cells": [
  {
   "cell_type": "code",
   "execution_count": 2,
   "id": "6e963c08",
   "metadata": {},
   "outputs": [
    {
     "ename": "ModuleNotFoundError",
     "evalue": "No module named 'h5py'",
     "output_type": "error",
     "traceback": [
      "\u001b[0;31m---------------------------------------------------------------------------\u001b[0m",
      "\u001b[0;31mModuleNotFoundError\u001b[0m                       Traceback (most recent call last)",
      "Cell \u001b[0;32mIn[2], line 4\u001b[0m\n\u001b[1;32m      2\u001b[0m \u001b[38;5;28;01mimport\u001b[39;00m \u001b[38;5;21;01mgc\u001b[39;00m\n\u001b[1;32m      3\u001b[0m \u001b[38;5;28;01mimport\u001b[39;00m \u001b[38;5;21;01mpickle\u001b[39;00m\n\u001b[0;32m----> 4\u001b[0m \u001b[38;5;28;01mimport\u001b[39;00m \u001b[38;5;21;01mh5py\u001b[39;00m\n\u001b[1;32m      5\u001b[0m \u001b[38;5;28;01mimport\u001b[39;00m \u001b[38;5;21;01mnumpy\u001b[39;00m \u001b[38;5;28;01mas\u001b[39;00m \u001b[38;5;21;01mnp\u001b[39;00m\n\u001b[1;32m      6\u001b[0m \u001b[38;5;28;01mimport\u001b[39;00m \u001b[38;5;21;01mmatplotlib\u001b[39;00m\u001b[38;5;21;01m.\u001b[39;00m\u001b[38;5;21;01mpyplot\u001b[39;00m \u001b[38;5;28;01mas\u001b[39;00m \u001b[38;5;21;01mplt\u001b[39;00m\n",
      "\u001b[0;31mModuleNotFoundError\u001b[0m: No module named 'h5py'"
     ]
    }
   ],
   "source": [
    "import os\n",
    "import gc\n",
    "import pickle\n",
    "import h5py\n",
    "import numpy as np\n",
    "import matplotlib.pyplot as plt\n",
    "from sklearn import svm\n",
    "from transfer_learning import TransferLearning"
   ]
  },
  {
   "cell_type": "code",
   "execution_count": 3,
   "id": "403265cd",
   "metadata": {},
   "outputs": [],
   "source": [
    "L = 10\n",
    "bond  = 10\n",
    "path  = f\"./dataset_L={L}_bond={bond}\"\n",
    "os.makedirs(path, exist_ok=True)\n",
    "TF = TransferLearning(L = L, bond = bond)"
   ]
  },
  {
   "cell_type": "code",
   "execution_count": 4,
   "id": "aad8e9eb",
   "metadata": {},
   "outputs": [
    {
     "name": "stderr",
     "output_type": "stream",
     "text": [
      "Generating ANNNI set: 400it [00:09, 40.67it/s]\n"
     ]
    },
    {
     "data": {
      "text/plain": [
       "0"
      ]
     },
     "execution_count": 4,
     "metadata": {},
     "output_type": "execute_result"
    }
   ],
   "source": [
    "ANNNI_training = TF.generate_ANNNI() #lst_contract, lst_y, lst_kh, lst_dmrg\n",
    "file_path_train_DMRG = os.path.join(path, 'ANNNI_training.pkl')\n",
    "with open(file_path_train_DMRG, \"wb\") as f:\n",
    "    pickle.dump(ANNNI_training, f)\n",
    "gc.collect(2)"
   ]
  },
  {
   "cell_type": "code",
   "execution_count": 5,
   "id": "03a1e991",
   "metadata": {},
   "outputs": [
    {
     "name": "stderr",
     "output_type": "stream",
     "text": [
      "Generating Ising set: 100%|██████████| 400/400 [00:05<00:00, 70.28it/s]\n"
     ]
    },
    {
     "data": {
      "text/plain": [
       "26"
      ]
     },
     "execution_count": 5,
     "metadata": {},
     "output_type": "execute_result"
    }
   ],
   "source": [
    "Ising_dataset = TF.generate_Ising()\n",
    "file_path_test_DMRG = os.path.join(path, 'Ising_dataset.pkl')\n",
    "with open(file_path_test_DMRG, \"wb\") as f:\n",
    "    pickle.dump(Ising_dataset, f)\n",
    "gc.collect(2)"
   ]
  },
  {
   "cell_type": "code",
   "execution_count": 6,
   "id": "e62bb700",
   "metadata": {},
   "outputs": [],
   "source": [
    "file_path_train_DMRG = os.path.join(path, 'ANNNI_training.pkl')\n",
    "with open(file_path_train_DMRG, 'rb') as f:\n",
    "    ANNNI_training = pickle.load(f)\n",
    "file_path_test_DMRG = os.path.join(path, 'Ising_dataset.pkl')\n",
    "with open(file_path_test_DMRG, 'rb') as f:\n",
    "    Ising_dataset = pickle.load(f)"
   ]
  },
  {
   "cell_type": "code",
   "execution_count": 7,
   "id": "09f0f2e4",
   "metadata": {},
   "outputs": [
    {
     "name": "stdout",
     "output_type": "stream",
     "text": [
      "Computing Gram matrix for training set...\n"
     ]
    },
    {
     "name": "stderr",
     "output_type": "stream",
     "text": [
      "Gram Train: 100%|██████████| 364816/364816 [01:10<00:00, 5189.92it/s] \n"
     ]
    },
    {
     "name": "stdout",
     "output_type": "stream",
     "text": [
      "Gram matrix for training set computed in 70.30 seconds.\n"
     ]
    },
    {
     "data": {
      "text/plain": [
       "0"
      ]
     },
     "execution_count": 7,
     "metadata": {},
     "output_type": "execute_result"
    }
   ],
   "source": [
    "gram_train = TF.get_kernel_train(ANNNI_training)\n",
    "\n",
    "file_path_kernel_train_DMRG= os.path.join(path, \"kernel_train_ANNNI.hdf5\")\n",
    "with h5py.File(file_path_kernel_train_DMRG, \"w\") as f:\n",
    "    f.create_dataset(\" gram_train_DMRG\", data = gram_train)\n",
    "    \n",
    "gc.collect(2)"
   ]
  },
  {
   "cell_type": "code",
   "execution_count": 8,
   "id": "d0d6c834",
   "metadata": {},
   "outputs": [
    {
     "name": "stdout",
     "output_type": "stream",
     "text": [
      "Computing Gram matrix for test set...\n"
     ]
    },
    {
     "name": "stderr",
     "output_type": "stream",
     "text": [
      "Gram Test: 100%|██████████| 400/400 [01:30<00:00,  4.42it/s]"
     ]
    },
    {
     "name": "stdout",
     "output_type": "stream",
     "text": [
      "Gram matrix for testing set computed in 90.53 seconds.\n"
     ]
    },
    {
     "name": "stderr",
     "output_type": "stream",
     "text": [
      "\n"
     ]
    },
    {
     "data": {
      "text/plain": [
       "0"
      ]
     },
     "execution_count": 8,
     "metadata": {},
     "output_type": "execute_result"
    }
   ],
   "source": [
    "gram_test = TF.get_kernel_test(trainset=ANNNI_training, testset=Ising_dataset)\n",
    "\n",
    "file_path_kernel_test_DMRG= os.path.join(path, \"kernel_test_Ising.hdf5\")\n",
    "with h5py.File(file_path_kernel_test_DMRG, \"w\") as f:\n",
    "    f.create_dataset(\"gram_test_Ising\", data = gram_test)\n",
    "\n",
    "gc.collect(2)"
   ]
  },
  {
   "cell_type": "code",
   "execution_count": 10,
   "id": "efd14bd9",
   "metadata": {},
   "outputs": [],
   "source": [
    "with h5py.File(file_path_kernel_train_DMRG, \"r\") as f:\n",
    "    gram_train = f[\" gram_train_DMRG\"][:] \n",
    "\n",
    "with h5py.File(file_path_kernel_test_DMRG, \"r\") as f:\n",
    "    gram_test = f[\"gram_test_Ising\"][:] "
   ]
  },
  {
   "cell_type": "code",
   "execution_count": 11,
   "id": "727d511a",
   "metadata": {},
   "outputs": [
    {
     "data": {
      "image/png": "[encoded data removed]",
      "text/plain": [
       "<Figure size 640x480 with 1 Axes>"
      ]
     },
     "metadata": {},
     "output_type": "display_data"
    }
   ],
   "source": [
    "clf = svm.SVC(kernel='precomputed')\n",
    "y = ANNNI_training[1]\n",
    "clf.fit(gram_train, y) \n",
    "y_pred = clf.predict(gram_test)\n",
    "plt.imshow(np.rot90(y_pred.reshape(20,20)))\n",
    "plt.savefig(f'result for DMRG states with L={L} and bond dimension ={bond}.png')\n",
    "plt.show()"
   ]
  },
  {
   "cell_type": "code",
   "execution_count": 13,
   "id": "00880eab",
   "metadata": {},
   "outputs": [
    {
     "data": {
      "text/plain": [
       "array([[-1, -1, -1, -1, -1, -1, -1, -1, -1, -1, -1, -1, -1, -1, -1, -1,\n",
       "        -1, -1, -1, -1],\n",
       "       [ 1,  1, -1, -1, -1, -1, -1, -1, -1, -1, -1, -1, -1, -1, -1, -1,\n",
       "        -1, -1, -1, -1],\n",
       "       [ 1,  1,  1,  1, -1, -1, -1, -1, -1, -1, -1, -1, -1, -1, -1, -1,\n",
       "        -1, -1, -1, -1],\n",
       "       [ 1,  1,  1,  1,  1, -1, -1, -1, -1, -1, -1, -1, -1, -1, -1, -1,\n",
       "        -1, -1, -1, -1],\n",
       "       [ 1,  1,  1,  1,  1,  1,  1, -1, -1, -1, -1, -1, -1, -1, -1, -1,\n",
       "        -1, -1, -1, -1],\n",
       "       [ 1,  1,  1,  1,  1,  1,  1,  1,  1, -1, -1, -1, -1, -1, -1, -1,\n",
       "        -1, -1, -1, -1],\n",
       "       [ 1,  1,  1,  1,  1,  1,  1,  1,  1,  1, -1, -1, -1, -1, -1, -1,\n",
       "        -1, -1, -1, -1],\n",
       "       [ 1,  1,  1,  1,  1,  1,  1,  1,  1,  1,  1,  1, -1, -1, -1, -1,\n",
       "        -1, -1, -1, -1],\n",
       "       [ 1,  1,  1,  1,  1,  1,  1,  1,  1,  1,  1,  1,  1,  1, -1, -1,\n",
       "        -1, -1, -1, -1],\n",
       "       [ 1,  1,  1,  1,  1,  1,  1,  1,  1,  1,  1,  1,  1,  1,  1, -1,\n",
       "        -1, -1, -1, -1],\n",
       "       [ 1,  1,  1,  1,  1,  1,  1,  1,  1,  1,  1,  1,  1,  1,  1,  1,\n",
       "         1, -1, -1, -1],\n",
       "       [ 1,  1,  1,  1,  1,  1,  1,  1,  1,  1,  1,  1,  1,  1,  1,  1,\n",
       "         1,  1,  1, -1],\n",
       "       [ 1,  1,  1,  1,  1,  1,  1,  1,  1,  1,  1,  1,  1,  1,  1,  1,\n",
       "         1,  1,  1,  1],\n",
       "       [ 1,  1,  1,  1,  1,  1,  1,  1,  1,  1,  1,  1,  1,  1,  1,  1,\n",
       "         1,  1,  1,  1],\n",
       "       [ 1,  1,  1,  1,  1,  1,  1,  1,  1,  1,  1,  1,  1,  1,  1,  1,\n",
       "         1,  1,  1,  1],\n",
       "       [ 1,  1,  1,  1,  1,  1,  1,  1,  1,  1,  1,  1,  1,  1,  1,  1,\n",
       "         1,  1,  1,  1],\n",
       "       [ 1,  1,  1,  1,  1,  1,  1,  1,  1,  1,  1,  1,  1,  1,  1,  1,\n",
       "         1,  1,  1,  1],\n",
       "       [ 1,  1,  1,  1,  1,  1,  1,  1,  1,  1,  1,  1,  1,  1,  1,  1,\n",
       "         1,  1,  1,  1],\n",
       "       [ 1,  1,  1,  1,  1,  1,  1,  1,  1,  1,  1,  1,  1,  1,  1,  1,\n",
       "         1,  1,  1,  1],\n",
       "       [ 1,  1,  1,  1,  1,  1,  1,  1,  1,  1,  1,  1,  1,  1,  1,  1,\n",
       "         1,  1,  1,  1]])"
      ]
     },
     "execution_count": 13,
     "metadata": {},
     "output_type": "execute_result"
    }
   ],
   "source": [
    "y_pred.reshape(20,20)"
   ]
  },
  {
   "cell_type": "code",
   "execution_count": 14,
   "id": "c5af9dc1",
   "metadata": {},
   "outputs": [],
   "source": [
    "def generate_dataset(k=None, h=None):\n",
    "    if k is None and h is None:\n",
    "        # Generate the dataset for the whole range\n",
    "        k_value = np.linspace((1e-5), 1, 20)\n",
    "        h_value = np.linspace((1e-5), 2, 20)\n",
    "        lst = []\n",
    "        for kv in k_value:\n",
    "            for hv in h_value:\n",
    "                lst.append(kv)\n",
    "                lst.append(hv)\n",
    "    elif h is None:\n",
    "        # Generate the dataset for the specified constant k\n",
    "        h_value = np.linspace((1e-5), 2, 10)\n",
    "        lst = []\n",
    "        for hv in h_value:\n",
    "            lst.append(k)\n",
    "            lst.append(hv)\n",
    "    elif k is None:\n",
    "        # Generate the dataset for the specified constant h\n",
    "        k_value = np.linspace((1e-5), 1, 20)\n",
    "        lst = []\n",
    "        for kv in k_value:\n",
    "            lst.append(kv)\n",
    "            lst.append(h)\n",
    "    else:\n",
    "        # Generate the dataset for the boundary values\n",
    "        k_value = np.linspace((1e-5), 1, 10)\n",
    "        h_value = np.linspace((1e-5), 2,10)\n",
    "        lst = []\n",
    "        for hv in h_value:\n",
    "            lst.append(k)\n",
    "            lst.append(hv)\n",
    "        for kv in k_value:\n",
    "            lst.append(kv)\n",
    "            lst.append(h)\n",
    "\n",
    "    # Generate final dataset which is based on (k, h) format\n",
    "    result = np.array(lst).reshape(int(len(lst)/2), 2)\n",
    "\n",
    "    # making functions for determining the target part of data\n",
    "    def hI_k(x):\n",
    "        return (((1 - x) / x) * (1 - np.sqrt((1 - (3 * x) + (4 * (x ** 2))) / (1 - x))))        \n",
    "    def hC_k(x):\n",
    "        return (1.05 * (np.sqrt(np.abs((x - 0.5) * (x - 0.1)))))\n",
    "    \n",
    "    # making the feature part of the data\n",
    "    lst_x = []\n",
    "    lst_y = []\n",
    "\n",
    "    lst_label = []\n",
    "\n",
    "    for element in result:\n",
    "        k = element[0]\n",
    "        h = element[1]\n",
    "\n",
    "        # the target part\n",
    "        # y = np.where(k < 0.5, np.where(h < hI_k(k), -1, 0), np.where(h < hC_k(k), 1, 0))\n",
    "        if k < 0.5:\n",
    "            if h < hI_k(k):\n",
    "                y = -1\n",
    "            else:\n",
    "                y = 0\n",
    "        elif k > 0.5:\n",
    "            if h < hC_k(k):\n",
    "                y = 1\n",
    "            else:\n",
    "                y = 0\n",
    "            \n",
    "        lst_label.append(y)\n",
    "        lst_x.append(k)\n",
    "        lst_y.append(h)\n",
    "\n",
    "\n",
    "\n",
    "    return lst_x, lst_y, lst_label\n",
    "    \n",
    "\n"
   ]
  },
  {
   "cell_type": "code",
   "execution_count": 15,
   "id": "efffb52c",
   "metadata": {},
   "outputs": [],
   "source": [
    "lst_x, lst_y, lst_y_before = generate_dataset(k=None, h=None)"
   ]
  },
  {
   "cell_type": "code",
   "execution_count": 16,
   "id": "90cc0970",
   "metadata": {},
   "outputs": [],
   "source": [
    "import pandas as pd\n",
    "ANNNI_dataset = pd.DataFrame({'x': lst_x, 'y': lst_y, 'label': lst_y_before})\n",
    "ANNNI_dataset.to_csv('dataset_ANNNI.csv', index=False)\n"
   ]
  },
  {
   "cell_type": "code",
   "execution_count": 22,
   "id": "35cdf55c",
   "metadata": {},
   "outputs": [
    {
     "data": {
      "text/plain": [
       "<matplotlib.image.AxesImage at 0x792920a30e90>"
      ]
     },
     "execution_count": 22,
     "metadata": {},
     "output_type": "execute_result"
    },
    {
     "data": {
      "image/png": "[encoded data removed]",
      "text/plain": [
       "<Figure size 640x480 with 1 Axes>"
      ]
     },
     "metadata": {},
     "output_type": "display_data"
    }
   ],
   "source": [
    "plt.imshow(np.array(ANNNI_dataset['label']).reshape(20,20))"
   ]
  }
 ],
 "metadata": {
  "kernelspec": {
   "display_name": "Python 3",
   "language": "python",
   "name": "python3"
  },
  "language_info": {
   "codemirror_mode": {
    "name": "ipython",
    "version": 3
   },
   "file_extension": ".py",
   "mimetype": "text/x-python",
   "name": "python",
   "nbconvert_exporter": "python",
   "pygments_lexer": "ipython3",
   "version": "3.10.12"
  }
 },
 "nbformat": 4,
 "nbformat_minor": 5
}
