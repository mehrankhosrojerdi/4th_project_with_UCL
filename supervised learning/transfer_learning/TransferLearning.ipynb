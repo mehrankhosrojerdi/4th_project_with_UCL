{
 "cells": [
  {
   "cell_type": "code",
   "execution_count": 7,
   "id": "6e963c08",
   "metadata": {},
   "outputs": [],
   "source": [
    "from transfer_learning import TransferLearning\n",
    "from sklearn import svm\n",
    "import matplotlib.pyplot as plt\n"
   ]
  },
  {
   "cell_type": "code",
   "execution_count": 2,
   "id": "403265cd",
   "metadata": {},
   "outputs": [],
   "source": [
    "L = 5\n",
    "bond  = 10\n",
    "TF = TransferLearning(L = L, bond = bond)"
   ]
  },
  {
   "cell_type": "code",
   "execution_count": 6,
   "id": "17f0c6f5",
   "metadata": {},
   "outputs": [
    {
     "name": "stderr",
     "output_type": "stream",
     "text": [
      "Generating train set: 100%|██████████| 185/185 [00:01<00:00, 151.56it/s]\n"
     ]
    }
   ],
   "source": [
    "train_set  = TF.generate_trainset()"
   ]
  },
  {
   "cell_type": "code",
   "execution_count": 6,
   "id": "f23ed679",
   "metadata": {},
   "outputs": [
    {
     "name": "stderr",
     "output_type": "stream",
     "text": [
      "Generating test set: 100%|██████████| 400/400 [00:01<00:00, 329.95it/s]\n"
     ]
    }
   ],
   "source": [
    "test_set = TF.generate_testset()"
   ]
  },
  {
   "cell_type": "code",
   "execution_count": 4,
   "id": "32ea8be8",
   "metadata": {},
   "outputs": [
    {
     "name": "stdout",
     "output_type": "stream",
     "text": [
      "Computing Gram matrix for training set...\n"
     ]
    },
    {
     "name": "stderr",
     "output_type": "stream",
     "text": [
      "Generating train set: 100%|██████████| 185/185 [00:01<00:00, 177.67it/s]\n",
      "Gram Train: 100%|██████████| 34225/34225 [00:06<00:00, 5038.17it/s] "
     ]
    },
    {
     "name": "stdout",
     "output_type": "stream",
     "text": [
      "Gram matrix for training set computed in 8.30 seconds.\n"
     ]
    },
    {
     "name": "stderr",
     "output_type": "stream",
     "text": [
      "\n"
     ]
    }
   ],
   "source": [
    "gram_train = TF.get_kernel_train()"
   ]
  },
  {
   "cell_type": "code",
   "execution_count": 3,
   "id": "0139163e",
   "metadata": {},
   "outputs": [
    {
     "name": "stdout",
     "output_type": "stream",
     "text": [
      "Computing Gram matrix for test set...\n"
     ]
    },
    {
     "name": "stderr",
     "output_type": "stream",
     "text": [
      "Generating train set: 100%|██████████| 185/185 [00:04<00:00, 41.04it/s]\n",
      "Generating test set: 100%|██████████| 400/400 [00:03<00:00, 118.96it/s]\n",
      "Gram Test: 100%|██████████| 400/400 [00:27<00:00, 14.29it/s]"
     ]
    },
    {
     "name": "stdout",
     "output_type": "stream",
     "text": [
      "Gram matrix for testing set computed in 37.10 seconds.\n"
     ]
    },
    {
     "name": "stderr",
     "output_type": "stream",
     "text": [
      "\n"
     ]
    }
   ],
   "source": [
    "gram_test = TF.get_kernel_test()"
   ]
  },
  {
   "cell_type": "code",
   "execution_count": 11,
   "id": "727d511a",
   "metadata": {},
   "outputs": [
    {
     "data": {
      "image/png": "[encoded data removed]",
      "text/plain": [
       "<Figure size 640x480 with 1 Axes>"
      ]
     },
     "metadata": {},
     "output_type": "display_data"
    }
   ],
   "source": [
    "clf = svm.SVC(kernel='precomputed')\n",
    "\n",
    "y = train_set[1]\n",
    "clf.fit(gram_train**(5), y) \n",
    "y_pred = clf.predict(gram_test)\n",
    "plt.imshow(y_pred.reshape(20,20))\n",
    "plt.savefig(f'result for DMRG states with L={L} and bond dimension ={bond}.png')\n",
    "plt.show()"
   ]
  }
 ],
 "metadata": {
  "kernelspec": {
   "display_name": "QML_TN",
   "language": "python",
   "name": "python3"
  },
  "language_info": {
   "codemirror_mode": {
    "name": "ipython",
    "version": 3
   },
   "file_extension": ".py",
   "mimetype": "text/x-python",
   "name": "python",
   "nbconvert_exporter": "python",
   "pygments_lexer": "ipython3",
   "version": "3.12.3"
  }
 },
 "nbformat": 4,
 "nbformat_minor": 5
}
