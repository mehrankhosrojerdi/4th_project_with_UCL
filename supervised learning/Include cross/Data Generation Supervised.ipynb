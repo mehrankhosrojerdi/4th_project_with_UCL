{
 "cells": [
  {
   "cell_type": "code",
   "execution_count": 1,
   "metadata": {
    "metadata": {}
   },
   "outputs": [],
   "source": [
    "import gc\n",
    "import os\n",
    "import h5py\n",
    "import pickle\n",
    "import numpy as np\n",
    "from sklearn import svm\n",
    "import matplotlib.pyplot as plt\n",
    "from Haldane_anis_supervise_class import *"
   ]
  },
  {
   "cell_type": "code",
   "execution_count": 2,
   "metadata": {
    "metadata": {}
   },
   "outputs": [],
   "source": [
    "L = 5 #number of particles must be odd\n",
    "bond = 10 # resonable amount\n",
    "path  = f\"./dataset_L={L}_bond={bond}\"\n",
    "os.makedirs(path, exist_ok=True)"
   ]
  },
  {
   "cell_type": "code",
   "execution_count": 3,
   "metadata": {},
   "outputs": [
    {
     "name": "stderr",
     "output_type": "stream",
     "text": [
      "Generating train set: 100%|██████████| 148/148 [00:02<00:00, 61.94it/s]\n"
     ]
    },
    {
     "data": {
      "text/plain": [
       "26"
      ]
     },
     "execution_count": 3,
     "metadata": {},
     "output_type": "execute_result"
    }
   ],
   "source": [
    "points = Haldan_anis(L = L, bond = bond).points()\n",
    "file_path_train_DMRG = os.path.join(path, 'train_set_DMRG.pkl')\n",
    "with open(file_path_train_DMRG, \"wb\") as f:\n",
    "    pickle.dump(points, f)\n",
    "gc.collect(2)"
   ]
  },
  {
   "cell_type": "code",
   "execution_count": 4,
   "metadata": {},
   "outputs": [
    {
     "name": "stderr",
     "output_type": "stream",
     "text": [
      "Generating test set: 100%|██████████| 1600/1600 [00:05<00:00, 297.71it/s]\n"
     ]
    },
    {
     "data": {
      "text/plain": [
       "0"
      ]
     },
     "execution_count": 4,
     "metadata": {},
     "output_type": "execute_result"
    }
   ],
   "source": [
    "test = Haldan_anis(L = L, bond = bond).generate_test_set()\n",
    "file_path_test = os.path.join(path, 'test_set.pkl')\n",
    "with open(file_path_test, \"wb\") as f:\n",
    "    pickle.dump(test, f)\n",
    "gc.collect(2)"
   ]
  },
  {
   "cell_type": "code",
   "execution_count": 5,
   "metadata": {},
   "outputs": [
    {
     "data": {
      "text/plain": [
       "0"
      ]
     },
     "execution_count": 5,
     "metadata": {},
     "output_type": "execute_result"
    }
   ],
   "source": [
    "def gram_train_DMRG():\n",
    "\n",
    "    with open(file_path_train_DMRG, \"rb\") as f:\n",
    "        loaded_dataset = pickle.load(f)\n",
    "\n",
    "    gs = loaded_dataset[0]\n",
    "\n",
    "    def inner_product(i,j):\n",
    "        return np.abs(gs[i].H @ gs[j])**2\n",
    "    \n",
    "    d = len(gs)\n",
    "    afinity_train = np.zeros((d,d))\n",
    "\n",
    "    for idx in range(d*d):\n",
    "        i = idx // d\n",
    "        j = idx % d\n",
    "        if j>=i:\n",
    "            afinity_train[i,j]=afinity_train[j,i]=inner_product(i,j)\n",
    "\n",
    "    return afinity_train\n",
    "\n",
    "g_train = gram_train_DMRG()\n",
    "\n",
    "file_path_kernel_train_DMRG= os.path.join(path, \"kernel_train_Haldane_DMRG.hdf5\")\n",
    "with h5py.File(file_path_kernel_train_DMRG, \"w\") as f:\n",
    "    f.create_dataset(\" gram_train_DMRG\", data = g_train)\n",
    "    \n",
    "gc.collect(2)"
   ]
  },
  {
   "cell_type": "code",
   "execution_count": 6,
   "metadata": {},
   "outputs": [
    {
     "data": {
      "text/plain": [
       "0"
      ]
     },
     "execution_count": 6,
     "metadata": {},
     "output_type": "execute_result"
    }
   ],
   "source": [
    "def gram_test_DMRG():\n",
    "\n",
    "    with open(file_path_test, 'rb') as f:\n",
    "        loaded_test_set = pickle.load(f)  \n",
    "    Xte = np.array(loaded_test_set)\n",
    "    d1 = Xte.shape[0]\n",
    "\n",
    "    with open(file_path_train_DMRG, \"rb\") as f:\n",
    "        loaded_dataset = pickle.load(f)\n",
    "    Xtr = np.array(loaded_dataset[0])\n",
    "    d2 = Xtr.shape[0]\n",
    "      \n",
    "    gram_matrix_test = np.zeros((d1,d2))\n",
    "    for i in range(d1):\n",
    "        for j in range(d2):\n",
    "            gram_matrix_test[i,j] = np.abs((Xte[i].H @ Xtr[j]))**2\n",
    "    return gram_matrix_test\n",
    "\n",
    "g_test = gram_test_DMRG()\n",
    "\n",
    "file_path_kernel_test_DMRG = os.path.join(path, \"kernel_test_Haldane_DMRG.hdf5\")\n",
    "with h5py.File(file_path_kernel_test_DMRG, \"w\") as f:\n",
    "    f.create_dataset(\"gram_test\", data = g_test)\n",
    "gc.collect(2)\n"
   ]
  },
  {
   "cell_type": "code",
   "execution_count": 23,
   "metadata": {},
   "outputs": [
    {
     "data": {
      "image/png": "[encoded data removed]",
      "text/plain": [
       "<Figure size 640x480 with 1 Axes>"
      ]
     },
     "metadata": {},
     "output_type": "display_data"
    }
   ],
   "source": [
    "clf = svm.SVC(kernel='precomputed')\n",
    "with open(file_path_train_DMRG, \"rb\") as f:\n",
    "    dataset = pickle.load(f)\n",
    "\n",
    "with h5py.File(file_path_kernel_train_DMRG, \"r\") as f:\n",
    "    kernel_train = f[\" gram_train_DMRG\"][:] \n",
    "\n",
    "with h5py.File(file_path_kernel_test_DMRG, \"r\") as f:\n",
    "    kernel_test = f[\"gram_test\"][:] \n",
    "\n",
    "y = dataset[1]\n",
    "clf.fit(kernel_train, y) \n",
    "y_pred = clf.predict(kernel_test)\n",
    "plt.imshow(y_pred.reshape(40,40))\n",
    "plt.savefig(f'result for DMRG states with L={L} and bond dimension ={bond}.png')\n",
    "plt.show()"
   ]
  },
  {
   "cell_type": "code",
   "execution_count": null,
   "metadata": {},
   "outputs": [
    {
     "name": "stderr",
     "output_type": "stream",
     "text": [
      "Generating train set: 100%|██████████| 148/148 [00:00<00:00, 638.78it/s]\n"
     ]
    },
    {
     "data": {
      "text/plain": [
       "3477"
      ]
     },
     "execution_count": 8,
     "metadata": {},
     "output_type": "execute_result"
    }
   ],
   "source": [
    "projection = Haldan_anis(L = L, bond = bond).apply_projection()\n",
    "file_path_train_projected_DMRG = os.path.join(path, 'train_set_projected_DMRG.pkl')\n",
    "with open(file_path_train_projected_DMRG, \"wb\") as f:\n",
    "    pickle.dump(projection, f)\n",
    "gc.collect(2)"
   ]
  },
  {
   "cell_type": "code",
   "execution_count": 9,
   "metadata": {},
   "outputs": [
    {
     "data": {
      "text/plain": [
       "0"
      ]
     },
     "execution_count": 9,
     "metadata": {},
     "output_type": "execute_result"
    }
   ],
   "source": [
    "def gram_train_project_DMRG():\n",
    "\n",
    "    with open(file_path_train_projected_DMRG, \"rb\") as f:\n",
    "        loaded_dataset = pickle.load(f)\n",
    "\n",
    "    gs = np.array(loaded_dataset[0])\n",
    "    d = gs.shape[0]\n",
    "    afinity_train = np.zeros((d,d))\n",
    "    for i in range(0,d):\n",
    "        for j in range(i,d):\n",
    "            afinity_train[i,j] = np.abs(gs[i].H @ gs[j])**2\n",
    "            afinity_train[j,i] = afinity_train[i,j]\n",
    "\n",
    "    return afinity_train\n",
    "\n",
    "g_train_proj = gram_train_project_DMRG()\n",
    "\n",
    "file_path_kernel_projected_DMRG= os.path.join(path, \"kernel_train_Haldane_projected_DMRG.hdf5\")\n",
    "with h5py.File(file_path_kernel_projected_DMRG, \"w\") as f:\n",
    "    f.create_dataset(\" gram_train_projected_DMRG\", data = g_train_proj)\n",
    "    \n",
    "gc.collect(2)"
   ]
  },
  {
   "cell_type": "code",
   "execution_count": 10,
   "metadata": {},
   "outputs": [
    {
     "ename": "KeyboardInterrupt",
     "evalue": "",
     "output_type": "error",
     "traceback": [
      "\u001b[0;31m---------------------------------------------------------------------------\u001b[0m",
      "\u001b[0;31mKeyboardInterrupt\u001b[0m                         Traceback (most recent call last)",
      "Cell \u001b[0;32mIn[10], line 19\u001b[0m\n\u001b[1;32m     16\u001b[0m             gram_matrix_test[i,j] \u001b[38;5;241m=\u001b[39m np\u001b[38;5;241m.\u001b[39mabs((Xte[i]\u001b[38;5;241m.\u001b[39mH \u001b[38;5;241m@\u001b[39m Xtr[j]))\u001b[38;5;241m*\u001b[39m\u001b[38;5;241m*\u001b[39m\u001b[38;5;241m2\u001b[39m\n\u001b[1;32m     17\u001b[0m     \u001b[38;5;28;01mreturn\u001b[39;00m gram_matrix_test\n\u001b[0;32m---> 19\u001b[0m g_test_proj \u001b[38;5;241m=\u001b[39m \u001b[43mgram_test_projected_DMRG\u001b[49m\u001b[43m(\u001b[49m\u001b[43m)\u001b[49m\n\u001b[1;32m     21\u001b[0m file_path_kernel_test_projected_DMRG \u001b[38;5;241m=\u001b[39m os\u001b[38;5;241m.\u001b[39mpath\u001b[38;5;241m.\u001b[39mjoin(path, \u001b[38;5;124m\"\u001b[39m\u001b[38;5;124mkernel_test_Haldane_projected_DMRG.hdf5\u001b[39m\u001b[38;5;124m\"\u001b[39m)\n\u001b[1;32m     22\u001b[0m \u001b[38;5;28;01mwith\u001b[39;00m h5py\u001b[38;5;241m.\u001b[39mFile(file_path_kernel_test_projected_DMRG, \u001b[38;5;124m\"\u001b[39m\u001b[38;5;124mw\u001b[39m\u001b[38;5;124m\"\u001b[39m) \u001b[38;5;28;01mas\u001b[39;00m f:\n",
      "Cell \u001b[0;32mIn[10], line 16\u001b[0m, in \u001b[0;36mgram_test_projected_DMRG\u001b[0;34m()\u001b[0m\n\u001b[1;32m     14\u001b[0m \u001b[38;5;28;01mfor\u001b[39;00m i \u001b[38;5;129;01min\u001b[39;00m \u001b[38;5;28mrange\u001b[39m(d1):\n\u001b[1;32m     15\u001b[0m     \u001b[38;5;28;01mfor\u001b[39;00m j \u001b[38;5;129;01min\u001b[39;00m \u001b[38;5;28mrange\u001b[39m(d2):\n\u001b[0;32m---> 16\u001b[0m         gram_matrix_test[i,j] \u001b[38;5;241m=\u001b[39m np\u001b[38;5;241m.\u001b[39mabs((\u001b[43mXte\u001b[49m\u001b[43m[\u001b[49m\u001b[43mi\u001b[49m\u001b[43m]\u001b[49m\u001b[38;5;241;43m.\u001b[39;49m\u001b[43mH\u001b[49m\u001b[43m \u001b[49m\u001b[38;5;241;43m@\u001b[39;49m\u001b[43m \u001b[49m\u001b[43mXtr\u001b[49m\u001b[43m[\u001b[49m\u001b[43mj\u001b[49m\u001b[43m]\u001b[49m))\u001b[38;5;241m*\u001b[39m\u001b[38;5;241m*\u001b[39m\u001b[38;5;241m2\u001b[39m\n\u001b[1;32m     17\u001b[0m \u001b[38;5;28;01mreturn\u001b[39;00m gram_matrix_test\n",
      "File \u001b[0;32m~/QML_TN/lib/python3.12/site-packages/quimb/tensor/tensor_core.py:8971\u001b[0m, in \u001b[0;36mTensorNetwork.__matmul__\u001b[0;34m(self, other)\u001b[0m\n\u001b[1;32m   8969\u001b[0m \u001b[38;5;28;01mdef\u001b[39;00m \u001b[38;5;21m__matmul__\u001b[39m(\u001b[38;5;28mself\u001b[39m, other):\n\u001b[1;32m   8970\u001b[0m \u001b[38;5;250m    \u001b[39m\u001b[38;5;124;03m\"\"\"Overload \"@\" to mean full contraction with another network.\"\"\"\u001b[39;00m\n\u001b[0;32m-> 8971\u001b[0m     \u001b[38;5;28;01mreturn\u001b[39;00m \u001b[43mTensorNetwork\u001b[49m\u001b[43m(\u001b[49m\u001b[43m(\u001b[49m\u001b[38;5;28;43mself\u001b[39;49m\u001b[43m,\u001b[49m\u001b[43m \u001b[49m\u001b[43mother\u001b[49m\u001b[43m)\u001b[49m\u001b[43m)\u001b[49m \u001b[38;5;241m^\u001b[39m \u001b[38;5;241m.\u001b[39m\u001b[38;5;241m.\u001b[39m\u001b[38;5;241m.\u001b[39m\n",
      "File \u001b[0;32m~/QML_TN/lib/python3.12/site-packages/quimb/tensor/tensor_core.py:3793\u001b[0m, in \u001b[0;36mTensorNetwork.__init__\u001b[0;34m(self, ts, virtual, check_collisions)\u001b[0m\n\u001b[1;32m   3791\u001b[0m \u001b[38;5;28mself\u001b[39m\u001b[38;5;241m.\u001b[39mexponent \u001b[38;5;241m=\u001b[39m \u001b[38;5;241m0.0\u001b[39m\n\u001b[1;32m   3792\u001b[0m \u001b[38;5;28;01mfor\u001b[39;00m t \u001b[38;5;129;01min\u001b[39;00m ts:\n\u001b[0;32m-> 3793\u001b[0m     \u001b[38;5;28;43mself\u001b[39;49m\u001b[38;5;241;43m.\u001b[39;49m\u001b[43madd\u001b[49m\u001b[43m(\u001b[49m\u001b[43mt\u001b[49m\u001b[43m,\u001b[49m\u001b[43m \u001b[49m\u001b[43mvirtual\u001b[49m\u001b[38;5;241;43m=\u001b[39;49m\u001b[43mvirtual\u001b[49m\u001b[43m,\u001b[49m\u001b[43m \u001b[49m\u001b[43mcheck_collisions\u001b[49m\u001b[38;5;241;43m=\u001b[39;49m\u001b[43mcheck_collisions\u001b[49m\u001b[43m)\u001b[49m\n",
      "File \u001b[0;32m~/QML_TN/lib/python3.12/site-packages/quimb/tensor/tensor_core.py:4061\u001b[0m, in \u001b[0;36mTensorNetwork.add\u001b[0;34m(self, t, virtual, check_collisions)\u001b[0m\n\u001b[1;32m   4059\u001b[0m     \u001b[38;5;28mself\u001b[39m\u001b[38;5;241m.\u001b[39madd_tensor(t, virtual\u001b[38;5;241m=\u001b[39mvirtual)\n\u001b[1;32m   4060\u001b[0m \u001b[38;5;28;01melse\u001b[39;00m:\n\u001b[0;32m-> 4061\u001b[0m     \u001b[38;5;28;43mself\u001b[39;49m\u001b[38;5;241;43m.\u001b[39;49m\u001b[43madd_tensor_network\u001b[49m\u001b[43m(\u001b[49m\n\u001b[1;32m   4062\u001b[0m \u001b[43m        \u001b[49m\u001b[43mt\u001b[49m\u001b[43m,\u001b[49m\u001b[43m \u001b[49m\u001b[43mvirtual\u001b[49m\u001b[38;5;241;43m=\u001b[39;49m\u001b[43mvirtual\u001b[49m\u001b[43m,\u001b[49m\u001b[43m \u001b[49m\u001b[43mcheck_collisions\u001b[49m\u001b[38;5;241;43m=\u001b[39;49m\u001b[43mcheck_collisions\u001b[49m\n\u001b[1;32m   4063\u001b[0m \u001b[43m    \u001b[49m\u001b[43m)\u001b[49m\n",
      "File \u001b[0;32m~/QML_TN/lib/python3.12/site-packages/quimb/tensor/tensor_core.py:4024\u001b[0m, in \u001b[0;36mTensorNetwork.add_tensor_network\u001b[0;34m(self, tn, virtual, check_collisions)\u001b[0m\n\u001b[1;32m   4021\u001b[0m \u001b[38;5;250m\u001b[39m\u001b[38;5;124;03m\"\"\" \"\"\"\u001b[39;00m\n\u001b[1;32m   4022\u001b[0m \u001b[38;5;28;01mif\u001b[39;00m check_collisions:  \u001b[38;5;66;03m# add tensors individually\u001b[39;00m\n\u001b[1;32m   4023\u001b[0m     \u001b[38;5;66;03m# check for matching inner_indices -> need to re-index\u001b[39;00m\n\u001b[0;32m-> 4024\u001b[0m     clash_ix \u001b[38;5;241m=\u001b[39m \u001b[38;5;28;43mself\u001b[39;49m\u001b[38;5;241;43m.\u001b[39;49m\u001b[43m_inner_inds\u001b[49m\u001b[43m \u001b[49m\u001b[38;5;241;43m&\u001b[39;49m\u001b[43m \u001b[49m\u001b[43mtn\u001b[49m\u001b[38;5;241;43m.\u001b[39;49m\u001b[43m_inner_inds\u001b[49m\n\u001b[1;32m   4025\u001b[0m     reind \u001b[38;5;241m=\u001b[39m {ix: rand_uuid() \u001b[38;5;28;01mfor\u001b[39;00m ix \u001b[38;5;129;01min\u001b[39;00m clash_ix}\n\u001b[1;32m   4026\u001b[0m \u001b[38;5;28;01melse\u001b[39;00m:\n",
      "File \u001b[0;32m~/QML_TN/lib/python3.12/site-packages/quimb/utils.py:442\u001b[0m, in \u001b[0;36moset.__and__\u001b[0;34m(self, other)\u001b[0m\n\u001b[1;32m    441\u001b[0m \u001b[38;5;28;01mdef\u001b[39;00m \u001b[38;5;21m__and__\u001b[39m(\u001b[38;5;28mself\u001b[39m, other):\n\u001b[0;32m--> 442\u001b[0m     \u001b[38;5;28;01mreturn\u001b[39;00m \u001b[38;5;28;43mself\u001b[39;49m\u001b[38;5;241;43m.\u001b[39;49m\u001b[43mintersection\u001b[49m\u001b[43m(\u001b[49m\u001b[43mother\u001b[49m\u001b[43m)\u001b[49m\n",
      "File \u001b[0;32m~/QML_TN/lib/python3.12/site-packages/quimb/utils.py:403\u001b[0m, in \u001b[0;36moset.intersection\u001b[0;34m(self, *others)\u001b[0m\n\u001b[1;32m    401\u001b[0m \u001b[38;5;28;01melse\u001b[39;00m:\n\u001b[1;32m    402\u001b[0m     si \u001b[38;5;241m=\u001b[39m \u001b[38;5;28mset\u001b[39m\u001b[38;5;241m.\u001b[39mintersection(\u001b[38;5;241m*\u001b[39m(\u001b[38;5;28mset\u001b[39m(o\u001b[38;5;241m.\u001b[39m_d) \u001b[38;5;28;01mfor\u001b[39;00m o \u001b[38;5;129;01min\u001b[39;00m others))\n\u001b[0;32m--> 403\u001b[0m \u001b[38;5;28;01mreturn\u001b[39;00m oset\u001b[38;5;241m.\u001b[39m_from_dict({k: \u001b[38;5;28;01mNone\u001b[39;00m \u001b[38;5;28;01mfor\u001b[39;00m k \u001b[38;5;129;01min\u001b[39;00m \u001b[38;5;28mself\u001b[39m\u001b[38;5;241m.\u001b[39m_d \u001b[38;5;28;01mif\u001b[39;00m k \u001b[38;5;129;01min\u001b[39;00m si})\n",
      "\u001b[0;31mKeyboardInterrupt\u001b[0m: "
     ]
    }
   ],
   "source": [
    "def gram_test_projected_DMRG():\n",
    "\n",
    "    with open(file_path_test, 'rb') as f:\n",
    "        loaded_test_set = pickle.load(f)  \n",
    "    Xte = np.array(loaded_test_set)\n",
    "    d1 = Xte.shape[0]\n",
    "\n",
    "    with open(file_path_train_projected_DMRG, \"rb\") as f:\n",
    "        loaded_dataset = pickle.load(f)\n",
    "    Xtr = np.array(loaded_dataset[0])\n",
    "    d2 = Xtr.shape[0]\n",
    "      \n",
    "    gram_matrix_test = np.zeros((d1,d2))\n",
    "    for i in range(d1):\n",
    "        for j in range(d2):\n",
    "            gram_matrix_test[i,j] = np.abs((Xte[i].H @ Xtr[j]))**2\n",
    "    return gram_matrix_test\n",
    "\n",
    "g_test_proj = gram_test_projected_DMRG()\n",
    "\n",
    "file_path_kernel_test_projected_DMRG = os.path.join(path, \"kernel_test_Haldane_projected_DMRG.hdf5\")\n",
    "with h5py.File(file_path_kernel_test_projected_DMRG, \"w\") as f:\n",
    "    f.create_dataset(\"gram_test_projected_DMRG\", data = g_test_proj)\n",
    "gc.collect(2)\n"
   ]
  },
  {
   "cell_type": "code",
   "execution_count": null,
   "metadata": {},
   "outputs": [
    {
     "data": {
      "image/png": "[encoded data removed]",
      "text/plain": [
       "<Figure size 640x480 with 1 Axes>"
      ]
     },
     "metadata": {},
     "output_type": "display_data"
    }
   ],
   "source": [
    "clf = svm.SVC(kernel='precomputed')\n",
    "with open(file_path_train_projected_DMRG, \"rb\") as f:\n",
    "    dataset = pickle.load(f)\n",
    "\n",
    "with h5py.File(file_path_kernel_projected_DMRG, \"r\") as f:\n",
    "    kernel_train = f[\" gram_train_projected_DMRG\"][:] \n",
    "\n",
    "with h5py.File(file_path_kernel_test_projected_DMRG, \"r\") as f:\n",
    "    kernel_test = f[\"gram_test_projected_DMRG\"][:] \n",
    "\n",
    "y = dataset[1]\n",
    "clf.fit(kernel_train, y) \n",
    "y_pred = clf.predict(kernel_test)\n",
    "plt.imshow(y_pred.reshape(40,40))\n",
    "plt.savefig(f'result for projected DMRG states with L={L} and bond dimension ={bond}.png')\n",
    "plt.show()"
   ]
  }
 ],
 "metadata": {
  "colab": {
   "provenance": []
  },
  "kernelspec": {
   "display_name": "QML_TN",
   "language": "python",
   "name": "python3"
  },
  "language_info": {
   "codemirror_mode": {
    "name": "ipython",
    "version": 3
   },
   "file_extension": ".py",
   "mimetype": "text/x-python",
   "name": "python",
   "nbconvert_exporter": "python",
   "pygments_lexer": "ipython3",
   "version": "3.12.3"
  }
 },
 "nbformat": 4,
 "nbformat_minor": 0
}
