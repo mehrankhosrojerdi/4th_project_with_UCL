{
 "cells": [
  {
   "cell_type": "code",
   "execution_count": 2,
   "metadata": {
    "metadata": {}
   },
   "outputs": [],
   "source": [
    "import gc\n",
    "import os\n",
    "import h5py\n",
    "import pickle\n",
    "import numpy as np\n",
    "from sklearn import svm\n",
    "import matplotlib.pyplot as plt\n",
    "from Haldane_anis_supervise_class_random import *"
   ]
  },
  {
   "cell_type": "code",
   "execution_count": 3,
   "metadata": {
    "metadata": {}
   },
   "outputs": [],
   "source": [
    "L = 5 #number of particles must be odd\n",
    "bond = 10 # resonable amount\n",
    "path  = f\"./dataset_L={L}_bond={bond}\"\n",
    "os.makedirs(path, exist_ok=True)"
   ]
  },
  {
   "cell_type": "code",
   "execution_count": 4,
   "metadata": {},
   "outputs": [
    {
     "name": "stderr",
     "output_type": "stream",
     "text": [
      "Generating train set: 210it [00:05, 38.87it/s] \n"
     ]
    },
    {
     "data": {
      "text/plain": [
       "26"
      ]
     },
     "execution_count": 4,
     "metadata": {},
     "output_type": "execute_result"
    }
   ],
   "source": [
    "points = Haldan_anis(L = L, bond = bond).points()\n",
    "file_path_train_DMRG = os.path.join(path, 'train_set_DMRG.pkl')\n",
    "with open(file_path_train_DMRG, \"wb\") as f:\n",
    "    pickle.dump(points, f)\n",
    "gc.collect(2)"
   ]
  },
  {
   "cell_type": "code",
   "execution_count": 5,
   "metadata": {},
   "outputs": [
    {
     "name": "stderr",
     "output_type": "stream",
     "text": [
      "Generating test set: 100%|██████████| 1600/1600 [00:11<00:00, 140.02it/s]\n"
     ]
    },
    {
     "data": {
      "text/plain": [
       "0"
      ]
     },
     "execution_count": 5,
     "metadata": {},
     "output_type": "execute_result"
    }
   ],
   "source": [
    "test = Haldan_anis(L = L, bond = bond).generate_test_set()\n",
    "file_path_test = os.path.join(path, 'test_set.pkl')\n",
    "with open(file_path_test, \"wb\") as f:\n",
    "    pickle.dump(test, f)\n",
    "gc.collect(2)"
   ]
  },
  {
   "cell_type": "code",
   "execution_count": 6,
   "metadata": {},
   "outputs": [
    {
     "data": {
      "text/plain": [
       "0"
      ]
     },
     "execution_count": 6,
     "metadata": {},
     "output_type": "execute_result"
    }
   ],
   "source": [
    "def gram_train_DMRG():\n",
    "\n",
    "    with open(file_path_train_DMRG, \"rb\") as f:\n",
    "        loaded_dataset = pickle.load(f)\n",
    "\n",
    "    gs = loaded_dataset[0]\n",
    "\n",
    "    def inner_product(i,j):\n",
    "        return np.abs(gs[i].H @ gs[j])**2\n",
    "    \n",
    "    d = len(gs)\n",
    "    afinity_train = np.zeros((d,d))\n",
    "\n",
    "    for idx in range(d*d):\n",
    "        i = idx // d\n",
    "        j = idx % d\n",
    "        if j>=i:\n",
    "            afinity_train[i,j]=afinity_train[j,i]=inner_product(i,j)\n",
    "\n",
    "    return afinity_train\n",
    "\n",
    "g_train = gram_train_DMRG()\n",
    "\n",
    "file_path_kernel_train_DMRG= os.path.join(path, \"kernel_train_Haldane_DMRG.hdf5\")\n",
    "with h5py.File(file_path_kernel_train_DMRG, \"w\") as f:\n",
    "    f.create_dataset(\" gram_train_DMRG\", data = g_train)\n",
    "    \n",
    "gc.collect(2)"
   ]
  },
  {
   "cell_type": "code",
   "execution_count": 7,
   "metadata": {},
   "outputs": [
    {
     "data": {
      "text/plain": [
       "0"
      ]
     },
     "execution_count": 7,
     "metadata": {},
     "output_type": "execute_result"
    }
   ],
   "source": [
    "def gram_test_DMRG():\n",
    "\n",
    "    with open(file_path_test, 'rb') as f:\n",
    "        loaded_test_set = pickle.load(f)  \n",
    "    Xte = np.array(loaded_test_set)\n",
    "    d1 = Xte.shape[0]\n",
    "\n",
    "    with open(file_path_train_DMRG, \"rb\") as f:\n",
    "        loaded_dataset = pickle.load(f)\n",
    "    Xtr = np.array(loaded_dataset[0])\n",
    "    d2 = Xtr.shape[0]\n",
    "      \n",
    "    gram_matrix_test = np.zeros((d1,d2))\n",
    "    for i in range(d1):\n",
    "        for j in range(d2):\n",
    "            gram_matrix_test[i,j] = np.abs((Xte[i].H @ Xtr[j]))**2\n",
    "    return gram_matrix_test\n",
    "\n",
    "g_test = gram_test_DMRG()\n",
    "\n",
    "file_path_kernel_test_DMRG = os.path.join(path, \"kernel_test_Haldane_DMRG.hdf5\")\n",
    "with h5py.File(file_path_kernel_test_DMRG, \"w\") as f:\n",
    "    f.create_dataset(\"gram_test\", data = g_test)\n",
    "gc.collect(2)\n"
   ]
  },
  {
   "cell_type": "code",
   "execution_count": 8,
   "metadata": {},
   "outputs": [
    {
     "data": {
      "image/png": "[encoded data removed]",
      "text/plain": [
       "<Figure size 640x480 with 1 Axes>"
      ]
     },
     "metadata": {},
     "output_type": "display_data"
    }
   ],
   "source": [
    "clf = svm.SVC(kernel='precomputed')\n",
    "with open(file_path_train_DMRG, \"rb\") as f:\n",
    "    dataset = pickle.load(f)\n",
    "\n",
    "with h5py.File(file_path_kernel_train_DMRG, \"r\") as f:\n",
    "    kernel_train = f[\" gram_train_DMRG\"][:] \n",
    "\n",
    "with h5py.File(file_path_kernel_test_DMRG, \"r\") as f:\n",
    "    kernel_test = f[\"gram_test\"][:] \n",
    "\n",
    "y = dataset[1]\n",
    "clf.fit(kernel_train, y) \n",
    "y_pred = clf.predict(kernel_test)\n",
    "plt.imshow(y_pred.reshape(40,40))\n",
    "plt.savefig(f'result for DMRG states with L={L} and bond dimension ={bond}.png')\n",
    "plt.show()"
   ]
  }
 ],
 "metadata": {
  "colab": {
   "provenance": []
  },
  "kernelspec": {
   "display_name": "QML_TN",
   "language": "python",
   "name": "python3"
  },
  "language_info": {
   "codemirror_mode": {
    "name": "ipython",
    "version": 3
   },
   "file_extension": ".py",
   "mimetype": "text/x-python",
   "name": "python",
   "nbconvert_exporter": "python",
   "pygments_lexer": "ipython3",
   "version": "3.12.3"
  }
 },
 "nbformat": 4,
 "nbformat_minor": 0
}
