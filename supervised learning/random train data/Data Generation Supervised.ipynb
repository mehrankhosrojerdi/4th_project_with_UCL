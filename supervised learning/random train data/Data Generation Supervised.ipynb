{
 "cells": [
  {
   "cell_type": "code",
   "execution_count": 1,
   "metadata": {
    "metadata": {}
   },
   "outputs": [],
   "source": [
    "import gc\n",
    "import os\n",
    "import h5py\n",
    "import pickle\n",
    "import numpy as np\n",
    "from sklearn import svm\n",
    "import matplotlib.pyplot as plt\n",
    "from Haldane_anis_supervise_class_random import *\n",
    "from partial import *"
   ]
  },
  {
   "cell_type": "code",
   "execution_count": null,
   "metadata": {
    "metadata": {}
   },
   "outputs": [],
   "source": [
    "L = 51 #number of particles must be odd\n",
    "bond = 50 # resonable amount\n",
    "path  = f\"./dataset_L=51_bond=50_partial\"\n",
    "os.makedirs(path, exist_ok=True)\n",
    "HArand = Haldan_anis(L = L, bond = bond)\n",
    "p = partial(L, bond)"
   ]
  },
  {
   "cell_type": "code",
   "execution_count": 6,
   "metadata": {},
   "outputs": [
    {
     "name": "stderr",
     "output_type": "stream",
     "text": [
      "Generating train set: 230it [00:02, 80.14it/s] \n"
     ]
    },
    {
     "data": {
      "text/plain": [
       "0"
      ]
     },
     "execution_count": 6,
     "metadata": {},
     "output_type": "execute_result"
    }
   ],
   "source": [
    "points = HArand.points()\n",
    "file_path_train_DMRG = os.path.join(path, 'train_set_DMRG_rand.pkl')\n",
    "with open(file_path_train_DMRG, \"wb\") as f:\n",
    "    pickle.dump(points, f)\n",
    "\n",
    "file_path_51=os.path.join(path, 'train_set_51_rand.pkl')\n",
    "with open(file_path_51, \"wb\") as f:\n",
    "    pickle.dump(points, f)\n",
    "    \n",
    "gc.collect(2)"
   ]
  },
  {
   "cell_type": "code",
   "execution_count": null,
   "metadata": {},
   "outputs": [
    {
     "data": {
      "text/plain": [
       "0"
      ]
     },
     "execution_count": 4,
     "metadata": {},
     "output_type": "execute_result"
    }
   ],
   "source": [
    "file_path_train = os.path.join(path, 'train_set_DMRG_rand.pkl')\n",
    "with open(file_path_train, \"rb\") as f:\n",
    "    trainset = pickle.load(f)\n",
    "gc.collect(2)\n",
    "\n",
    "file_path_test = os.path.join(path, 'test_set_DMRG.pkl')\n",
    "with open(file_path_test, \"rb\") as f:\n",
    "    testset = pickle.load(f)\n",
    "gc.collect(2)"
   ]
  },
  {
   "cell_type": "code",
   "execution_count": null,
   "metadata": {},
   "outputs": [],
   "source": [
    "keep = [0] # keep the part that we wanna do partial trace over that\n",
    "partial_density_matrix_train, partial_density_matrix_test = p.partial_density_matrix(keep=keep)\n",
    "kernel_partial_train = p.gram_train_partial(partial_train=partial_density_matrix_train, keep=keep)\n",
    "kernel_partial_test = p.gram_test_partial(partial_train=partial_density_matrix_train, partial_test=partial_density_matrix_test, keep=keep)"
   ]
  },
  {
   "cell_type": "code",
   "execution_count": null,
   "metadata": {},
   "outputs": [],
   "source": [
    "keep = [0,1] # keep the part that we wanna do partial trace over that\n",
    "partial_density_matrix_train, partial_density_matrix_test = p.partial_density_matrix(keep=keep)\n",
    "kernel_partial_train = p.gram_train_partial(partial_train=partial_density_matrix_train, keep=keep)\n",
    "kernel_partial_test = p.gram_test_partial(partial_train=partial_density_matrix_train, partial_test=partial_density_matrix_test, keep=keep)"
   ]
  },
  {
   "cell_type": "code",
   "execution_count": null,
   "metadata": {},
   "outputs": [],
   "source": [
    "keep = [0,1,2] # keep the part that we wanna do partial trace over that\n",
    "partial_density_matrix_train, partial_density_matrix_test = p.partial_density_matrix(keep=keep)\n",
    "kernel_partial_train = p.gram_train_partial(partial_train=partial_density_matrix_train, keep=keep)\n",
    "kernel_partial_test = p.gram_test_partial(partial_train=partial_density_matrix_train, partial_test=partial_density_matrix_test, keep=keep)"
   ]
  },
  {
   "cell_type": "code",
   "execution_count": null,
   "metadata": {},
   "outputs": [],
   "source": [
    "keep = [0,1,2,3] # keep the part that we wanna do partial trace over that\n",
    "partial_density_matrix_train, partial_density_matrix_test = p.partial_density_matrix(keep=keep)\n",
    "kernel_partial_train = p.gram_train_partial(partial_train=partial_density_matrix_train, keep=keep)\n",
    "kernel_partial_test = p.gram_test_partial(partial_train=partial_density_matrix_train, partial_test=partial_density_matrix_test, keep=keep)"
   ]
  },
  {
   "cell_type": "code",
   "execution_count": null,
   "metadata": {},
   "outputs": [],
   "source": [
    "keep = [0,1,2,3,4] # keep the part that we wanna do partial trace over that\n",
    "partial_density_matrix_train, partial_density_matrix_test = p.partial_density_matrix(keep=keep)\n",
    "kernel_partial_train = p.gram_train_partial(partial_train=partial_density_matrix_train, keep=keep)\n",
    "kernel_partial_test = p.gram_test_partial(partial_train=partial_density_matrix_train, partial_test=partial_density_matrix_test, keep=keep)"
   ]
  },
  {
   "cell_type": "code",
   "execution_count": null,
   "metadata": {},
   "outputs": [],
   "source": [
    "keep = [0,1,2,3,4,5] # keep the part that we wanna do partial trace over that\n",
    "partial_density_matrix_train, partial_density_matrix_test = p.partial_density_matrix(keep=keep)\n",
    "kernel_partial_train = p.gram_train_partial(partial_train=partial_density_matrix_train, keep=keep)\n",
    "kernel_partial_test = p.gram_test_partial(partial_train=partial_density_matrix_train, partial_test=partial_density_matrix_test, keep=keep)"
   ]
  },
  {
   "cell_type": "code",
   "execution_count": null,
   "metadata": {},
   "outputs": [],
   "source": [
    "keep = [0,1,2,3,4,5,6] # keep the part that we wanna do partial trace over that\n",
    "partial_density_matrix_train, partial_density_matrix_test = p.partial_density_matrix(keep=keep)\n",
    "kernel_partial_train = p.gram_train_partial(partial_train=partial_density_matrix_train, keep=keep)\n",
    "kernel_partial_test = p.gram_test_partial(partial_train=partial_density_matrix_train, partial_test=partial_density_matrix_test, keep=keep)"
   ]
  },
  {
   "cell_type": "code",
   "execution_count": null,
   "metadata": {},
   "outputs": [],
   "source": [
    "keep = [0,1,2,3,4,5,6,7] # keep the part that we wanna do partial trace over that\n",
    "partial_density_matrix_train, partial_density_matrix_test = p.partial_density_matrix(keep=keep)\n",
    "kernel_partial_train = p.gram_train_partial(partial_train=partial_density_matrix_train, keep=keep)\n",
    "kernel_partial_test = p.gram_test_partial(partial_train=partial_density_matrix_train, partial_test=partial_density_matrix_test, keep=keep)"
   ]
  },
  {
   "cell_type": "code",
   "execution_count": null,
   "metadata": {},
   "outputs": [],
   "source": [
    "keep = [24] # keep the part that we wanna do partial trace over that\n",
    "partial_density_matrix_train, partial_density_matrix_test = p.partial_density_matrix(keep=keep)\n",
    "kernel_partial_train = p.gram_train_partial(partial_train=partial_density_matrix_train, keep=keep)\n",
    "kernel_partial_test = p.gram_test_partial(partial_train=partial_density_matrix_train, partial_test=partial_density_matrix_test, keep=keep)"
   ]
  },
  {
   "cell_type": "code",
   "execution_count": null,
   "metadata": {},
   "outputs": [],
   "source": [
    "keep = [24,25] # keep the part that we wanna do partial trace over that\n",
    "partial_density_matrix_train, partial_density_matrix_test = p.partial_density_matrix(keep=keep)\n",
    "kernel_partial_train = p.gram_train_partial(partial_train=partial_density_matrix_train, keep=keep)\n",
    "kernel_partial_test = p.gram_test_partial(partial_train=partial_density_matrix_train, partial_test=partial_density_matrix_test, keep=keep)"
   ]
  },
  {
   "cell_type": "code",
   "execution_count": null,
   "metadata": {},
   "outputs": [],
   "source": [
    "keep = [24,25,26] # keep the part that we wanna do partial trace over that\n",
    "partial_density_matrix_train, partial_density_matrix_test = p.partial_density_matrix(keep=keep)\n",
    "kernel_partial_train = p.gram_train_partial(partial_train=partial_density_matrix_train, keep=keep)\n",
    "kernel_partial_test = p.gram_test_partial(partial_train=partial_density_matrix_train, partial_test=partial_density_matrix_test, keep=keep)"
   ]
  },
  {
   "cell_type": "code",
   "execution_count": null,
   "metadata": {},
   "outputs": [],
   "source": [
    "keep = [24,25,26,27] # keep the part that we wanna do partial trace over that\n",
    "partial_density_matrix_train, partial_density_matrix_test = p.partial_density_matrix(keep=keep)\n",
    "kernel_partial_train = p.gram_train_partial(partial_train=partial_density_matrix_train, keep=keep)\n",
    "kernel_partial_test = p.gram_test_partial(partial_train=partial_density_matrix_train, partial_test=partial_density_matrix_test, keep=keep)"
   ]
  },
  {
   "cell_type": "code",
   "execution_count": null,
   "metadata": {},
   "outputs": [],
   "source": [
    "L = 31 #number of particles must be odd\n",
    "bond = 50 # resonable amount\n",
    "path  = f\"./dataset_L=51_bond=50_partial\"\n",
    "os.makedirs(path, exist_ok=True)\n",
    "HArand = Haldan_anis(L = L, bond = bond)\n",
    "p = partial(L, bond)\n",
    "\n",
    "points = HArand.points()\n",
    "file_path_train_DMRG = os.path.join(path, 'train_set_DMRG_rand.pkl')\n",
    "with open(file_path_train_DMRG, \"wb\") as f:\n",
    "    pickle.dump(points, f)\n",
    "gc.collect(2)"
   ]
  },
  {
   "cell_type": "code",
   "execution_count": null,
   "metadata": {},
   "outputs": [],
   "source": [
    "keep = [0] # keep the part that we wanna do partial trace over that\n",
    "partial_density_matrix_train, partial_density_matrix_test = p.partial_density_matrix(keep=keep)\n",
    "kernel_partial_train = p.gram_train_partial(partial_train=partial_density_matrix_train, keep=keep)\n",
    "kernel_partial_test = p.gram_test_partial(partial_train=partial_density_matrix_train, partial_test=partial_density_matrix_test, keep=keep)"
   ]
  },
  {
   "cell_type": "code",
   "execution_count": null,
   "metadata": {},
   "outputs": [],
   "source": [
    "keep = [0,1] # keep the part that we wanna do partial trace over that\n",
    "partial_density_matrix_train, partial_density_matrix_test = p.partial_density_matrix(keep=keep)\n",
    "kernel_partial_train = p.gram_train_partial(partial_train=partial_density_matrix_train, keep=keep)\n",
    "kernel_partial_test = p.gram_test_partial(partial_train=partial_density_matrix_train, partial_test=partial_density_matrix_test, keep=keep)"
   ]
  },
  {
   "cell_type": "code",
   "execution_count": null,
   "metadata": {},
   "outputs": [],
   "source": [
    "keep = [0,1,2] # keep the part that we wanna do partial trace over that\n",
    "partial_density_matrix_train, partial_density_matrix_test = p.partial_density_matrix(keep=keep)\n",
    "kernel_partial_train = p.gram_train_partial(partial_train=partial_density_matrix_train, keep=keep)\n",
    "kernel_partial_test = p.gram_test_partial(partial_train=partial_density_matrix_train, partial_test=partial_density_matrix_test, keep=keep)"
   ]
  },
  {
   "cell_type": "code",
   "execution_count": null,
   "metadata": {},
   "outputs": [],
   "source": [
    "keep = [0,1,2,3] # keep the part that we wanna do partial trace over that\n",
    "partial_density_matrix_train, partial_density_matrix_test = p.partial_density_matrix(keep=keep)\n",
    "kernel_partial_train = p.gram_train_partial(partial_train=partial_density_matrix_train, keep=keep)\n",
    "kernel_partial_test = p.gram_test_partial(partial_train=partial_density_matrix_train, partial_test=partial_density_matrix_test, keep=keep)"
   ]
  },
  {
   "cell_type": "code",
   "execution_count": null,
   "metadata": {},
   "outputs": [],
   "source": [
    "keep = [0,1,2,3,4] # keep the part that we wanna do partial trace over that\n",
    "partial_density_matrix_train, partial_density_matrix_test = p.partial_density_matrix(keep=keep)\n",
    "kernel_partial_train = p.gram_train_partial(partial_train=partial_density_matrix_train, keep=keep)\n",
    "kernel_partial_test = p.gram_test_partial(partial_train=partial_density_matrix_train, partial_test=partial_density_matrix_test, keep=keep)"
   ]
  },
  {
   "cell_type": "code",
   "execution_count": null,
   "metadata": {},
   "outputs": [],
   "source": [
    "keep = [0,1,2,3,4,5] # keep the part that we wanna do partial trace over that\n",
    "partial_density_matrix_train, partial_density_matrix_test = p.partial_density_matrix(keep=keep)\n",
    "kernel_partial_train = p.gram_train_partial(partial_train=partial_density_matrix_train, keep=keep)\n",
    "kernel_partial_test = p.gram_test_partial(partial_train=partial_density_matrix_train, partial_test=partial_density_matrix_test, keep=keep)"
   ]
  },
  {
   "cell_type": "code",
   "execution_count": null,
   "metadata": {},
   "outputs": [],
   "source": [
    "keep = [0,1,2,3,4,5,6] # keep the part that we wanna do partial trace over that\n",
    "partial_density_matrix_train, partial_density_matrix_test = p.partial_density_matrix(keep=keep)\n",
    "kernel_partial_train = p.gram_train_partial(partial_train=partial_density_matrix_train, keep=keep)\n",
    "kernel_partial_test = p.gram_test_partial(partial_train=partial_density_matrix_train, partial_test=partial_density_matrix_test, keep=keep)"
   ]
  },
  {
   "cell_type": "code",
   "execution_count": null,
   "metadata": {},
   "outputs": [],
   "source": [
    "keep = [0,1,2,3,4,5,6,7] # keep the part that we wanna do partial trace over that\n",
    "partial_density_matrix_train, partial_density_matrix_test = p.partial_density_matrix(keep=keep)\n",
    "kernel_partial_train = p.gram_train_partial(partial_train=partial_density_matrix_train, keep=keep)\n",
    "kernel_partial_test = p.gram_test_partial(partial_train=partial_density_matrix_train, partial_test=partial_density_matrix_test, keep=keep)"
   ]
  },
  {
   "cell_type": "code",
   "execution_count": null,
   "metadata": {},
   "outputs": [],
   "source": [
    "keep = [24] # keep the part that we wanna do partial trace over that\n",
    "partial_density_matrix_train, partial_density_matrix_test = p.partial_density_matrix(keep=keep)\n",
    "kernel_partial_train = p.gram_train_partial(partial_train=partial_density_matrix_train, keep=keep)\n",
    "kernel_partial_test = p.gram_test_partial(partial_train=partial_density_matrix_train, partial_test=partial_density_matrix_test, keep=keep)"
   ]
  },
  {
   "cell_type": "code",
   "execution_count": null,
   "metadata": {},
   "outputs": [],
   "source": [
    "keep = [24,25] # keep the part that we wanna do partial trace over that\n",
    "partial_density_matrix_train, partial_density_matrix_test = p.partial_density_matrix(keep=keep)\n",
    "kernel_partial_train = p.gram_train_partial(partial_train=partial_density_matrix_train, keep=keep)\n",
    "kernel_partial_test = p.gram_test_partial(partial_train=partial_density_matrix_train, partial_test=partial_density_matrix_test, keep=keep)"
   ]
  },
  {
   "cell_type": "code",
   "execution_count": null,
   "metadata": {},
   "outputs": [],
   "source": [
    "keep = [24,25,26] # keep the part that we wanna do partial trace over that\n",
    "partial_density_matrix_train, partial_density_matrix_test = p.partial_density_matrix(keep=keep)\n",
    "kernel_partial_train = p.gram_train_partial(partial_train=partial_density_matrix_train, keep=keep)\n",
    "kernel_partial_test = p.gram_test_partial(partial_train=partial_density_matrix_train, partial_test=partial_density_matrix_test, keep=keep)"
   ]
  },
  {
   "cell_type": "code",
   "execution_count": null,
   "metadata": {},
   "outputs": [],
   "source": [
    "keep = [24,25,26,27] # keep the part that we wanna do partial trace over that\n",
    "partial_density_matrix_train, partial_density_matrix_test = p.partial_density_matrix(keep=keep)\n",
    "kernel_partial_train = p.gram_train_partial(partial_train=partial_density_matrix_train, keep=keep)\n",
    "kernel_partial_test = p.gram_test_partial(partial_train=partial_density_matrix_train, partial_test=partial_density_matrix_test, keep=keep)"
   ]
  }
 ],
 "metadata": {
  "colab": {
   "provenance": []
  },
  "kernelspec": {
   "display_name": "QML_TN",
   "language": "python",
   "name": "python3"
  },
  "language_info": {
   "codemirror_mode": {
    "name": "ipython",
    "version": 3
   },
   "file_extension": ".py",
   "mimetype": "text/x-python",
   "name": "python",
   "nbconvert_exporter": "python",
   "pygments_lexer": "ipython3",
   "version": "3.12.3"
  }
 },
 "nbformat": 4,
 "nbformat_minor": 0
}
