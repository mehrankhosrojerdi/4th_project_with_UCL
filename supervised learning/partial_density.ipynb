{
 "cells": [
  {
   "cell_type": "code",
   "execution_count": 1,
   "metadata": {},
   "outputs": [],
   "source": [
    "from sklearn import svm\n",
    "import matplotlib.pyplot as plt\n",
    "from Haldane_anis_supervise_class import *\n",
    "from partial import *"
   ]
  },
  {
   "cell_type": "code",
   "execution_count": 2,
   "metadata": {},
   "outputs": [],
   "source": [
    "L = 5  # number of particles must be odd\n",
    "keep = [1, 2, 3] # keep the part that we wanna do partial trace over that\n",
    "bond = 10  # reasonable amount\n",
    "p = partial(L, keep, bond)"
   ]
  },
  {
   "cell_type": "code",
   "execution_count": 3,
   "metadata": {},
   "outputs": [
    {
     "name": "stderr",
     "output_type": "stream",
     "text": [
      "/home/mehran/TN_QML/lib/python3.12/site-packages/quimb/core.py:45: UserWarning: 'NUMBA_NUM_THREADS' has been set elsewhere and doesn't match the value 'quimb' has tried to set - 4 vs 1.\n",
      "  warnings.warn(\n",
      "/home/mehran/TN_QML/lib/python3.12/site-packages/quimb/core.py:45: UserWarning: 'NUMBA_NUM_THREADS' has been set elsewhere and doesn't match the value 'quimb' has tried to set - 4 vs 1.\n",
      "  warnings.warn(\n",
      "/home/mehran/TN_QML/lib/python3.12/site-packages/quimb/core.py:45: UserWarning: 'NUMBA_NUM_THREADS' has been set elsewhere and doesn't match the value 'quimb' has tried to set - 4 vs 1.\n",
      "  warnings.warn(\n",
      "/home/mehran/TN_QML/lib/python3.12/site-packages/quimb/core.py:45: UserWarning: 'NUMBA_NUM_THREADS' has been set elsewhere and doesn't match the value 'quimb' has tried to set - 4 vs 1.\n",
      "  warnings.warn(\n",
      "/home/mehran/TN_QML/lib/python3.12/site-packages/quimb/core.py:45: UserWarning: 'NUMBA_NUM_THREADS' has been set elsewhere and doesn't match the value 'quimb' has tried to set - 4 vs 1.\n",
      "  warnings.warn(\n"
     ]
    }
   ],
   "source": [
    "dataset = p.generate_dataset()\n",
    "partial_density_matrix_train, partial_density_matrix_test = p.partial_density_matrix()\n",
    "kernel_partial_train = p.gram_train_partial()\n",
    "kernel_partial_test = p.gram_test_partial()"
   ]
  },
  {
   "cell_type": "code",
   "execution_count": 4,
   "metadata": {},
   "outputs": [
    {
     "data": {
      "image/png": "[encoded data removed]",
      "text/plain": [
       "<Figure size 640x480 with 1 Axes>"
      ]
     },
     "metadata": {},
     "output_type": "display_data"
    }
   ],
   "source": [
    "clf = svm.SVC(kernel='precomputed')\n",
    "kernel_train = kernel_partial_train\n",
    "kernel_test = kernel_partial_test\n",
    "y = dataset[0][1]\n",
    "clf.fit(kernel_train, y) \n",
    "y_pred = clf.predict(kernel_test)\n",
    "plt.imshow(y_pred.reshape(40,40))\n",
    "plt.savefig(f'result for DMRG states with L={L} and bond dimension ={bond}.png')\n",
    "plt.show()"
   ]
  },
  {
   "cell_type": "code",
   "execution_count": null,
   "metadata": {},
   "outputs": [],
   "source": [
    "import numpy as np\n",
    "import matplotlib.pyplot as plt\n",
    "\n",
    "# Define ranges for E and D\n",
    "E = np.arange(-2, 2, 0.1)\n",
    "D = np.arange(-2, 2, 0.1)\n",
    "\n",
    "# Lists to store points and targets\n",
    "lst_points = []\n",
    "lst_target = []\n",
    "\n",
    "# Loop through E and D and classify points\n",
    "for e in E:\n",
    "    if 0.8 < e < 2:\n",
    "        lst_points.append([-2, e])\n",
    "        lst_target.append(1)  # 'large_ex'\n",
    "    elif -0.8 < e < 0.8:\n",
    "        lst_points.append([-2, e])\n",
    "        lst_target.append(3)  # 'z_neel'\n",
    "    elif -2 < e < -0.8:\n",
    "        lst_points.append([-2, e])\n",
    "        lst_target.append(2)  # 'large_ey'\n",
    "\n",
    "\n",
    "for e in E:\n",
    "    if -2 < e < -0.4:\n",
    "        lst_points.append([2, e])\n",
    "        lst_target.append(4)  # 'x_neel'\n",
    "    elif -0.4 < e < 0.4:\n",
    "        lst_points.append([2, e])\n",
    "        lst_target.append(5)  # 'large_d'\n",
    "    elif 0.4 < e < 2.0:\n",
    "        lst_points.append([2.0, e])\n",
    "        lst_target.append(6)  # 'y_neel'\n",
    "\n",
    "\n",
    "for d in D:\n",
    "    if -2 < d < 0.2:\n",
    "        lst_points.append([d, 2])\n",
    "        lst_target.append(1)  # 'large_ex'\n",
    "    elif 0.2 < d < 2.0:\n",
    "        lst_points.append([d, 2.0])\n",
    "        lst_target.append(6)  # 'y_neel'\n",
    "\n",
    "for d in D:\n",
    "    if -2 < d < 0.2:\n",
    "        lst_points.append([d, -2])\n",
    "        lst_target.append(2)  # 'large_ey'\n",
    "    elif 0.2 < d < 2.0:\n",
    "        lst_points.append([d, -2])\n",
    "        lst_target.append(4)  # 'x_neel'\n",
    "\n",
    "for d in np.arange(-2, -0.5, 0.1):  # Added step size 0.1\n",
    "    lst_points.append([d, 0.0])\n",
    "    lst_target.append(3) \n",
    "\n",
    "for d in np.arange(0.9, 2, 0.1):\n",
    "    lst_points.append([d, 0.0])\n",
    "    lst_target.append(5)  # 'large_d'\n",
    "\n",
    "for d in np.arange(-0.2, 0.6, 0.1):\n",
    "    lst_points.append([d, 0.0])\n",
    "    lst_target.append(7) #'Haldane'\n",
    "\n",
    "\n",
    "points = np.array(lst_points)\n",
    "targets = np.array(lst_target)\n"
   ]
  },
  {
   "cell_type": "code",
   "execution_count": null,
   "metadata": {},
   "outputs": [],
   "source": [
    "plt.scatter(points[:, 0], points[:, 1], c=targets)\n",
    "\n",
    "plt.xlabel('D')\n",
    "plt.ylabel('E')\n",
    "plt.colorbar(label='Target')\n",
    "plt.title('Phase Diagram')\n",
    "\n",
    "plt.show()"
   ]
  },
  {
   "cell_type": "code",
   "execution_count": 45,
   "metadata": {},
   "outputs": [
    {
     "data": {
      "image/png": "[encoded data removed]",
      "text/plain": [
       "<Figure size 640x480 with 1 Axes>"
      ]
     },
     "metadata": {},
     "output_type": "display_data"
    }
   ],
   "source": [
    "mat = y_pred.reshape(40,40)\n",
    "r = mat.shape[0]\n",
    "c = mat.shape[1]\n",
    "dx = 4/r\n",
    "dy = 4/c\n",
    "\n",
    "for j in range(c):\n",
    "    for i in range(r):\n",
    "        if mat[j,i] == 1:\n",
    "            plt.scatter((i*dx)+dx/2,(j*dy)+dy/2,marker = 's', color = 'steelblue',s=320, edgecolors='none')\n",
    "        elif mat[j,i] == 2:\n",
    "            plt.scatter((i*dx)+dx/2,(j*dy)+dy/2,marker = 's', color ='lightseagreen',s =320,  edgecolors='none')\n",
    "        elif mat[j,i] == 3:\n",
    "            plt.scatter((i*dx)+dx/2,(j*dy)+dy/2,marker = 's', color ='skyblue',s =320,  edgecolors='none')\n",
    "        elif mat[j,i] == 4:\n",
    "            plt.scatter((i*dx)+dx/2,(j*dy)+dy/2,marker = 's', color ='yellowgreen',s =320,  edgecolors='none')\n",
    "        elif mat[j,i] == 5:\n",
    "            plt.scatter((i*dx)+dx/2,(j*dy)+dy/2,marker = 's', color ='seagreen',s =320,  edgecolors='none')\n",
    "        elif mat[j,i] == 6:\n",
    "            plt.scatter((i*dx)+dx/2,(j*dy)+dy/2,marker = 's', color ='cadetblue',s =320,  edgecolors='none')\n",
    "        elif mat[j,i] == 7:\n",
    "            plt.scatter((i*dx)+dx/2,(j*dy)+dy/2,marker = 's', color ='gold',s =320,  edgecolors='none')\n",
    "\n",
    "plt.scatter(points[:, 0]+2, points[:, 1]+2, marker='x',color='black', s=15)\n",
    "plt.gca().set_aspect('equal')\n",
    "plt.xlim([-0.04,4.04])\n",
    "plt.ylim([-0.04,4.04])\n",
    "plt.xticks([0,1,2,3,4],[-2,-1,0,1,2])\n",
    "plt.yticks([0,1,2,3,4],[-2,-1,0,1,2])\n",
    "plt.xlabel('$D/J$')\n",
    "plt.ylabel('E/J')\n",
    "plt.savefig('anisotropic_Haldan_svm.png')\n",
    "plt.show()\n"
   ]
  }
 ],
 "metadata": {
  "kernelspec": {
   "display_name": "TN_QML",
   "language": "python",
   "name": "python3"
  },
  "language_info": {
   "codemirror_mode": {
    "name": "ipython",
    "version": 3
   },
   "file_extension": ".py",
   "mimetype": "text/x-python",
   "name": "python",
   "nbconvert_exporter": "python",
   "pygments_lexer": "ipython3",
   "version": "3.12.3"
  }
 },
 "nbformat": 4,
 "nbformat_minor": 2
}
