{
 "cells": [
  {
   "cell_type": "code",
   "execution_count": 1,
   "id": "4744a76b",
   "metadata": {},
   "outputs": [],
   "source": [
    "import os\n",
    "import pickle\n",
    "import pandas as pd\n",
    "pd.set_option('display.max_rows', None)\n",
    "import matplotlib.pyplot as plt\n",
    "from sklearn import svm\n",
    "import matplotlib.pyplot as plt\n",
    "from Haldane_anis_supervise_class import *\n",
    "from partial import *"
   ]
  },
  {
   "cell_type": "code",
   "execution_count": null,
   "id": "647cfca0",
   "metadata": {},
   "outputs": [],
   "source": [
    "L = 31  # number of particles must be odd\n",
    "bond = 50  # reasonable amount\n",
    "p = partial(L, bond)"
   ]
  },
  {
   "cell_type": "code",
   "execution_count": 4,
   "id": "c270aece",
   "metadata": {},
   "outputs": [
    {
     "name": "stdout",
     "output_type": "stream",
     "text": [
      "Starting dataset generation — this step includes both the training and test sets. Please be patient...\n"
     ]
    },
    {
     "name": "stderr",
     "output_type": "stream",
     "text": [
      "Generating train set: 100%|██████████| 187/187 [00:04<00:00, 40.07it/s] \n"
     ]
    },
    {
     "name": "stdout",
     "output_type": "stream",
     "text": [
      "Train_set is generated in 5.08 seconds.\n"
     ]
    }
   ],
   "source": [
    "train_set,_ = p.generate_dataset(generate_test_set=False)"
   ]
  },
  {
   "cell_type": "code",
   "execution_count": null,
   "id": "a840a66d",
   "metadata": {},
   "outputs": [],
   "source": [
    "keep = [0,1] # keep the part that we wanna do partial trace over that\n",
    "partial_density_matrix_train, partial_density_matrix_test = p.partial_density_matrix(keep=keep)\n",
    "kernel_partial_train = p.gram_train_partial(partial_train=partial_density_matrix_train, keep=keep)\n",
    "kernel_partial_test = p.gram_test_partial(partial_train=partial_density_matrix_train, partial_test=partial_density_matrix_test, keep=keep)"
   ]
  },
  {
   "cell_type": "code",
   "execution_count": null,
   "id": "4a55624a",
   "metadata": {},
   "outputs": [],
   "source": [
    "keep = [0,1,2] # keep the part that we wanna do partial trace over that\n",
    "partial_density_matrix_train, partial_density_matrix_test = p.partial_density_matrix(keep=keep)\n",
    "kernel_partial_train = p.gram_train_partial(partial_train=partial_density_matrix_train, keep=keep)\n",
    "kernel_partial_test = p.gram_test_partial(partial_train=partial_density_matrix_train, partial_test=partial_density_matrix_test, keep=keep)"
   ]
  },
  {
   "cell_type": "code",
   "execution_count": null,
   "id": "cf83f1d7",
   "metadata": {},
   "outputs": [],
   "source": [
    "keep = [0,1,2,3] # keep the part that we wanna do partial trace over that\n",
    "partial_density_matrix_train, partial_density_matrix_test = p.partial_density_matrix(keep=keep)\n",
    "kernel_partial_train = p.gram_train_partial(partial_train=partial_density_matrix_train, keep=keep)\n",
    "kernel_partial_test = p.gram_test_partial(partial_train=partial_density_matrix_train, partial_test=partial_density_matrix_test, keep=keep)"
   ]
  },
  {
   "cell_type": "code",
   "execution_count": null,
   "id": "fb937cf5",
   "metadata": {},
   "outputs": [],
   "source": [
    "keep = [24,25,26] # keep the part that we wanna do partial trace over that\n",
    "partial_density_matrix_train, partial_density_matrix_test = p.partial_density_matrix(keep=keep)\n",
    "kernel_partial_train = p.gram_train_partial(partial_train=partial_density_matrix_train, keep=keep)\n",
    "kernel_partial_test = p.gram_test_partial(partial_train=partial_density_matrix_train, partial_test=partial_density_matrix_test, keep=keep)"
   ]
  },
  {
   "cell_type": "code",
   "execution_count": null,
   "id": "971d197f",
   "metadata": {},
   "outputs": [],
   "source": [
    "keep = [24,25,26,27] # keep the part that we wanna do partial trace over that\n",
    "partial_density_matrix_train, partial_density_matrix_test = p.partial_density_matrix(keep=keep)\n",
    "kernel_partial_train = p.gram_train_partial(partial_train=partial_density_matrix_train, keep=keep)\n",
    "kernel_partial_test = p.gram_test_partial(partial_train=partial_density_matrix_train, partial_test=partial_density_matrix_test, keep=keep)"
   ]
  }
 ],
 "metadata": {
  "kernelspec": {
   "display_name": "QML_TN",
   "language": "python",
   "name": "python3"
  },
  "language_info": {
   "codemirror_mode": {
    "name": "ipython",
    "version": 3
   },
   "file_extension": ".py",
   "mimetype": "text/x-python",
   "name": "python",
   "nbconvert_exporter": "python",
   "pygments_lexer": "ipython3",
   "version": "3.12.3"
  }
 },
 "nbformat": 4,
 "nbformat_minor": 5
}
