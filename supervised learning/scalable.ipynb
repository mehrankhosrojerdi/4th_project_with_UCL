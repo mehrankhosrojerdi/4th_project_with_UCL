{
 "cells": [
  {
   "cell_type": "code",
   "execution_count": 1,
   "id": "4744a76b",
   "metadata": {},
   "outputs": [],
   "source": [
    "import os\n",
    "import pickle\n",
    "import pandas as pd\n",
    "pd.set_option('display.max_rows', None)\n",
    "import matplotlib.pyplot as plt\n",
    "from sklearn import svm\n",
    "import matplotlib.pyplot as plt\n",
    "from Haldane_anis_supervise_class import *\n",
    "from partial import *"
   ]
  },
  {
   "cell_type": "code",
   "execution_count": 2,
   "id": "647cfca0",
   "metadata": {},
   "outputs": [],
   "source": [
    "bond = 50  "
   ]
  },
  {
   "cell_type": "markdown",
   "id": "a885cadc",
   "metadata": {},
   "source": [
    "## these are for the case of the boundry sites in the scalable case"
   ]
  },
  {
   "cell_type": "code",
   "execution_count": null,
   "id": "c2a11e55",
   "metadata": {},
   "outputs": [
    {
     "name": "stderr",
     "output_type": "stream",
     "text": [
      "Tracing train set: 100%|██████████| 187/187 [00:01<00:00, 98.19it/s]\n",
      "Generating test set: 100%|██████████| 1600/1600 [00:16<00:00, 95.91it/s] \n",
      "Gram Test Scalable: 100%|██████████| 1600/1600 [00:06<00:00, 230.92it/s]\n"
     ]
    },
    {
     "name": "stdout",
     "output_type": "stream",
     "text": [
      "Kernel test set saved to ./dataset_L=51_bond=50_partial(keeping 3 sites)/kernel_test_scalable_from_2_to_4.hdf5\n"
     ]
    }
   ],
   "source": [
    "keep = [0] \n",
    "L = len(keep)  # <------------ specify the length of the chain each time (change this from 1 to 10)\n",
    "H = Haldan_anis(L = L, bond = bond, keep = keep)\n",
    "test_kernel_scalable = H.generate_test_kernel()"
   ]
  },
  {
   "cell_type": "code",
   "execution_count": null,
   "id": "51799001",
   "metadata": {},
   "outputs": [],
   "source": [
    "keep = [0,1] \n",
    "L = len(keep)  # <------------ specify the length of the chain each time (change this from 1 to 10)\n",
    "H = Haldan_anis(L = L, bond = bond, keep = keep)\n",
    "test_kernel_scalable = H.generate_test_kernel()"
   ]
  },
  {
   "cell_type": "code",
   "execution_count": null,
   "id": "5b9c6e64",
   "metadata": {},
   "outputs": [],
   "source": [
    "keep = [0,1,2] \n",
    "L = len(keep)  # <------------ specify the length of the chain each time (change this from 1 to 10)\n",
    "H = Haldan_anis(L = L, bond = bond, keep = keep)\n",
    "test_kernel_scalable = H.generate_test_kernel()"
   ]
  },
  {
   "cell_type": "code",
   "execution_count": null,
   "id": "8ee55e54",
   "metadata": {},
   "outputs": [],
   "source": [
    "keep = [0,1,2,3] \n",
    "L = len(keep)  # <------------ specify the length of the chain each time (change this from 1 to 10)\n",
    "H = Haldan_anis(L = L, bond = bond, keep = keep)\n",
    "test_kernel_scalable = H.generate_test_kernel()"
   ]
  },
  {
   "cell_type": "code",
   "execution_count": null,
   "id": "bc75d3b4",
   "metadata": {},
   "outputs": [],
   "source": [
    "keep = [0,1,2,3,4] \n",
    "L = len(keep)  # <------------ specify the length of the chain each time (change this from 1 to 10)\n",
    "H = Haldan_anis(L = L, bond = bond, keep = keep)\n",
    "test_kernel_scalable = H.generate_test_kernel()"
   ]
  },
  {
   "cell_type": "markdown",
   "id": "5a439945",
   "metadata": {},
   "source": [
    "## These are for the scalable part again but when we are tracing out from the middle part. please specify which sites you kept in your calculation"
   ]
  },
  {
   "cell_type": "code",
   "execution_count": null,
   "id": "8bf8b942",
   "metadata": {},
   "outputs": [],
   "source": [
    "keep = [ ] # <------------ specify the particles to keep each time (based on your keeping sites)\n",
    "L = len(keep)  # <------------ specify the length of the chain each time (change this from 1 to 10)\n",
    "H = Haldan_anis(L = L, bond = bond, keep = keep)\n",
    "test_kernel_scalable = H.generate_test_kernel()"
   ]
  },
  {
   "cell_type": "code",
   "execution_count": null,
   "id": "baea01e0",
   "metadata": {},
   "outputs": [],
   "source": [
    "keep = [ , ] # <------------ specify the particles to keep each time (based on your keeping sites)\n",
    "L = len(keep)  # <------------ specify the length of the chain each time (change this from 1 to 10)\n",
    "H = Haldan_anis(L = L, bond = bond, keep = keep)\n",
    "test_kernel_scalable = H.generate_test_kernel()"
   ]
  },
  {
   "cell_type": "code",
   "execution_count": null,
   "id": "73664009",
   "metadata": {},
   "outputs": [],
   "source": [
    "keep = [ , , ] # <------------ specify the particles to keep each time (based on your keeping sites)\n",
    "L = len(keep)  # <------------ specify the length of the chain each time (change this from 1 to 10)\n",
    "H = Haldan_anis(L = L, bond = bond, keep = keep)\n",
    "test_kernel_scalable = H.generate_test_kernel()"
   ]
  },
  {
   "cell_type": "code",
   "execution_count": null,
   "id": "6da45fc6",
   "metadata": {},
   "outputs": [],
   "source": [
    "keep = [ , , , ] # <------------ specify the particles to keep each time (based on your keeping sites)\n",
    "L = len(keep)  # <------------ specify the length of the chain each time (change this from 1 to 10)\n",
    "H = Haldan_anis(L = L, bond = bond, keep = keep)\n",
    "test_kernel_scalable = H.generate_test_kernel()"
   ]
  },
  {
   "cell_type": "code",
   "execution_count": null,
   "id": "03f84cb6",
   "metadata": {},
   "outputs": [],
   "source": [
    "keep = [ , , , , ] # <------------ specify the particles to keep each time (based on your keeping sites)\n",
    "L = len(keep)  # <------------ specify the length of the chain each time (change this from 1 to 10)\n",
    "H = Haldan_anis(L = L, bond = bond, keep = keep)\n",
    "test_kernel_scalable = H.generate_test_kernel()"
   ]
  }
 ],
 "metadata": {
  "kernelspec": {
   "display_name": "QML_TN",
   "language": "python",
   "name": "python3"
  },
  "language_info": {
   "codemirror_mode": {
    "name": "ipython",
    "version": 3
   },
   "file_extension": ".py",
   "mimetype": "text/x-python",
   "name": "python",
   "nbconvert_exporter": "python",
   "pygments_lexer": "ipython3",
   "version": "3.12.3"
  }
 },
 "nbformat": 4,
 "nbformat_minor": 5
}
