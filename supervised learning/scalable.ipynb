{
 "cells": [
  {
   "cell_type": "code",
   "execution_count": 1,
   "id": "4744a76b",
   "metadata": {},
   "outputs": [],
   "source": [
    "import os\n",
    "import pickle\n",
    "import pandas as pd\n",
    "pd.set_option('display.max_rows', None)\n",
    "import matplotlib.pyplot as plt\n",
    "from sklearn import svm\n",
    "import matplotlib.pyplot as plt\n",
    "from Haldane_anis_supervise_class import *\n",
    "from partial import *"
   ]
  },
  {
   "cell_type": "code",
   "execution_count": 2,
   "id": "647cfca0",
   "metadata": {},
   "outputs": [],
   "source": [
    "bond = 50  "
   ]
  },
  {
   "cell_type": "code",
   "execution_count": 3,
   "id": "c2a11e55",
   "metadata": {},
   "outputs": [],
   "source": [
    "L = 3 # <------------ specify the length of the chain each time (change this from 1 to 10)\n",
    "keep = [2,3,4] # <------------ specify the particles to keep each time (based on your keeping sites)\n",
    "H = Haldan_anis(L = L, bond = bond, keep = keep)"
   ]
  },
  {
   "cell_type": "code",
   "execution_count": 4,
   "id": "b2fd5784",
   "metadata": {},
   "outputs": [
    {
     "name": "stderr",
     "output_type": "stream",
     "text": [
      "Tracing train set: 100%|██████████| 187/187 [00:01<00:00, 164.84it/s]\n",
      "Generating test set: 100%|██████████| 1600/1600 [00:18<00:00, 87.84it/s]\n",
      "Gram Test Scalable:   0%|          | 0/1600 [00:00<?, ?it/s]\n"
     ]
    },
    {
     "ename": "ValueError",
     "evalue": "matmul: Input operand 1 has a mismatch in its core dimension 0, with gufunc signature (n?,k),(k,m?)->(n?,m?) (size 27 is different from 64)",
     "output_type": "error",
     "traceback": [
      "\u001b[0;31m---------------------------------------------------------------------------\u001b[0m",
      "\u001b[0;31mValueError\u001b[0m                                Traceback (most recent call last)",
      "Cell \u001b[0;32mIn[4], line 1\u001b[0m\n\u001b[0;32m----> 1\u001b[0m test_kernel_scalable \u001b[38;5;241m=\u001b[39m \u001b[43mH\u001b[49m\u001b[38;5;241;43m.\u001b[39;49m\u001b[43mgenerate_test_kernel\u001b[49m\u001b[43m(\u001b[49m\u001b[43m)\u001b[49m\n",
      "File \u001b[0;32m~/4th_project_with_UCL/supervised learning/Haldane_anis_supervise_class.py:251\u001b[0m, in \u001b[0;36mHaldan_anis.generate_test_kernel\u001b[0;34m(self)\u001b[0m\n\u001b[1;32m    248\u001b[0m \u001b[38;5;28;01mfor\u001b[39;00m i \u001b[38;5;129;01min\u001b[39;00m tqdm(\u001b[38;5;28mrange\u001b[39m(d1), desc\u001b[38;5;241m=\u001b[39m\u001b[38;5;124m'\u001b[39m\u001b[38;5;124mGram Test Scalable\u001b[39m\u001b[38;5;124m'\u001b[39m):\n\u001b[1;32m    249\u001b[0m     \u001b[38;5;28;01mfor\u001b[39;00m j \u001b[38;5;129;01min\u001b[39;00m \u001b[38;5;28mrange\u001b[39m(d2):\n\u001b[1;32m    250\u001b[0m         gram_matrix_test[i,j] \u001b[38;5;241m=\u001b[39m (\n\u001b[0;32m--> 251\u001b[0m             np\u001b[38;5;241m.\u001b[39mtrace(\u001b[43mtrace_test_set\u001b[49m\u001b[43m[\u001b[49m\u001b[43mi\u001b[49m\u001b[43m]\u001b[49m\u001b[43m \u001b[49m\u001b[38;5;241;43m@\u001b[39;49m\u001b[43m \u001b[49m\u001b[43mpartial_rhos_train\u001b[49m\u001b[43m[\u001b[49m\u001b[43mj\u001b[49m\u001b[43m]\u001b[49m)\u001b[38;5;241m.\u001b[39mreal)\n\u001b[1;32m    253\u001b[0m path_n \u001b[38;5;241m=\u001b[39m \u001b[38;5;124mf\u001b[39m\u001b[38;5;124m\"\u001b[39m\u001b[38;5;124m./dataset_L=51_bond=50_partial(keeping \u001b[39m\u001b[38;5;132;01m{\u001b[39;00m\u001b[38;5;28mlen\u001b[39m(\u001b[38;5;28mself\u001b[39m\u001b[38;5;241m.\u001b[39mkeep)\u001b[38;5;132;01m}\u001b[39;00m\u001b[38;5;124m sites)\u001b[39m\u001b[38;5;124m\"\u001b[39m\n\u001b[1;32m    255\u001b[0m file_path_kernel_test_scalable \u001b[38;5;241m=\u001b[39m os\u001b[38;5;241m.\u001b[39mpath\u001b[38;5;241m.\u001b[39mjoin(path_n,\u001b[38;5;124m\"\u001b[39m\u001b[38;5;124mkernel_test_scalable.hdf5\u001b[39m\u001b[38;5;124m\"\u001b[39m)\n",
      "\u001b[0;31mValueError\u001b[0m: matmul: Input operand 1 has a mismatch in its core dimension 0, with gufunc signature (n?,k),(k,m?)->(n?,m?) (size 27 is different from 64)"
     ]
    }
   ],
   "source": [
    "test_kernel_scalable = H.generate_test_kernel()"
   ]
  }
 ],
 "metadata": {
  "kernelspec": {
   "display_name": "QML_TN",
   "language": "python",
   "name": "python3"
  },
  "language_info": {
   "codemirror_mode": {
    "name": "ipython",
    "version": 3
   },
   "file_extension": ".py",
   "mimetype": "text/x-python",
   "name": "python",
   "nbconvert_exporter": "python",
   "pygments_lexer": "ipython3",
   "version": "3.12.3"
  }
 },
 "nbformat": 4,
 "nbformat_minor": 5
}
