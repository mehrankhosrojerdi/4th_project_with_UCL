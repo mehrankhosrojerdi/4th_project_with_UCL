{
 "cells": [
  {
   "cell_type": "code",
   "execution_count": 1,
   "id": "4744a76b",
   "metadata": {},
   "outputs": [],
   "source": [
    "import os\n",
    "import pickle\n",
    "import pandas as pd\n",
    "pd.set_option('display.max_rows', None)\n",
    "import matplotlib.pyplot as plt\n",
    "from sklearn import svm\n",
    "import matplotlib.pyplot as plt\n",
    "from Haldane_anis_supervise_class import *\n",
    "from partial import *"
   ]
  },
  {
   "cell_type": "code",
   "execution_count": 12,
   "id": "c2a11e55",
   "metadata": {},
   "outputs": [],
   "source": [
    "L = 5  # number of particles must be odd\n",
    "keep = [2,3,4] # keep the part that we wanna do partial trace over that\n",
    "bond = 10  # reasonable amount\n",
    "p = partial(L, keep, bond)"
   ]
  },
  {
   "cell_type": "code",
   "execution_count": 8,
   "id": "89c6dbc3",
   "metadata": {},
   "outputs": [
    {
     "name": "stdout",
     "output_type": "stream",
     "text": [
      "Computing partial density matrices started .....\n",
      "Ops! Test dataset not found. Generating it .....\n"
     ]
    },
    {
     "name": "stderr",
     "output_type": "stream",
     "text": [
      "Generating test set:  53%|█████▎    | 852/1600 [05:52<05:09,  2.42it/s]\n",
      "Generating test set: 100%|██████████| 1600/1600 [01:28<00:00, 18.11it/s]\n"
     ]
    },
    {
     "name": "stdout",
     "output_type": "stream",
     "text": [
      "Tracing over training set (187 items)...\n"
     ]
    },
    {
     "name": "stderr",
     "output_type": "stream",
     "text": [
      "Tracing train set: 100%|██████████| 187/187 [00:02<00:00, 90.77it/s]\n"
     ]
    },
    {
     "name": "stdout",
     "output_type": "stream",
     "text": [
      "Tracing over test set (1600 items)...\n"
     ]
    },
    {
     "name": "stderr",
     "output_type": "stream",
     "text": [
      "Tracing test set: 100%|██████████| 1600/1600 [00:00<00:00, 1956.55it/s]\n"
     ]
    },
    {
     "name": "stdout",
     "output_type": "stream",
     "text": [
      "Partial density matrices computed in 93.10 seconds.\n",
      "Computing Gram matrix for training set...\n"
     ]
    },
    {
     "name": "stderr",
     "output_type": "stream",
     "text": [
      "Gram Partial Train: 100%|██████████| 34969/34969 [00:00<00:00, 73729.28it/s]\n"
     ]
    },
    {
     "name": "stdout",
     "output_type": "stream",
     "text": [
      "Gram matrix for training set computed in 0.51 seconds.\n"
     ]
    }
   ],
   "source": [
    "path = p.path()\n",
    "\n",
    "# Load the training set and gram train partial density matrix\n",
    "train_path = os.path.join(path, 'train_set_DMRG.pkl')\n",
    "with open(train_path, 'rb') as f:\n",
    "    train_set = pickle.load(f)\n",
    "\n",
    "partial_density_matrix_train, _ = p.partial_density_matrix()\n",
    "kernel_partial_train = p.gram_train_partial(partial_train=partial_density_matrix_train)\n"
   ]
  },
  {
   "cell_type": "code",
   "execution_count": 5,
   "id": "676c692b",
   "metadata": {},
   "outputs": [],
   "source": [
    "L = len(keep) # number of particles for test part \n",
    "bond  = 50\n",
    "H = Haldan_anis(L = L, bond = bond)"
   ]
  },
  {
   "cell_type": "code",
   "execution_count": 6,
   "id": "dfce740a",
   "metadata": {},
   "outputs": [
    {
     "name": "stderr",
     "output_type": "stream",
     "text": [
      "Generating test set: 100%|██████████| 1600/1600 [00:18<00:00, 87.18it/s]\n"
     ]
    }
   ],
   "source": [
    "test_set = H.generate_test_set()\n",
    "d = len(test_set)  # dimension of the local Hilbert space\n",
    "trace_test_set=[]\n",
    "for i in range(d):\n",
    "    a = test_set[i].partial_trace_to_dense_canonical(where=[0,1,2])\n",
    "    trace_test_set.append(a)"
   ]
  },
  {
   "cell_type": "code",
   "execution_count": 10,
   "id": "ea56cc06",
   "metadata": {},
   "outputs": [
    {
     "name": "stderr",
     "output_type": "stream",
     "text": [
      "Gram Test Scalable: 100%|██████████| 1600/1600 [00:07<00:00, 225.66it/s]\n"
     ]
    }
   ],
   "source": [
    "d1 = len(trace_test_set)\n",
    "d2 = len(partial_density_matrix_train)\n",
    "gram_matrix_test = np.zeros((d1,d2))\n",
    "for i in tqdm(range(d1), desc='Gram Test Scalable'):\n",
    "    for j in range(d2):\n",
    "        gram_matrix_test[i,j] = (\n",
    "            np.trace(trace_test_set[i] @ partial_density_matrix_train[j]).real)**2\n",
    "        \n",
    "file_path_kernel_test_scalable = os.path.join(path,\"kernel_test_scalable.hdf5\")\n",
    "with h5py.File(file_path_kernel_test_scalable, \"w\") as f:\n",
    "    f.create_dataset(\"gram_test_scalable\", data=gram_matrix_test)"
   ]
  },
  {
   "cell_type": "code",
   "execution_count": 11,
   "id": "d4546bd9",
   "metadata": {},
   "outputs": [
    {
     "data": {
      "image/png": "[encoded data removed]",
      "text/plain": [
       "<Figure size 640x480 with 1 Axes>"
      ]
     },
     "metadata": {},
     "output_type": "display_data"
    }
   ],
   "source": [
    "clf = svm.SVC(kernel='precomputed')\n",
    "kernel_train = kernel_partial_train\n",
    "kernel_test = gram_matrix_test\n",
    "y = train_set[1]\n",
    "clf.fit(kernel_train**0.1, y) \n",
    "y_pred = clf.predict(kernel_test)\n",
    "plt.imshow(y_pred.reshape(40,40))\n",
    "plt.savefig(f'result for DMRG states with L={L} and bond dimension ={bond}.png')\n",
    "plt.show()"
   ]
  }
 ],
 "metadata": {
  "kernelspec": {
   "display_name": "QML_TN",
   "language": "python",
   "name": "python3"
  },
  "language_info": {
   "codemirror_mode": {
    "name": "ipython",
    "version": 3
   },
   "file_extension": ".py",
   "mimetype": "text/x-python",
   "name": "python",
   "nbconvert_exporter": "python",
   "pygments_lexer": "ipython3",
   "version": "3.12.3"
  }
 },
 "nbformat": 4,
 "nbformat_minor": 5
}
