{
 "cells": [
  {
   "cell_type": "code",
   "execution_count": 1,
   "id": "4744a76b",
   "metadata": {},
   "outputs": [],
   "source": [
    "import os\n",
    "import pickle\n",
    "import pandas as pd\n",
    "pd.set_option('display.max_rows', None)\n",
    "import matplotlib.pyplot as plt\n",
    "from sklearn import svm\n",
    "import matplotlib.pyplot as plt\n",
    "from Haldane_anis_supervise_class import *\n",
    "from partial import *"
   ]
  },
  {
   "cell_type": "code",
   "execution_count": 2,
   "id": "647cfca0",
   "metadata": {},
   "outputs": [],
   "source": [
    "bond = 50  "
   ]
  },
  {
   "cell_type": "code",
   "execution_count": 3,
   "id": "c2a11e55",
   "metadata": {},
   "outputs": [],
   "source": [
    "L = 3 # <------------ specify the length of the chain each time (change this from 1 to 10)\n",
    "keep = [2,3,4] # <------------ specify the particles to keep each time (based on your keeping sites)\n",
    "H = Haldan_anis(L = L, bond = bond, keep = keep)"
   ]
  },
  {
   "cell_type": "code",
   "execution_count": 4,
   "id": "b2fd5784",
   "metadata": {},
   "outputs": [
    {
     "name": "stderr",
     "output_type": "stream",
     "text": [
      "Tracing train set: 100%|██████████| 187/187 [00:01<00:00, 172.75it/s]\n",
      "Generating test set: 100%|██████████| 1600/1600 [00:07<00:00, 218.88it/s]\n",
      "Gram Test Scalable: 100%|██████████| 1600/1600 [00:03<00:00, 515.85it/s]"
     ]
    },
    {
     "name": "stdout",
     "output_type": "stream",
     "text": [
      "Kernel test set saved to ./dataset_L=51_bond=50_partial(keeping 3 sites)/kernel_test_scalable.hdf5\n"
     ]
    },
    {
     "name": "stderr",
     "output_type": "stream",
     "text": [
      "\n"
     ]
    }
   ],
   "source": [
    "test_kernel_scalable = H.generate_test_kernel()"
   ]
  }
 ],
 "metadata": {
  "kernelspec": {
   "display_name": "QML_TN",
   "language": "python",
   "name": "python3"
  },
  "language_info": {
   "codemirror_mode": {
    "name": "ipython",
    "version": 3
   },
   "file_extension": ".py",
   "mimetype": "text/x-python",
   "name": "python",
   "nbconvert_exporter": "python",
   "pygments_lexer": "ipython3",
   "version": "3.12.3"
  }
 },
 "nbformat": 4,
 "nbformat_minor": 5
}
