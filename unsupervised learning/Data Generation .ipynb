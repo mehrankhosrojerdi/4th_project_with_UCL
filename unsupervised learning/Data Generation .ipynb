{
 "cells": [
  {
   "cell_type": "code",
   "execution_count": 1,
   "metadata": {
    "metadata": {}
   },
   "outputs": [],
   "source": [
    "import gc\n",
    "import os\n",
    "import h5py\n",
    "import numpy as np\n",
    "import matplotlib.pyplot as plt\n",
    "from Haldane_anis_unsupervised_class import *\n",
    "import pickle\n",
    "from quimb.tensor import Tensor"
   ]
  },
  {
   "cell_type": "code",
   "execution_count": 2,
   "metadata": {
    "metadata": {}
   },
   "outputs": [],
   "source": [
    "L = 8 \n",
    "ls = 10 # even\n",
    "bond = 3 # resonable amount\n",
    "path  = f\"../Unsupervised_learning/dataset_L={L}_bond={bond}_ls={ls}\"\n",
    "os.makedirs(path, exist_ok=True)"
   ]
  },
  {
   "cell_type": "code",
   "execution_count": 3,
   "metadata": {
    "metadata": {}
   },
   "outputs": [
    {
     "name": "stderr",
     "output_type": "stream",
     "text": [
      "/home/mehran/TN_QML/lib/python3.12/site-packages/quimb/core.py:45: UserWarning: 'NUMBA_NUM_THREADS' has been set elsewhere and doesn't match the value 'quimb' has tried to set - 4 vs 1.\n",
      "  warnings.warn(\n",
      "/home/mehran/TN_QML/lib/python3.12/site-packages/quimb/core.py:45: UserWarning: 'NUMBA_NUM_THREADS' has been set elsewhere and doesn't match the value 'quimb' has tried to set - 4 vs 1.\n",
      "  warnings.warn(\n",
      "/home/mehran/TN_QML/lib/python3.12/site-packages/quimb/core.py:45: UserWarning: 'NUMBA_NUM_THREADS' has been set elsewhere and doesn't match the value 'quimb' has tried to set - 4 vs 1.\n",
      "  warnings.warn(\n",
      "/home/mehran/TN_QML/lib/python3.12/site-packages/quimb/core.py:45: UserWarning: 'NUMBA_NUM_THREADS' has been set elsewhere and doesn't match the value 'quimb' has tried to set - 4 vs 1.\n",
      "  warnings.warn(\n",
      "/home/mehran/TN_QML/lib/python3.12/site-packages/quimb/core.py:45: UserWarning: 'NUMBA_NUM_THREADS' has been set elsewhere and doesn't match the value 'quimb' has tried to set - 4 vs 1.\n",
      "  warnings.warn(\n"
     ]
    },
    {
     "data": {
      "text/plain": [
       "1244"
      ]
     },
     "execution_count": 3,
     "metadata": {},
     "output_type": "execute_result"
    }
   ],
   "source": [
    "dataset = Haldan_anis_unsupervised(L = L, ls = ls, bond = bond).generate_Entire_set() # dataset = DMRG_states\n",
    "\n",
    "file_path = os.path.join(path, 'dataset.pkl')\n",
    "with open(file_path, \"wb\") as f:\n",
    "    pickle.dump(dataset, f)\n",
    "gc.collect(2)"
   ]
  },
  {
   "cell_type": "code",
   "execution_count": 4,
   "metadata": {},
   "outputs": [
    {
     "data": {
      "text/plain": [
       "0"
      ]
     },
     "execution_count": 4,
     "metadata": {},
     "output_type": "execute_result"
    }
   ],
   "source": [
    "def gram_matrix_DMRG():\n",
    "\n",
    "    with open(file_path, \"rb\") as f:\n",
    "        loaded_dataset = pickle.load(f)\n",
    "\n",
    "    d = loaded_dataset.shape[0]\n",
    "    gs = loaded_dataset\n",
    "    afinity_train = np.zeros((d,d))\n",
    "    for i in range(0,d):\n",
    "        for j in range(i,d):\n",
    "            afinity_train[i,j] = np.abs(gs[i].H @ gs[j])**2\n",
    "            afinity_train[j,i] = afinity_train[i,j]\n",
    "\n",
    "\n",
    "    return afinity_train\n",
    "\n",
    "file_path_11= os.path.join(path, \"kernel_test_Haldane.hdf5\")\n",
    "with h5py.File(file_path_11, \"w\") as f:\n",
    "    f.create_dataset(\" gram_matrix_DMRG\", data = gram_matrix_DMRG())\n",
    "    \n",
    "gc.collect(2)"
   ]
  },
  {
   "cell_type": "code",
   "execution_count": null,
   "metadata": {},
   "outputs": [
    {
     "data": {
      "text/plain": [
       "0"
      ]
     },
     "execution_count": 7,
     "metadata": {},
     "output_type": "execute_result"
    }
   ],
   "source": [
    "'''def gram_matrix_DMRG_11():\n",
    "\n",
    "    with open(file_path, \"rb\") as f:\n",
    "        loaded_dataset = pickle.load(f)\n",
    "\n",
    "    d = loaded_dataset.shape[0]\n",
    "    gs = loaded_dataset\n",
    "    afinity_train = np.zeros((int(d/2),int(d/2)))\n",
    "    for i in range(0,int(d/2)):\n",
    "        for j in range(i,int(d/2)):\n",
    "            afinity_train[i,j] = np.abs(gs[i].H @ gs[j])**2\n",
    "            \n",
    "\n",
    "    return afinity_train\n",
    "\n",
    "file_path_11= os.path.join(path, \"kernel_test_Haldane_11.hdf5\")\n",
    "with h5py.File(file_path_11, \"w\") as f:\n",
    "    f.create_dataset(\" gram_matrix_DMRG_11\", data = gram_matrix_DMRG_11())\n",
    "    \n",
    "gc.collect(2)'''"
   ]
  },
  {
   "cell_type": "code",
   "execution_count": null,
   "metadata": {},
   "outputs": [
    {
     "data": {
      "text/plain": [
       "0"
      ]
     },
     "execution_count": 27,
     "metadata": {},
     "output_type": "execute_result"
    }
   ],
   "source": [
    "'''def gram_matrix_DMRG_12():\n",
    "\n",
    "    with open(file_path, \"rb\") as f:\n",
    "        loaded_dataset = pickle.load(f)\n",
    "\n",
    "    d = loaded_dataset.shape[0]\n",
    "    gs = loaded_dataset\n",
    "    afinity_train = np.zeros((int(d/2),int(d/2)))\n",
    "    for i in range(0,int(d/2)):\n",
    "        for j in range(int(d/2),d):\n",
    "            afinity_train[i,j-int(d/2)] = np.abs(gs[i].H @ gs[j])**2\n",
    "\n",
    "    return afinity_train\n",
    "\n",
    "file_path_12 = os.path.join(path, \"kernel_test_Haldane_12.hdf5\")\n",
    "with h5py.File(file_path_12, \"w\") as f:\n",
    "    f.create_dataset(\" gram_matrix_DMRG_12\", data = gram_matrix_DMRG_12())\n",
    "    \n",
    "gc.collect(2)'''"
   ]
  },
  {
   "cell_type": "code",
   "execution_count": null,
   "metadata": {},
   "outputs": [],
   "source": [
    "'''def gram_matrix_DMRG_21():\n",
    "\n",
    "    with open(file_path, \"rb\") as f:\n",
    "        loaded_dataset = pickle.load(f)\n",
    "\n",
    "    d = loaded_dataset.shape[0]\n",
    "    gs = loaded_dataset\n",
    "    afinity_train = np.zeros((int(d/2),int(d/2)))\n",
    "    for i in range(int(d/2),d):\n",
    "        for j in range(0,int(d/2)):\n",
    "            afinity_train[i-int(d/2),j] = np.abs(gs[i].H @ gs[j])**2\n",
    "\n",
    "    return afinity_train\n",
    "\n",
    "file_path_21 = os.path.join(path, \"kernel_test_Haldane_21.hdf5\")\n",
    "with h5py.File(file_path_21, \"w\") as f:\n",
    "    f.create_dataset(\" gram_matrix_DMRG_21\", data = gram_matrix_DMRG_21())\n",
    "    \n",
    "gc.collect(2)'''"
   ]
  },
  {
   "cell_type": "code",
   "execution_count": null,
   "metadata": {},
   "outputs": [
    {
     "data": {
      "text/plain": [
       "0"
      ]
     },
     "execution_count": 20,
     "metadata": {},
     "output_type": "execute_result"
    }
   ],
   "source": [
    "'''def gram_matrix_DMRG_22():\n",
    "\n",
    "    with open(file_path, \"rb\") as f:\n",
    "        loaded_dataset = pickle.load(f)\n",
    "\n",
    "    d = loaded_dataset.shape[0]\n",
    "    gs = loaded_dataset\n",
    "    afinity_train = np.zeros((int(d/2),int(d/2)))\n",
    "    for i in range(int(d/2),d):\n",
    "        for j in range(int(d/2),d):\n",
    "            afinity_train[i-int(d/2),j-int(d/2)] = np.abs(gs[i].H @ gs[j])**2\n",
    "    return afinity_train\n",
    "\n",
    "file_path_22 = os.path.join(path, \"kernel_test_Haldane_22.hdf5\")\n",
    "with h5py.File(file_path_22, \"w\") as f:\n",
    "    f.create_dataset(\" gram_matrix_DMRG_22\", data = gram_matrix_DMRG_22())\n",
    "    \n",
    "gc.collect(2)'''"
   ]
  },
  {
   "cell_type": "code",
   "execution_count": null,
   "metadata": {},
   "outputs": [],
   "source": [
    "'''res11 = h5py.File(file_path_11 ,'r')[' gram_matrix_DMRG_11'][:]\n",
    "res12 = h5py.File(file_path_12 ,'r')[' gram_matrix_DMRG_12'][:]\n",
    "res21 = h5py.File(file_path_21 ,'r')[' gram_matrix_DMRG_21'][:]\n",
    "res22 = h5py.File(file_path_22 ,'r')[' gram_matrix_DMRG_22'][:]\n",
    "kernel = np.block([[res11, res12],\n",
    "                  [res21, res22]])'''"
   ]
  }
 ],
 "metadata": {
  "colab": {
   "provenance": []
  },
  "kernelspec": {
   "display_name": "TN_QML",
   "language": "python",
   "name": "python3"
  },
  "language_info": {
   "codemirror_mode": {
    "name": "ipython",
    "version": 3
   },
   "file_extension": ".py",
   "mimetype": "text/x-python",
   "name": "python",
   "nbconvert_exporter": "python",
   "pygments_lexer": "ipython3",
   "version": "3.12.3"
  }
 },
 "nbformat": 4,
 "nbformat_minor": 0
}
