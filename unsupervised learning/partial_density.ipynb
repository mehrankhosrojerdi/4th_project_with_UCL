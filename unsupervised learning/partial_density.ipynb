{
 "cells": [
  {
   "cell_type": "code",
   "execution_count": 1,
   "metadata": {},
   "outputs": [],
   "source": [
    "import pandas as pd\n",
    "pd.set_option('display.max_rows', None)\n",
    "import matplotlib.pyplot as plt\n",
    "from sklearn import svm\n",
    "import matplotlib.pyplot as plt\n",
    "from Haldane_anis_supervise_class import *\n",
    "from partial import *"
   ]
  },
  {
   "cell_type": "code",
   "execution_count": 2,
   "metadata": {},
   "outputs": [],
   "source": [
    "L = 51  # number of particles must be odd\n",
    "bond = 50  # reasonable amount\n",
    "p = partial(L, bond)"
   ]
  },
  {
   "cell_type": "code",
   "execution_count": 3,
   "metadata": {},
   "outputs": [
    {
     "name": "stdout",
     "output_type": "stream",
     "text": [
      "Computing partial density matrices started .....\n",
      "Tracing over test set (1600 items)...\n"
     ]
    },
    {
     "name": "stderr",
     "output_type": "stream",
     "text": [
      "Tracing test set: 100%|██████████| 1600/1600 [00:13<00:00, 115.04it/s]\n"
     ]
    },
    {
     "name": "stdout",
     "output_type": "stream",
     "text": [
      "Partial density matrices computed in 15.05 seconds.\n",
      "Computing Gram matrix for training set...\n"
     ]
    },
    {
     "name": "stderr",
     "output_type": "stream",
     "text": [
      "Gram Partial Train: 100%|██████████| 2560000/2560000 [00:20<00:00, 126377.06it/s]"
     ]
    },
    {
     "name": "stdout",
     "output_type": "stream",
     "text": [
      "Gram matrix for training set computed in 20.29 seconds.\n"
     ]
    },
    {
     "name": "stderr",
     "output_type": "stream",
     "text": [
      "\n"
     ]
    }
   ],
   "source": [
    "keep = [0,1] \n",
    "partial_density_matrix_test = p.partial_density_matrix(keep=keep)\n",
    "kernel = p.gram_train_partial(partial_train=partial_density_matrix_test, keep=keep)"
   ]
  },
  {
   "cell_type": "code",
   "execution_count": null,
   "metadata": {},
   "outputs": [
    {
     "name": "stdout",
     "output_type": "stream",
     "text": [
      "Computing partial density matrices started .....\n"
     ]
    },
    {
     "name": "stderr",
     "output_type": "stream",
     "text": [
      "Tracing test set:   1%|          | 15/1600 [02:41<4:44:26, 10.77s/it]\n"
     ]
    },
    {
     "name": "stdout",
     "output_type": "stream",
     "text": [
      "Tracing over test set (1600 items)...\n"
     ]
    },
    {
     "name": "stderr",
     "output_type": "stream",
     "text": [
      "Tracing test set: 100%|██████████| 1600/1600 [00:03<00:00, 452.14it/s]\n"
     ]
    },
    {
     "name": "stdout",
     "output_type": "stream",
     "text": [
      "Partial density matrices computed in 5.06 seconds.\n"
     ]
    }
   ],
   "source": [
    "keep = [0,1,2] \n",
    "partial_density_matrix_test = p.partial_density_matrix(keep=keep)\n",
    "kernel = p.gram_train_partial(partial_train=partial_density_matrix_test, keep=keep)"
   ]
  },
  {
   "cell_type": "code",
   "execution_count": null,
   "metadata": {},
   "outputs": [],
   "source": [
    "keep = [0,1,2,3] \n",
    "partial_density_matrix_test = p.partial_density_matrix(keep=keep)\n",
    "kernel = p.gram_train_partial(partial_train=partial_density_matrix_test, keep=keep)"
   ]
  },
  {
   "cell_type": "code",
   "execution_count": null,
   "metadata": {},
   "outputs": [],
   "source": [
    "keep = [24,25,26] \n",
    "partial_density_matrix_test = p.partial_density_matrix(keep=keep)\n",
    "kernel = p.gram_train_partial(partial_train=partial_density_matrix_test, keep=keep)"
   ]
  },
  {
   "cell_type": "code",
   "execution_count": null,
   "metadata": {},
   "outputs": [],
   "source": [
    "keep = [24,25] \n",
    "partial_density_matrix_test = p.partial_density_matrix(keep=keep)\n",
    "kernel = p.gram_train_partial(partial_train=partial_density_matrix_test, keep=keep)"
   ]
  }
 ],
 "metadata": {
  "kernelspec": {
   "display_name": "TN_QML",
   "language": "python",
   "name": "python3"
  },
  "language_info": {
   "codemirror_mode": {
    "name": "ipython",
    "version": 3
   },
   "file_extension": ".py",
   "mimetype": "text/x-python",
   "name": "python",
   "nbconvert_exporter": "python",
   "pygments_lexer": "ipython3",
   "version": "3.12.3"
  }
 },
 "nbformat": 4,
 "nbformat_minor": 2
}
