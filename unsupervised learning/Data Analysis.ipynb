{
 "cells": [
  {
   "cell_type": "code",
   "execution_count": 35,
   "metadata": {
    "metadata": {}
   },
   "outputs": [],
   "source": [
    "import gc\n",
    "import os\n",
    "import h5py\n",
    "import numpy as np\n",
    "import matplotlib.pyplot as plt\n",
    "import matplotlib.patches as patches\n",
    "from sklearn.cluster import SpectralClustering\n",
    "from sklearn.metrics import silhouette_samples, silhouette_score"
   ]
  },
  {
   "cell_type": "code",
   "execution_count": 36,
   "metadata": {},
   "outputs": [],
   "source": [
    "path_new  = f\"train_set_L=51_test_set_L=51_partial_from_24_to_26_spins\""
   ]
  },
  {
   "cell_type": "code",
   "execution_count": 37,
   "metadata": {},
   "outputs": [],
   "source": [
    "file_path_new = os.path.join(path_new, \"kernel_train_Haldane_DMRG_partial_from_24_to_26_spins.hdf5\")\n",
    "kernel = h5py.File(file_path_new ,'r')['gram_train_DMRG_partial'][:]"
   ]
  },
  {
   "cell_type": "code",
   "execution_count": 38,
   "metadata": {
    "metadata": {}
   },
   "outputs": [],
   "source": [
    "from sklearn.cluster import SpectralClustering\n",
    "model = SpectralClustering(n_clusters=7, affinity='precomputed', assign_labels='discretize',random_state=0)\n",
    "model.fit(kernel)\n",
    "test_labels_S=model.labels_"
   ]
  },
  {
   "cell_type": "code",
   "execution_count": 39,
   "metadata": {},
   "outputs": [
    {
     "data": {
      "image/png": "[encoded data removed]",
      "text/plain": [
       "<Figure size 640x480 with 1 Axes>"
      ]
     },
     "metadata": {},
     "output_type": "display_data"
    }
   ],
   "source": [
    "ls = 40\n",
    "mat = test_labels_S.reshape(ls,ls) #   y = -1  Antiferromagnetic, y = 1  Paramagnetic, y = 0  SPT\n",
    "r = mat.shape[0]\n",
    "c = mat.shape[1]\n",
    "dy = 4/r\n",
    "dx = 4/c\n",
    "\n",
    "for i in range(r):\n",
    "    for j in range(c):\n",
    "        if mat[i,j] == 0:\n",
    "            plt.scatter(i*(4/r)+dx/2,j*(4/c)+dy/2,marker = 's', color = 'teal',s=300, edgecolors='none')\n",
    "        elif mat[i,j] == 1:\n",
    "            plt.scatter(i*(4/r)+dx/2,j*(4/c)+dy/2, marker = 's', color = 'darkviolet', s=300,  edgecolors='none')\n",
    "        elif mat[i,j] == 2:\n",
    "            plt.scatter(i*(4/r)+dx/2,j*(4/c)+dy/2,marker = 's', color ='gold',s =300,  edgecolors='none')\n",
    "        elif mat[i,j] == 3:\n",
    "            plt.scatter(i*(4/r)+dx/2,j*(4/c)+dy/2,marker = 's', color ='red',s =300,  edgecolors='none')\n",
    "        elif mat[i,j] == 4:\n",
    "            plt.scatter(i*(4/r)+dx/2,j*(4/c)+dy/2,marker = 's', color ='blue',s =300,  edgecolors='none')\n",
    "        elif mat[i,j] == 5:\n",
    "            plt.scatter(i*(4/r)+dx/2,j*(4/c)+dy/2,marker = 's', color ='green',s =300,  edgecolors='none')\n",
    "        elif mat[i,j] == 6:\n",
    "            plt.scatter(i*(4/r)+dx/2,j*(4/c)+dy/2,marker = 's', color ='black',s =300,  edgecolors='none')\n",
    "\n",
    "plt.xlabel('$D/J$')\n",
    "plt.ylabel('$E/J$')\n",
    "plt.title('Phase diagram')\n",
    "plt.xticks([0,1,2,3,4],[-2,-1,0,1,2])\n",
    "plt.yticks([0,1,2,3,4],[-2,-1,0,1,2])\n",
    "\n",
    "plt.savefig('./phase_diagram_DMRG_states for 51 paticle and keep from 24 to 26.png')\n",
    "plt.show()\n"
   ]
  }
 ],
 "metadata": {
  "colab": {
   "provenance": []
  },
  "kernelspec": {
   "display_name": "TN_QML",
   "language": "python",
   "name": "python3"
  },
  "language_info": {
   "codemirror_mode": {
    "name": "ipython",
    "version": 3
   },
   "file_extension": ".py",
   "mimetype": "text/x-python",
   "name": "python",
   "nbconvert_exporter": "python",
   "pygments_lexer": "ipython3",
   "version": "3.12.3"
  }
 },
 "nbformat": 4,
 "nbformat_minor": 0
}
