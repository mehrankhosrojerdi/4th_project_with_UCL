{
 "cells": [
  {
   "cell_type": "code",
   "execution_count": 1,
   "metadata": {
    "metadata": {}
   },
   "outputs": [],
   "source": [
    "import gc\n",
    "import os\n",
    "import h5py\n",
    "import numpy as np\n",
    "import matplotlib.pyplot as plt\n",
    "import matplotlib.patches as patches\n",
    "from sklearn.cluster import SpectralClustering\n",
    "from sklearn.metrics import silhouette_samples, silhouette_score"
   ]
  },
  {
   "cell_type": "code",
   "execution_count": null,
   "metadata": {},
   "outputs": [],
   "source": [
    "L = 51 \n",
    "ls = 20 # even\n",
    "bond = 50 # resonable amount\n",
    "path  = f\"/home/mehran/4th_project-Haldan_anisotropic/Unsupervised_learning/dataset_L={L}_bond={bond}_ls={ls}\""
   ]
  },
  {
   "cell_type": "code",
   "execution_count": 2,
   "metadata": {},
   "outputs": [],
   "source": [
    "path_new  = f\"train_set_L=51_test_set_L=51_partial_from_1_to_3_spins\""
   ]
  },
  {
   "cell_type": "code",
   "execution_count": 3,
   "metadata": {},
   "outputs": [],
   "source": [
    "file_path_11 = os.path.join(path, \"kernel_test_Haldane_11.hdf5\")\n",
    "file_path_12 = os.path.join(path, \"kernel_test_Haldane_12.hdf5\")\n",
    "file_path_21 = os.path.join(path, \"kernel_test_Haldane_21.hdf5\")\n",
    "file_path_22 = os.path.join(path, \"kernel_test_Haldane_22.hdf5\")\n",
    "res11 = h5py.File(file_path_11 ,'r')[' gram_matrix_DMRG_11'][:]\n",
    "res12 = h5py.File(file_path_12 ,'r')[' gram_matrix_DMRG_12'][:]\n",
    "res21 = h5py.File(file_path_21 ,'r')[' gram_matrix_DMRG_21'][:]\n",
    "res22 = h5py.File(file_path_22 ,'r')[' gram_matrix_DMRG_22'][:]\n",
    "kernel = np.block([[res11, res12],\n",
    "                  [res21, res22]])"
   ]
  },
  {
   "cell_type": "code",
   "execution_count": 4,
   "metadata": {},
   "outputs": [],
   "source": [
    "file_path_new = os.path.join(path_new, \"kernel_train_Haldane_DMRG_partial_from_1_to_3_spins.hdf5\")\n",
    "kernel = h5py.File(file_path_new ,'r')['gram_train_DMRG_partial'][:]"
   ]
  },
  {
   "cell_type": "code",
   "execution_count": 6,
   "metadata": {
    "metadata": {}
   },
   "outputs": [],
   "source": [
    "from sklearn.cluster import SpectralClustering\n",
    "model = SpectralClustering(n_clusters=7, affinity='precomputed', assign_labels='discretize',random_state=0)\n",
    "model.fit(kernel)\n",
    "test_labels_S=model.labels_"
   ]
  },
  {
   "cell_type": "code",
   "execution_count": 10,
   "metadata": {},
   "outputs": [
    {
     "data": {
      "image/png": "[encoded data removed]",
      "text/plain": [
       "<Figure size 640x480 with 1 Axes>"
      ]
     },
     "metadata": {},
     "output_type": "display_data"
    }
   ],
   "source": [
    "ls = 40\n",
    "mat = test_labels_S.reshape(ls,ls) #   y = -1  Antiferromagnetic, y = 1  Paramagnetic, y = 0  SPT\n",
    "r = mat.shape[0]\n",
    "c = mat.shape[1]\n",
    "dy = 4/r\n",
    "dx = 4/c\n",
    "\n",
    "for i in range(r):\n",
    "    for j in range(c):\n",
    "        if mat[i,j] == 0:\n",
    "            plt.scatter(i*(4/r)+dx/2,j*(4/c)+dy/2,marker = 's', color = 'teal',s=300, edgecolors='none')\n",
    "        elif mat[i,j] == 1:\n",
    "            plt.scatter(i*(4/r)+dx/2,j*(4/c)+dy/2, marker = 's', color = 'darkviolet', s=300,  edgecolors='none')\n",
    "        elif mat[i,j] == 2:\n",
    "            plt.scatter(i*(4/r)+dx/2,j*(4/c)+dy/2,marker = 's', color ='gold',s =300,  edgecolors='none')\n",
    "        elif mat[i,j] == 3:\n",
    "            plt.scatter(i*(4/r)+dx/2,j*(4/c)+dy/2,marker = 's', color ='red',s =300,  edgecolors='none')\n",
    "        elif mat[i,j] == 4:\n",
    "            plt.scatter(i*(4/r)+dx/2,j*(4/c)+dy/2,marker = 's', color ='blue',s =300,  edgecolors='none')\n",
    "        elif mat[i,j] == 5:\n",
    "            plt.scatter(i*(4/r)+dx/2,j*(4/c)+dy/2,marker = 's', color ='green',s =300,  edgecolors='none')\n",
    "        elif mat[i,j] == 6:\n",
    "            plt.scatter(i*(4/r)+dx/2,j*(4/c)+dy/2,marker = 's', color ='black',s =300,  edgecolors='none')\n",
    "\n",
    "plt.xlabel('$D/J$')\n",
    "plt.ylabel('$E/J$')\n",
    "plt.title('Phase diagram')\n",
    "plt.xticks([0,1,2,3,4],[-2,-1,0,1,2])\n",
    "plt.yticks([0,1,2,3,4],[-2,-1,0,1,2])\n",
    "\n",
    "plt.savefig('./phase_diagram_DMRG_states.png')\n",
    "plt.show()\n"
   ]
  }
 ],
 "metadata": {
  "colab": {
   "provenance": []
  },
  "kernelspec": {
   "display_name": "TN_QML",
   "language": "python",
   "name": "python3"
  },
  "language_info": {
   "codemirror_mode": {
    "name": "ipython",
    "version": 3
   },
   "file_extension": ".py",
   "mimetype": "text/x-python",
   "name": "python",
   "nbconvert_exporter": "python",
   "pygments_lexer": "ipython3",
   "version": "3.12.3"
  }
 },
 "nbformat": 4,
 "nbformat_minor": 0
}
